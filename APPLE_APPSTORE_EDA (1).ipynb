{
 "cells": [
  {
   "cell_type": "markdown",
   "id": "f0ee5978",
   "metadata": {
    "id": "f0ee5978",
    "papermill": {
     "duration": 0.01997,
     "end_time": "2023-08-21T09:04:53.312682",
     "exception": false,
     "start_time": "2023-08-21T09:04:53.292712",
     "status": "completed"
    },
    "tags": []
   },
   "source": [
    "\n",
    "\n",
    "## 1. Project: EDA on Apple Data set"
   ]
  },
  {
   "cell_type": "markdown",
   "id": "78d0f12c",
   "metadata": {
    "id": "78d0f12c",
    "papermill": {
     "duration": 0.019432,
     "end_time": "2023-08-21T09:04:53.390339",
     "exception": false,
     "start_time": "2023-08-21T09:04:53.370907",
     "status": "completed"
    },
    "tags": []
   },
   "source": [
    "#### 2.1.  Task\n",
    "I am excited to start an Exploratory Data Analysis on the Apple App Store dataset. EDA aims to familiarize oneself with the data, identify any issues, and uncover initial insights. Proper preparation involves handling missing values, formatting, normalizing features, and more. I will carefully clean and wrangle the data, documenting any changes or observations throughout the process. I plan to use a combination of visualizations and statistical summaries to understand the data's distribution, relationships between variables, outliers, and anomalies. My code will be annotated to track findings. I will summarize key takeaways and trends noticed during visualization and feature engineering analysis. Ultimately, I aim to synthesize my learnings into meaningful conclusions about the dataset's properties and quirks, providing a solid foundation for more advanced modeling. Ultimately, we will produce a summary and draw conclusions from our findings."
   ]
  },
  {
   "cell_type": "markdown",
   "id": "9e9d5ae7",
   "metadata": {
    "id": "9e9d5ae7",
    "papermill": {
     "duration": 0.018743,
     "end_time": "2023-08-21T09:04:53.428224",
     "exception": false,
     "start_time": "2023-08-21T09:04:53.409481",
     "status": "completed"
    },
    "tags": []
   },
   "source": [
    "#### 2.2. Objectives\n",
    "The objective of this project is to analyze app performance over time and guide developers in creating successful apps by understanding customer preferences."
   ]
  },
  {
   "cell_type": "markdown",
   "id": "3b570a3a",
   "metadata": {
    "id": "3b570a3a",
    "papermill": {
     "duration": 0.019479,
     "end_time": "2023-08-21T09:04:53.466925",
     "exception": false,
     "start_time": "2023-08-21T09:04:53.447446",
     "status": "completed"
    },
    "tags": []
   },
   "source": [
    "#### 2.3.  Kernel Version Used:\n",
    "Python 3.10.12"
   ]
  },
  {
   "cell_type": "markdown",
   "id": "44edf1ff",
   "metadata": {
    "id": "44edf1ff",
    "papermill": {
     "duration": 0.018918,
     "end_time": "2023-08-21T09:04:53.504940",
     "exception": false,
     "start_time": "2023-08-21T09:04:53.486022",
     "status": "completed"
    },
    "tags": []
   },
   "source": [
    "### 3. First of all Import the libraries\n",
    "We will use the follwoing libraries\n",
    "- Pandas: Data manipulation and analysis library.\n",
    "- Numpy: Numerical computing library.\n",
    "- Matplotlib: Data visualization library.\n",
    "- Seaborn: Statistical data visualization library.\n",
    "- Scipy: To provide a comprehensive set of numerical algorithms and tools for scientific computing in Python.\n"
   ]
  },
  {
   "cell_type": "code",
   "execution_count": 1,
   "id": "c537fa77",
   "metadata": {
    "execution": {
     "iopub.execute_input": "2023-08-21T09:04:53.545924Z",
     "iopub.status.busy": "2023-08-21T09:04:53.545079Z",
     "iopub.status.idle": "2023-08-21T09:04:56.104400Z",
     "shell.execute_reply": "2023-08-21T09:04:56.103275Z"
    },
    "id": "c537fa77",
    "outputId": "a3add1ad-5023-4d28-9dfc-88a1845b6ee1",
    "papermill": {
     "duration": 2.583123,
     "end_time": "2023-08-21T09:04:56.107197",
     "exception": false,
     "start_time": "2023-08-21T09:04:53.524074",
     "status": "completed"
    },
    "tags": []
   },
   "outputs": [],
   "source": [
    "import pandas as pd\n",
    "import numpy as np\n",
    "import seaborn as sns\n",
    "import matplotlib.pyplot as plt\n",
    "import plotly.express as px\n",
    "\n",
    "from sklearn.preprocessing import LabelEncoder\n",
    "from sklearn.impute import SimpleImputer\n",
    "from sklearn.decomposition import PCA"
   ]
  },
  {
   "cell_type": "markdown",
   "id": "603a2b11",
   "metadata": {
    "id": "603a2b11",
    "papermill": {
     "duration": 0.019613,
     "end_time": "2023-08-21T09:04:56.147377",
     "exception": false,
     "start_time": "2023-08-21T09:04:56.127764",
     "status": "completed"
    },
    "tags": []
   },
   "source": [
    "### 4. Data Loading, Exploration & Wrangling\n",
    "In order  to do EDA first import data from our computure\n"
   ]
  },
  {
   "cell_type": "code",
   "execution_count": 2,
   "id": "0815e935",
   "metadata": {
    "execution": {
     "iopub.execute_input": "2023-08-21T09:04:56.189825Z",
     "iopub.status.busy": "2023-08-21T09:04:56.188548Z",
     "iopub.status.idle": "2023-08-21T09:05:11.285529Z",
     "shell.execute_reply": "2023-08-21T09:05:11.284254Z"
    },
    "id": "0815e935",
    "papermill": {
     "duration": 15.120439,
     "end_time": "2023-08-21T09:05:11.287827",
     "exception": false,
     "start_time": "2023-08-21T09:04:56.167388",
     "status": "completed"
    },
    "tags": []
   },
   "outputs": [],
   "source": [
    "df=pd.read_csv(\"appleAppData.csv\")"
   ]
  },
  {
   "cell_type": "code",
   "execution_count": 76,
   "id": "493c611a",
   "metadata": {},
   "outputs": [
    {
     "data": {
      "text/plain": [
       "(1229263, 22)"
      ]
     },
     "execution_count": 76,
     "metadata": {},
     "output_type": "execute_result"
    }
   ],
   "source": [
    "df.shape"
   ]
  },
  {
   "cell_type": "code",
   "execution_count": 3,
   "id": "8d50e743",
   "metadata": {
    "execution": {
     "iopub.execute_input": "2023-08-21T09:05:11.367007Z",
     "iopub.status.busy": "2023-08-21T09:05:11.366623Z",
     "iopub.status.idle": "2023-08-21T09:05:13.433477Z",
     "shell.execute_reply": "2023-08-21T09:05:13.432048Z"
    },
    "id": "8d50e743",
    "outputId": "97258ef0-7dce-4ad2-a812-07833c6da88d",
    "papermill": {
     "duration": 2.090582,
     "end_time": "2023-08-21T09:05:13.436547",
     "exception": false,
     "start_time": "2023-08-21T09:05:11.345965",
     "status": "completed"
    },
    "tags": []
   },
   "outputs": [
    {
     "name": "stdout",
     "output_type": "stream",
     "text": [
      "<class 'pandas.core.frame.DataFrame'>\n",
      "RangeIndex: 1230376 entries, 0 to 1230375\n",
      "Data columns (total 21 columns):\n",
      " #   Column                   Non-Null Count    Dtype  \n",
      "---  ------                   --------------    -----  \n",
      " 0   App_Id                   1230376 non-null  object \n",
      " 1   App_Name                 1230375 non-null  object \n",
      " 2   AppStore_Url             1230376 non-null  object \n",
      " 3   Primary_Genre            1230376 non-null  object \n",
      " 4   Content_Rating           1230376 non-null  object \n",
      " 5   Size_Bytes               1230152 non-null  float64\n",
      " 6   Required_IOS_Version     1230376 non-null  object \n",
      " 7   Released                 1230373 non-null  object \n",
      " 8   Updated                  1230376 non-null  object \n",
      " 9   Version                  1230376 non-null  object \n",
      " 10  Price                    1229886 non-null  float64\n",
      " 11  Currency                 1230376 non-null  object \n",
      " 12  Free                     1230376 non-null  bool   \n",
      " 13  DeveloperId              1230376 non-null  int64  \n",
      " 14  Developer                1230376 non-null  object \n",
      " 15  Developer_Url            1229267 non-null  object \n",
      " 16  Developer_Website        586388 non-null   object \n",
      " 17  Average_User_Rating      1230376 non-null  float64\n",
      " 18  Reviews                  1230376 non-null  int64  \n",
      " 19  Current_Version_Score    1230376 non-null  float64\n",
      " 20  Current_Version_Reviews  1230376 non-null  int64  \n",
      "dtypes: bool(1), float64(4), int64(3), object(13)\n",
      "memory usage: 188.9+ MB\n"
     ]
    }
   ],
   "source": [
    "df.info()"
   ]
  },
  {
   "cell_type": "markdown",
   "id": "e280e6ae",
   "metadata": {
    "id": "e280e6ae",
    "papermill": {
     "duration": 0.019917,
     "end_time": "2023-08-21T09:05:13.477650",
     "exception": false,
     "start_time": "2023-08-21T09:05:13.457733",
     "status": "completed"
    },
    "tags": []
   },
   "source": [
    "#### 4.1. Get Top Values of Given Data\n",
    "With just a single line of code! Quickly view the top rows of your dataset to get a sense of what you're working with, without having to scroll through the entire file."
   ]
  },
  {
   "cell_type": "code",
   "execution_count": 4,
   "id": "208c66d8",
   "metadata": {
    "execution": {
     "iopub.execute_input": "2023-08-21T09:05:13.520271Z",
     "iopub.status.busy": "2023-08-21T09:05:13.519400Z",
     "iopub.status.idle": "2023-08-21T09:05:13.554125Z",
     "shell.execute_reply": "2023-08-21T09:05:13.553145Z"
    },
    "id": "208c66d8",
    "outputId": "54a8d59e-c0cf-45ef-a01f-610af419afc6",
    "papermill": {
     "duration": 0.058062,
     "end_time": "2023-08-21T09:05:13.555850",
     "exception": false,
     "start_time": "2023-08-21T09:05:13.497788",
     "status": "completed"
    },
    "tags": []
   },
   "outputs": [
    {
     "data": {
      "text/html": [
       "<div>\n",
       "<style scoped>\n",
       "    .dataframe tbody tr th:only-of-type {\n",
       "        vertical-align: middle;\n",
       "    }\n",
       "\n",
       "    .dataframe tbody tr th {\n",
       "        vertical-align: top;\n",
       "    }\n",
       "\n",
       "    .dataframe thead th {\n",
       "        text-align: right;\n",
       "    }\n",
       "</style>\n",
       "<table border=\"1\" class=\"dataframe\">\n",
       "  <thead>\n",
       "    <tr style=\"text-align: right;\">\n",
       "      <th></th>\n",
       "      <th>App_Id</th>\n",
       "      <th>App_Name</th>\n",
       "      <th>AppStore_Url</th>\n",
       "      <th>Primary_Genre</th>\n",
       "      <th>Content_Rating</th>\n",
       "      <th>Size_Bytes</th>\n",
       "      <th>Required_IOS_Version</th>\n",
       "      <th>Released</th>\n",
       "      <th>Updated</th>\n",
       "      <th>Version</th>\n",
       "      <th>...</th>\n",
       "      <th>Currency</th>\n",
       "      <th>Free</th>\n",
       "      <th>DeveloperId</th>\n",
       "      <th>Developer</th>\n",
       "      <th>Developer_Url</th>\n",
       "      <th>Developer_Website</th>\n",
       "      <th>Average_User_Rating</th>\n",
       "      <th>Reviews</th>\n",
       "      <th>Current_Version_Score</th>\n",
       "      <th>Current_Version_Reviews</th>\n",
       "    </tr>\n",
       "  </thead>\n",
       "  <tbody>\n",
       "    <tr>\n",
       "      <th>0</th>\n",
       "      <td>com.hkbu.arc.apaper</td>\n",
       "      <td>A+ Paper Guide</td>\n",
       "      <td>https://apps.apple.com/us/app/a-paper-guide/id...</td>\n",
       "      <td>Education</td>\n",
       "      <td>4+</td>\n",
       "      <td>21993472.0</td>\n",
       "      <td>8.0</td>\n",
       "      <td>2017-09-28T03:02:41Z</td>\n",
       "      <td>2018-12-21T21:30:36Z</td>\n",
       "      <td>1.1.2</td>\n",
       "      <td>...</td>\n",
       "      <td>USD</td>\n",
       "      <td>True</td>\n",
       "      <td>1375410542</td>\n",
       "      <td>HKBU ARC</td>\n",
       "      <td>https://apps.apple.com/us/developer/hkbu-arc/i...</td>\n",
       "      <td>NaN</td>\n",
       "      <td>0.0</td>\n",
       "      <td>0</td>\n",
       "      <td>0.0</td>\n",
       "      <td>0</td>\n",
       "    </tr>\n",
       "    <tr>\n",
       "      <th>1</th>\n",
       "      <td>com.dmitriev.abooks</td>\n",
       "      <td>A-Books</td>\n",
       "      <td>https://apps.apple.com/us/app/a-books/id103157...</td>\n",
       "      <td>Book</td>\n",
       "      <td>4+</td>\n",
       "      <td>13135872.0</td>\n",
       "      <td>10.0</td>\n",
       "      <td>2015-08-31T19:31:32Z</td>\n",
       "      <td>2019-07-23T20:31:09Z</td>\n",
       "      <td>1.3</td>\n",
       "      <td>...</td>\n",
       "      <td>USD</td>\n",
       "      <td>True</td>\n",
       "      <td>1031572001</td>\n",
       "      <td>Roman Dmitriev</td>\n",
       "      <td>https://apps.apple.com/us/developer/roman-dmit...</td>\n",
       "      <td>NaN</td>\n",
       "      <td>5.0</td>\n",
       "      <td>1</td>\n",
       "      <td>5.0</td>\n",
       "      <td>1</td>\n",
       "    </tr>\n",
       "    <tr>\n",
       "      <th>2</th>\n",
       "      <td>no.terp.abooks</td>\n",
       "      <td>A-books</td>\n",
       "      <td>https://apps.apple.com/us/app/a-books/id145702...</td>\n",
       "      <td>Book</td>\n",
       "      <td>4+</td>\n",
       "      <td>21943296.0</td>\n",
       "      <td>9.0</td>\n",
       "      <td>2021-04-14T07:00:00Z</td>\n",
       "      <td>2021-05-30T21:08:54Z</td>\n",
       "      <td>1.3.1</td>\n",
       "      <td>...</td>\n",
       "      <td>USD</td>\n",
       "      <td>True</td>\n",
       "      <td>1457024163</td>\n",
       "      <td>Terp AS</td>\n",
       "      <td>https://apps.apple.com/us/developer/terp-as/id...</td>\n",
       "      <td>NaN</td>\n",
       "      <td>0.0</td>\n",
       "      <td>0</td>\n",
       "      <td>0.0</td>\n",
       "      <td>0</td>\n",
       "    </tr>\n",
       "    <tr>\n",
       "      <th>3</th>\n",
       "      <td>fr.antoinettefleur.Book1</td>\n",
       "      <td>A-F Book #1</td>\n",
       "      <td>https://apps.apple.com/us/app/a-f-book-1/id500...</td>\n",
       "      <td>Book</td>\n",
       "      <td>4+</td>\n",
       "      <td>81851392.0</td>\n",
       "      <td>8.0</td>\n",
       "      <td>2012-02-10T03:40:07Z</td>\n",
       "      <td>2019-10-29T12:40:37Z</td>\n",
       "      <td>1.2</td>\n",
       "      <td>...</td>\n",
       "      <td>USD</td>\n",
       "      <td>False</td>\n",
       "      <td>439568839</td>\n",
       "      <td>i-editeur.com</td>\n",
       "      <td>https://apps.apple.com/us/developer/i-editeur-...</td>\n",
       "      <td>NaN</td>\n",
       "      <td>0.0</td>\n",
       "      <td>0</td>\n",
       "      <td>0.0</td>\n",
       "      <td>0</td>\n",
       "    </tr>\n",
       "    <tr>\n",
       "      <th>4</th>\n",
       "      <td>com.imonstersoft.azdictionaryios</td>\n",
       "      <td>A-Z Synonyms Dictionary</td>\n",
       "      <td>https://apps.apple.com/us/app/a-z-synonyms-dic...</td>\n",
       "      <td>Reference</td>\n",
       "      <td>4+</td>\n",
       "      <td>64692224.0</td>\n",
       "      <td>9.0</td>\n",
       "      <td>2020-12-16T08:00:00Z</td>\n",
       "      <td>2020-12-18T21:36:11Z</td>\n",
       "      <td>1.0.1</td>\n",
       "      <td>...</td>\n",
       "      <td>USD</td>\n",
       "      <td>True</td>\n",
       "      <td>656731821</td>\n",
       "      <td>Ngov chiheang</td>\n",
       "      <td>https://apps.apple.com/us/developer/ngov-chihe...</td>\n",
       "      <td>http://imonstersoft.com</td>\n",
       "      <td>0.0</td>\n",
       "      <td>0</td>\n",
       "      <td>0.0</td>\n",
       "      <td>0</td>\n",
       "    </tr>\n",
       "  </tbody>\n",
       "</table>\n",
       "<p>5 rows × 21 columns</p>\n",
       "</div>"
      ],
      "text/plain": [
       "                             App_Id                 App_Name  \\\n",
       "0               com.hkbu.arc.apaper           A+ Paper Guide   \n",
       "1               com.dmitriev.abooks                  A-Books   \n",
       "2                    no.terp.abooks                  A-books   \n",
       "3          fr.antoinettefleur.Book1              A-F Book #1   \n",
       "4  com.imonstersoft.azdictionaryios  A-Z Synonyms Dictionary   \n",
       "\n",
       "                                        AppStore_Url Primary_Genre  \\\n",
       "0  https://apps.apple.com/us/app/a-paper-guide/id...     Education   \n",
       "1  https://apps.apple.com/us/app/a-books/id103157...          Book   \n",
       "2  https://apps.apple.com/us/app/a-books/id145702...          Book   \n",
       "3  https://apps.apple.com/us/app/a-f-book-1/id500...          Book   \n",
       "4  https://apps.apple.com/us/app/a-z-synonyms-dic...     Reference   \n",
       "\n",
       "  Content_Rating  Size_Bytes Required_IOS_Version              Released  \\\n",
       "0             4+  21993472.0                  8.0  2017-09-28T03:02:41Z   \n",
       "1             4+  13135872.0                 10.0  2015-08-31T19:31:32Z   \n",
       "2             4+  21943296.0                  9.0  2021-04-14T07:00:00Z   \n",
       "3             4+  81851392.0                  8.0  2012-02-10T03:40:07Z   \n",
       "4             4+  64692224.0                  9.0  2020-12-16T08:00:00Z   \n",
       "\n",
       "                Updated Version  ...  Currency   Free  DeveloperId  \\\n",
       "0  2018-12-21T21:30:36Z   1.1.2  ...       USD   True   1375410542   \n",
       "1  2019-07-23T20:31:09Z     1.3  ...       USD   True   1031572001   \n",
       "2  2021-05-30T21:08:54Z   1.3.1  ...       USD   True   1457024163   \n",
       "3  2019-10-29T12:40:37Z     1.2  ...       USD  False    439568839   \n",
       "4  2020-12-18T21:36:11Z   1.0.1  ...       USD   True    656731821   \n",
       "\n",
       "        Developer                                      Developer_Url  \\\n",
       "0        HKBU ARC  https://apps.apple.com/us/developer/hkbu-arc/i...   \n",
       "1  Roman Dmitriev  https://apps.apple.com/us/developer/roman-dmit...   \n",
       "2         Terp AS  https://apps.apple.com/us/developer/terp-as/id...   \n",
       "3   i-editeur.com  https://apps.apple.com/us/developer/i-editeur-...   \n",
       "4   Ngov chiheang  https://apps.apple.com/us/developer/ngov-chihe...   \n",
       "\n",
       "         Developer_Website Average_User_Rating  Reviews  \\\n",
       "0                      NaN                 0.0        0   \n",
       "1                      NaN                 5.0        1   \n",
       "2                      NaN                 0.0        0   \n",
       "3                      NaN                 0.0        0   \n",
       "4  http://imonstersoft.com                 0.0        0   \n",
       "\n",
       "   Current_Version_Score  Current_Version_Reviews  \n",
       "0                    0.0                        0  \n",
       "1                    5.0                        1  \n",
       "2                    0.0                        0  \n",
       "3                    0.0                        0  \n",
       "4                    0.0                        0  \n",
       "\n",
       "[5 rows x 21 columns]"
      ]
     },
     "execution_count": 4,
     "metadata": {},
     "output_type": "execute_result"
    }
   ],
   "source": [
    "df.head()"
   ]
  },
  {
   "cell_type": "code",
   "execution_count": 5,
   "id": "e922382a",
   "metadata": {
    "execution": {
     "iopub.execute_input": "2023-08-21T09:05:13.598060Z",
     "iopub.status.busy": "2023-08-21T09:05:13.597631Z",
     "iopub.status.idle": "2023-08-21T09:05:13.603459Z",
     "shell.execute_reply": "2023-08-21T09:05:13.602821Z"
    },
    "id": "e922382a",
    "outputId": "5bbe7457-218e-4413-d610-0765cab462be",
    "papermill": {
     "duration": 0.030152,
     "end_time": "2023-08-21T09:05:13.606017",
     "exception": false,
     "start_time": "2023-08-21T09:05:13.575865",
     "status": "completed"
    },
    "tags": []
   },
   "outputs": [
    {
     "data": {
      "text/plain": [
       "Index(['App_Id', 'App_Name', 'AppStore_Url', 'Primary_Genre', 'Content_Rating',\n",
       "       'Size_Bytes', 'Required_IOS_Version', 'Released', 'Updated', 'Version',\n",
       "       'Price', 'Currency', 'Free', 'DeveloperId', 'Developer',\n",
       "       'Developer_Url', 'Developer_Website', 'Average_User_Rating', 'Reviews',\n",
       "       'Current_Version_Score', 'Current_Version_Reviews'],\n",
       "      dtype='object')"
      ]
     },
     "execution_count": 5,
     "metadata": {},
     "output_type": "execute_result"
    }
   ],
   "source": [
    "df.columns"
   ]
  },
  {
   "cell_type": "code",
   "execution_count": 6,
   "id": "96ee49be",
   "metadata": {},
   "outputs": [
    {
     "data": {
      "text/plain": [
       "App_Id                          0\n",
       "App_Name                        1\n",
       "AppStore_Url                    0\n",
       "Primary_Genre                   0\n",
       "Content_Rating                  0\n",
       "Size_Bytes                    224\n",
       "Required_IOS_Version            0\n",
       "Released                        3\n",
       "Updated                         0\n",
       "Version                         0\n",
       "Price                         490\n",
       "Currency                        0\n",
       "Free                            0\n",
       "DeveloperId                     0\n",
       "Developer                       0\n",
       "Developer_Url                1109\n",
       "Developer_Website          643988\n",
       "Average_User_Rating             0\n",
       "Reviews                         0\n",
       "Current_Version_Score           0\n",
       "Current_Version_Reviews         0\n",
       "dtype: int64"
      ]
     },
     "execution_count": 6,
     "metadata": {},
     "output_type": "execute_result"
    }
   ],
   "source": [
    "df.isna().sum()"
   ]
  },
  {
   "cell_type": "markdown",
   "id": "338a96b2",
   "metadata": {
    "id": "338a96b2",
    "papermill": {
     "duration": 0.020228,
     "end_time": "2023-08-21T09:05:13.647120",
     "exception": false,
     "start_time": "2023-08-21T09:05:13.626892",
     "status": "completed"
    },
    "tags": []
   },
   "source": [
    "Finding/Exploring/ feeling the numeric data finding out what our data telss us of the follwoing\n",
    "\n",
    "Size_Bytes, Price, DeveloperId, Average_User_Rating, Reviews, Current_Version_Score, Current_Version_Reviews"
   ]
  },
  {
   "cell_type": "code",
   "execution_count": 7,
   "id": "410df62b",
   "metadata": {
    "execution": {
     "iopub.execute_input": "2023-08-21T09:05:13.690665Z",
     "iopub.status.busy": "2023-08-21T09:05:13.690085Z",
     "iopub.status.idle": "2023-08-21T09:05:13.717777Z",
     "shell.execute_reply": "2023-08-21T09:05:13.716798Z"
    },
    "id": "410df62b",
    "outputId": "92289a28-727c-4d99-d4cb-63810f213149",
    "papermill": {
     "duration": 0.051728,
     "end_time": "2023-08-21T09:05:13.720417",
     "exception": false,
     "start_time": "2023-08-21T09:05:13.668689",
     "status": "completed"
    },
    "tags": []
   },
   "outputs": [
    {
     "data": {
      "text/plain": [
       "array([0.     , 5.     , 4.78132, ..., 4.00352, 3.91608, 4.82733])"
      ]
     },
     "execution_count": 7,
     "metadata": {},
     "output_type": "execute_result"
    }
   ],
   "source": [
    "df.Average_User_Rating.unique()"
   ]
  },
  {
   "cell_type": "code",
   "execution_count": 8,
   "id": "c513d1d5",
   "metadata": {
    "execution": {
     "iopub.execute_input": "2023-08-21T09:05:13.765151Z",
     "iopub.status.busy": "2023-08-21T09:05:13.764064Z",
     "iopub.status.idle": "2023-08-21T09:05:13.791692Z",
     "shell.execute_reply": "2023-08-21T09:05:13.790169Z"
    },
    "id": "c513d1d5",
    "outputId": "a17dc525-1aec-48de-ce7d-46c4f4e8b176",
    "papermill": {
     "duration": 0.052506,
     "end_time": "2023-08-21T09:05:13.794439",
     "exception": false,
     "start_time": "2023-08-21T09:05:13.741933",
     "status": "completed"
    },
    "tags": []
   },
   "outputs": [
    {
     "data": {
      "text/plain": [
       "array([0.     , 5.     , 4.78132, ..., 4.00352, 3.91608, 4.82733])"
      ]
     },
     "execution_count": 8,
     "metadata": {},
     "output_type": "execute_result"
    }
   ],
   "source": [
    "df.Current_Version_Score.unique()"
   ]
  },
  {
   "cell_type": "code",
   "execution_count": 9,
   "id": "6b1af519",
   "metadata": {
    "execution": {
     "iopub.execute_input": "2023-08-21T09:05:13.836599Z",
     "iopub.status.busy": "2023-08-21T09:05:13.836190Z",
     "iopub.status.idle": "2023-08-21T09:05:13.852333Z",
     "shell.execute_reply": "2023-08-21T09:05:13.851546Z"
    },
    "id": "6b1af519",
    "outputId": "e9a06fee-b1da-405b-8ee8-0f1989c0bd66",
    "papermill": {
     "duration": 0.039518,
     "end_time": "2023-08-21T09:05:13.854270",
     "exception": false,
     "start_time": "2023-08-21T09:05:13.814752",
     "status": "completed"
    },
    "tags": []
   },
   "outputs": [
    {
     "data": {
      "text/plain": [
       "array([    0,     1,  1285, ..., 12691, 35476, 10481], dtype=int64)"
      ]
     },
     "execution_count": 9,
     "metadata": {},
     "output_type": "execute_result"
    }
   ],
   "source": [
    "df.Current_Version_Reviews.unique()"
   ]
  },
  {
   "cell_type": "code",
   "execution_count": 10,
   "id": "61cbf584",
   "metadata": {
    "execution": {
     "iopub.execute_input": "2023-08-21T09:05:13.896514Z",
     "iopub.status.busy": "2023-08-21T09:05:13.895900Z",
     "iopub.status.idle": "2023-08-21T09:05:13.911127Z",
     "shell.execute_reply": "2023-08-21T09:05:13.909944Z"
    },
    "id": "61cbf584",
    "outputId": "b0d79f0e-23d2-47ef-fe44-1d9a1ddaceae",
    "papermill": {
     "duration": 0.038982,
     "end_time": "2023-08-21T09:05:13.913156",
     "exception": false,
     "start_time": "2023-08-21T09:05:13.874174",
     "status": "completed"
    },
    "tags": []
   },
   "outputs": [
    {
     "data": {
      "text/plain": [
       "array([ True, False])"
      ]
     },
     "execution_count": 10,
     "metadata": {},
     "output_type": "execute_result"
    }
   ],
   "source": [
    "df.Free.unique()"
   ]
  },
  {
   "cell_type": "code",
   "execution_count": 11,
   "id": "710c484c",
   "metadata": {
    "execution": {
     "iopub.execute_input": "2023-08-21T09:05:13.955335Z",
     "iopub.status.busy": "2023-08-21T09:05:13.954925Z",
     "iopub.status.idle": "2023-08-21T09:05:14.024223Z",
     "shell.execute_reply": "2023-08-21T09:05:14.023376Z"
    },
    "id": "710c484c",
    "outputId": "c1d82192-c968-4e3e-9795-d31c90f456e8",
    "papermill": {
     "duration": 0.093151,
     "end_time": "2023-08-21T09:05:14.026203",
     "exception": false,
     "start_time": "2023-08-21T09:05:13.933052",
     "status": "completed"
    },
    "tags": []
   },
   "outputs": [
    {
     "data": {
      "text/plain": [
       "array(['USD'], dtype=object)"
      ]
     },
     "execution_count": 11,
     "metadata": {},
     "output_type": "execute_result"
    }
   ],
   "source": [
    "df.Currency.unique()"
   ]
  },
  {
   "cell_type": "code",
   "execution_count": 12,
   "id": "841d4752",
   "metadata": {
    "execution": {
     "iopub.execute_input": "2023-08-21T09:05:14.070446Z",
     "iopub.status.busy": "2023-08-21T09:05:14.070023Z",
     "iopub.status.idle": "2023-08-21T09:05:14.134317Z",
     "shell.execute_reply": "2023-08-21T09:05:14.133549Z"
    },
    "id": "841d4752",
    "outputId": "7ad267d2-4081-40b5-db28-113cd4176d94",
    "papermill": {
     "duration": 0.089491,
     "end_time": "2023-08-21T09:05:14.136884",
     "exception": false,
     "start_time": "2023-08-21T09:05:14.047393",
     "status": "completed"
    },
    "tags": []
   },
   "outputs": [
    {
     "data": {
      "text/plain": [
       "array([2.19934720e+07, 1.31358720e+07, 2.19432960e+07, ...,\n",
       "       1.19404544e+08, 5.96570000e+05, 5.06896000e+05])"
      ]
     },
     "execution_count": 12,
     "metadata": {},
     "output_type": "execute_result"
    }
   ],
   "source": [
    "df.Size_Bytes.unique()"
   ]
  },
  {
   "cell_type": "code",
   "execution_count": 13,
   "id": "1c711c5e",
   "metadata": {
    "execution": {
     "iopub.execute_input": "2023-08-21T09:05:14.182120Z",
     "iopub.status.busy": "2023-08-21T09:05:14.181497Z",
     "iopub.status.idle": "2023-08-21T09:05:14.259337Z",
     "shell.execute_reply": "2023-08-21T09:05:14.257756Z"
    },
    "id": "1c711c5e",
    "outputId": "4faf8798-5012-412a-8fd6-78ff6e760d18",
    "papermill": {
     "duration": 0.103483,
     "end_time": "2023-08-21T09:05:14.261676",
     "exception": false,
     "start_time": "2023-08-21T09:05:14.158193",
     "status": "completed"
    },
    "tags": []
   },
   "outputs": [
    {
     "data": {
      "text/plain": [
       "array(['8.0', '10.0', '9.0', '7.1', '12.0', '11.0', '13.0', '7.0', '9.3',\n",
       "       '5.1.1', '11.3', '6.0', '12.1', '8.2', '6.1', '11.4', '10.3',\n",
       "       '9.1', '8.4', '9.2', '4.0', '5.1', '8.1', '5.0', '10.10.0', '14.5',\n",
       "       '14.0', '14.1', '4.3', '13.5', '11', '12.4', '10.10', '11.2',\n",
       "       '14.4', '11.1', '12.2', '5.2', '10.1', '14.3', '4.2', '13.2',\n",
       "       '3.2', '8.3', '3.1.3', '10.2', '10.9.0', '13.6', '3.0', '13.3',\n",
       "       '9', '11.0.0', '3.1.2', '14.2', '13.4', '12.3', '13.1', '12',\n",
       "       '9.3.5', '10', '9.4', '7.2', '9.0.0', '10.12', '13', '7', '10.13',\n",
       "       '3.1', '2.2.1', '10.9', '10.8', '10.7', '12.0.0', '10.15', '10.5',\n",
       "       '10.14', '15.0', '13.7', '10.11', '4.1', '10.6', '10.6.6', '7.0.0',\n",
       "       '14.7', '10.13.0', '10.9.5', '12.5', '8', '6', '10.0.0', '10.6.8',\n",
       "       '7.1.2', '10.12.2', '10.11.0', '14', '10.7.4', '10.3.3', '12.4.4',\n",
       "       '10.8.0', '10.14.6', '10.4.0', '8.0.0', '10.15.1', '10.14.2',\n",
       "       '10.15.0', '10.13.6', '14.0.0', '10.13.2', '10.7.3', '10.4',\n",
       "       '10.8.3', '10.6.0', '10.15.5', '6.0.0', '10.14.4', '10.14.0',\n",
       "       '9.0.2', '10.15.4', '10.8.1', '10.11.6', '10.12.0', '10.0.1',\n",
       "       '3.2.2', '12.4.3', '9.5', '12.4.6', '3.2.1', '13.0.0', '10.12.6',\n",
       "       '9.3.2', '10.3.9', '10.15.2', '10.5.0', '2.0', '12.4.5', '2.1',\n",
       "       '9.3.0', '10.7.0', '8.4.1', '12.4.0', '12.2.2', '10.7.5', '13.5.1',\n",
       "       '2.2', '10.12.4', '11.0.1', '12.3.0', '6.4', '10.6.7', '10.3.4',\n",
       "       '12.0.1', '7.1.1', '13.2.0', '10.15.3', '10.4.4', '5.5.1', '4.0.1',\n",
       "       '9.1.0', '14.6', '12.4.2', '10.13.5', '10.12.5', '12.3.1',\n",
       "       '10.3.1', '12.4.8', '11.0.3', '8.1.2', '9.3.4', '11.2.0',\n",
       "       '10.10.2', '8.0.1', '4.2.5', '11.24', '13.1.3', '5.0.1', '10.2.1',\n",
       "       '4.3.1', '11.5', '10.10.5', '4.3.0', '11.4.1', '4.4', '6.2',\n",
       "       '6.0.1', '10.13.4', '10.10.1', '10.4.9', '6.3', '13.4.1',\n",
       "       '10.11.5', '10.15.6', '4.3.3', '12.16', '10.16', '6.1.6', '4.0.2',\n",
       "       '5', '10.5.8', '5.11', '6.1.3', '14.8', '7.1.0', '9.3.6', '10.8.5',\n",
       "       '11.7', '11.50', '12.5.3', '10.10.3', '12.2.0', '9.6', '11.9.0',\n",
       "       '14.1.99', '10.3.0', '7.35', '13.2.99', '12.5.1', '5.0.0',\n",
       "       '10.8.2', '10.6.5', '3.2.0', '9.9', '10.5.1', '13.6.0', '6.1.0',\n",
       "       '10.3.2', '12.5.4', '7.9', '10.9.4', '8.1.1', '13.5.0', '10.0.2',\n",
       "       '9.3.3', '8.5', '15', '10.1.1', '14.4.1', '7.0.4', '8.1.0',\n",
       "       '10.6.4', '10.14.5', '10.5.7', '10.12.1', '10.13.1', '5.1.0',\n",
       "       '9.11.0', '8.1.3', '14.4.2', '10.5.3', '8.6', '9.0.1', '10.15.7',\n",
       "       '13.1.2', '11.3.1', '11.1.2', '11.6', '10.5.2', '10.11.1',\n",
       "       '11.2.5', '10.11.4', '11.2.2'], dtype=object)"
      ]
     },
     "execution_count": 13,
     "metadata": {},
     "output_type": "execute_result"
    }
   ],
   "source": [
    "df.Required_IOS_Version.unique()"
   ]
  },
  {
   "cell_type": "code",
   "execution_count": 14,
   "id": "82cbf880",
   "metadata": {
    "execution": {
     "iopub.execute_input": "2023-08-21T09:05:14.305579Z",
     "iopub.status.busy": "2023-08-21T09:05:14.305190Z",
     "iopub.status.idle": "2023-08-21T09:05:14.377191Z",
     "shell.execute_reply": "2023-08-21T09:05:14.376240Z"
    },
    "id": "82cbf880",
    "outputId": "1ac18650-d3aa-4868-de14-4e2fea95d21f",
    "papermill": {
     "duration": 0.096758,
     "end_time": "2023-08-21T09:05:14.379265",
     "exception": false,
     "start_time": "2023-08-21T09:05:14.282507",
     "status": "completed"
    },
    "tags": []
   },
   "outputs": [
    {
     "data": {
      "text/plain": [
       "array(['4+', '17+', '9+', '12+', 'Not yet rated'], dtype=object)"
      ]
     },
     "execution_count": 14,
     "metadata": {},
     "output_type": "execute_result"
    }
   ],
   "source": [
    "df['Content_Rating'].unique()"
   ]
  },
  {
   "cell_type": "markdown",
   "id": "cb1cf09a",
   "metadata": {
    "id": "cb1cf09a",
    "papermill": {
     "duration": 0.02087,
     "end_time": "2023-08-21T09:05:14.421527",
     "exception": false,
     "start_time": "2023-08-21T09:05:14.400657",
     "status": "completed"
    },
    "tags": []
   },
   "source": [
    "#### 4.2. Descriptive Statistics\n",
    "We use descriptive statistics to summarize and understand the key features of dataset."
   ]
  },
  {
   "cell_type": "code",
   "execution_count": 15,
   "id": "be717719",
   "metadata": {
    "execution": {
     "iopub.execute_input": "2023-08-21T09:05:14.465548Z",
     "iopub.status.busy": "2023-08-21T09:05:14.465182Z",
     "iopub.status.idle": "2023-08-21T09:05:14.761291Z",
     "shell.execute_reply": "2023-08-21T09:05:14.760348Z"
    },
    "id": "be717719",
    "outputId": "af2a1703-84a1-4359-cb35-098c76a0d7db",
    "papermill": {
     "duration": 0.320382,
     "end_time": "2023-08-21T09:05:14.763147",
     "exception": false,
     "start_time": "2023-08-21T09:05:14.442765",
     "status": "completed"
    },
    "tags": []
   },
   "outputs": [
    {
     "data": {
      "text/html": [
       "<div>\n",
       "<style scoped>\n",
       "    .dataframe tbody tr th:only-of-type {\n",
       "        vertical-align: middle;\n",
       "    }\n",
       "\n",
       "    .dataframe tbody tr th {\n",
       "        vertical-align: top;\n",
       "    }\n",
       "\n",
       "    .dataframe thead th {\n",
       "        text-align: right;\n",
       "    }\n",
       "</style>\n",
       "<table border=\"1\" class=\"dataframe\">\n",
       "  <thead>\n",
       "    <tr style=\"text-align: right;\">\n",
       "      <th></th>\n",
       "      <th>Size_Bytes</th>\n",
       "      <th>Price</th>\n",
       "      <th>DeveloperId</th>\n",
       "      <th>Average_User_Rating</th>\n",
       "      <th>Reviews</th>\n",
       "      <th>Current_Version_Score</th>\n",
       "      <th>Current_Version_Reviews</th>\n",
       "    </tr>\n",
       "  </thead>\n",
       "  <tbody>\n",
       "    <tr>\n",
       "      <th>count</th>\n",
       "      <td>1.230152e+06</td>\n",
       "      <td>1.229886e+06</td>\n",
       "      <td>1.230376e+06</td>\n",
       "      <td>1.230376e+06</td>\n",
       "      <td>1.230376e+06</td>\n",
       "      <td>1.230376e+06</td>\n",
       "      <td>1.230376e+06</td>\n",
       "    </tr>\n",
       "    <tr>\n",
       "      <th>mean</th>\n",
       "      <td>7.510857e+07</td>\n",
       "      <td>5.041264e-01</td>\n",
       "      <td>1.092869e+09</td>\n",
       "      <td>1.788387e+00</td>\n",
       "      <td>8.259478e+02</td>\n",
       "      <td>1.788387e+00</td>\n",
       "      <td>8.259478e+02</td>\n",
       "    </tr>\n",
       "    <tr>\n",
       "      <th>std</th>\n",
       "      <td>2.318726e+08</td>\n",
       "      <td>6.869674e+00</td>\n",
       "      <td>4.090897e+08</td>\n",
       "      <td>2.154105e+00</td>\n",
       "      <td>5.016051e+04</td>\n",
       "      <td>2.154105e+00</td>\n",
       "      <td>5.016051e+04</td>\n",
       "    </tr>\n",
       "    <tr>\n",
       "      <th>min</th>\n",
       "      <td>2.762800e+04</td>\n",
       "      <td>0.000000e+00</td>\n",
       "      <td>2.816565e+08</td>\n",
       "      <td>0.000000e+00</td>\n",
       "      <td>0.000000e+00</td>\n",
       "      <td>0.000000e+00</td>\n",
       "      <td>0.000000e+00</td>\n",
       "    </tr>\n",
       "    <tr>\n",
       "      <th>25%</th>\n",
       "      <td>2.041344e+07</td>\n",
       "      <td>0.000000e+00</td>\n",
       "      <td>7.381109e+08</td>\n",
       "      <td>0.000000e+00</td>\n",
       "      <td>0.000000e+00</td>\n",
       "      <td>0.000000e+00</td>\n",
       "      <td>0.000000e+00</td>\n",
       "    </tr>\n",
       "    <tr>\n",
       "      <th>50%</th>\n",
       "      <td>4.333158e+07</td>\n",
       "      <td>0.000000e+00</td>\n",
       "      <td>1.179711e+09</td>\n",
       "      <td>0.000000e+00</td>\n",
       "      <td>0.000000e+00</td>\n",
       "      <td>0.000000e+00</td>\n",
       "      <td>0.000000e+00</td>\n",
       "    </tr>\n",
       "    <tr>\n",
       "      <th>75%</th>\n",
       "      <td>8.365466e+07</td>\n",
       "      <td>0.000000e+00</td>\n",
       "      <td>1.471960e+09</td>\n",
       "      <td>4.333330e+00</td>\n",
       "      <td>3.000000e+00</td>\n",
       "      <td>4.333330e+00</td>\n",
       "      <td>3.000000e+00</td>\n",
       "    </tr>\n",
       "    <tr>\n",
       "      <th>max</th>\n",
       "      <td>7.677945e+10</td>\n",
       "      <td>9.999900e+02</td>\n",
       "      <td>1.590233e+09</td>\n",
       "      <td>5.000000e+00</td>\n",
       "      <td>2.268533e+07</td>\n",
       "      <td>5.000000e+00</td>\n",
       "      <td>2.268533e+07</td>\n",
       "    </tr>\n",
       "  </tbody>\n",
       "</table>\n",
       "</div>"
      ],
      "text/plain": [
       "         Size_Bytes         Price   DeveloperId  Average_User_Rating  \\\n",
       "count  1.230152e+06  1.229886e+06  1.230376e+06         1.230376e+06   \n",
       "mean   7.510857e+07  5.041264e-01  1.092869e+09         1.788387e+00   \n",
       "std    2.318726e+08  6.869674e+00  4.090897e+08         2.154105e+00   \n",
       "min    2.762800e+04  0.000000e+00  2.816565e+08         0.000000e+00   \n",
       "25%    2.041344e+07  0.000000e+00  7.381109e+08         0.000000e+00   \n",
       "50%    4.333158e+07  0.000000e+00  1.179711e+09         0.000000e+00   \n",
       "75%    8.365466e+07  0.000000e+00  1.471960e+09         4.333330e+00   \n",
       "max    7.677945e+10  9.999900e+02  1.590233e+09         5.000000e+00   \n",
       "\n",
       "            Reviews  Current_Version_Score  Current_Version_Reviews  \n",
       "count  1.230376e+06           1.230376e+06             1.230376e+06  \n",
       "mean   8.259478e+02           1.788387e+00             8.259478e+02  \n",
       "std    5.016051e+04           2.154105e+00             5.016051e+04  \n",
       "min    0.000000e+00           0.000000e+00             0.000000e+00  \n",
       "25%    0.000000e+00           0.000000e+00             0.000000e+00  \n",
       "50%    0.000000e+00           0.000000e+00             0.000000e+00  \n",
       "75%    3.000000e+00           4.333330e+00             3.000000e+00  \n",
       "max    2.268533e+07           5.000000e+00             2.268533e+07  "
      ]
     },
     "execution_count": 15,
     "metadata": {},
     "output_type": "execute_result"
    }
   ],
   "source": [
    "df.describe()"
   ]
  },
  {
   "cell_type": "markdown",
   "id": "9acfebeb",
   "metadata": {
    "id": "9acfebeb",
    "papermill": {
     "duration": 0.02003,
     "end_time": "2023-08-21T09:05:14.803610",
     "exception": false,
     "start_time": "2023-08-21T09:05:14.783580",
     "status": "completed"
    },
    "tags": []
   },
   "source": [
    "#### 4.3. Dealing with the missing data and the incorrect records/Duplicate Data\n",
    "#### 4.4. Imputing the Null Values\n",
    "Through following code we will get the percentages of missing values within the given data. Use this code snippet to easily identify which features in your dataset have the most missing data with a sorted percentage of null values.We Will clean the dataset by removing duplicate columns with missing values and imputing the rest.\n",
    "\n",
    "Based on Developer Website(52 %) lack of relevance and the high number of NULL values associated with it, we have made the decision to drop this attribute from the dataset."
   ]
  },
  {
   "cell_type": "code",
   "execution_count": 16,
   "id": "d0bdb676",
   "metadata": {
    "execution": {
     "iopub.execute_input": "2023-08-21T09:05:14.847131Z",
     "iopub.status.busy": "2023-08-21T09:05:14.846736Z",
     "iopub.status.idle": "2023-08-21T09:05:15.021913Z",
     "shell.execute_reply": "2023-08-21T09:05:15.021226Z"
    },
    "id": "d0bdb676",
    "papermill": {
     "duration": 0.199518,
     "end_time": "2023-08-21T09:05:15.024084",
     "exception": false,
     "start_time": "2023-08-21T09:05:14.824566",
     "status": "completed"
    },
    "tags": []
   },
   "outputs": [],
   "source": [
    "# using drop na method\n",
    "df.drop(['Developer_Website'], axis=1, inplace = True)"
   ]
  },
  {
   "cell_type": "code",
   "execution_count": 17,
   "id": "31f24d2a",
   "metadata": {
    "execution": {
     "iopub.execute_input": "2023-08-21T09:05:15.067195Z",
     "iopub.status.busy": "2023-08-21T09:05:15.066384Z",
     "iopub.status.idle": "2023-08-21T09:05:17.097068Z",
     "shell.execute_reply": "2023-08-21T09:05:17.095957Z"
    },
    "id": "31f24d2a",
    "outputId": "36cdf38d-f005-42a6-c048-6b669cd75bd6",
    "papermill": {
     "duration": 2.054794,
     "end_time": "2023-08-21T09:05:17.099678",
     "exception": false,
     "start_time": "2023-08-21T09:05:15.044884",
     "status": "completed"
    },
    "tags": []
   },
   "outputs": [
    {
     "name": "stdout",
     "output_type": "stream",
     "text": [
      "App_Id                     0.000000\n",
      "App_Name                   0.000081\n",
      "AppStore_Url               0.000000\n",
      "Primary_Genre              0.000000\n",
      "Content_Rating             0.000000\n",
      "Size_Bytes                 0.018206\n",
      "Required_IOS_Version       0.000000\n",
      "Released                   0.000244\n",
      "Updated                    0.000000\n",
      "Version                    0.000000\n",
      "Price                      0.039825\n",
      "Currency                   0.000000\n",
      "Free                       0.000000\n",
      "DeveloperId                0.000000\n",
      "Developer                  0.000000\n",
      "Developer_Url              0.090135\n",
      "Average_User_Rating        0.000000\n",
      "Reviews                    0.000000\n",
      "Current_Version_Score      0.000000\n",
      "Current_Version_Reviews    0.000000\n",
      "dtype: float64\n"
     ]
    }
   ],
   "source": [
    "print((df.isnull().sum()/len(df))*100)"
   ]
  },
  {
   "cell_type": "code",
   "execution_count": 75,
   "id": "6f0db13a",
   "metadata": {
    "execution": {
     "iopub.execute_input": "2023-08-21T09:05:17.147902Z",
     "iopub.status.busy": "2023-08-21T09:05:17.147538Z",
     "iopub.status.idle": "2023-08-21T09:05:42.017188Z",
     "shell.execute_reply": "2023-08-21T09:05:42.015514Z"
    },
    "id": "6f0db13a",
    "outputId": "9e242a6d-8285-45c9-f9e6-2ef538d15d88",
    "papermill": {
     "duration": 24.898211,
     "end_time": "2023-08-21T09:05:42.020358",
     "exception": false,
     "start_time": "2023-08-21T09:05:17.122147",
     "status": "completed"
    },
    "tags": []
   },
   "outputs": [
    {
     "data": {
      "text/plain": [
       "Text(0.5, 1.0, 'Missing null values')"
      ]
     },
     "execution_count": 75,
     "metadata": {},
     "output_type": "execute_result"
    },
    {
     "data": {
      "image/png": "[encoded data removed]",
      "text/plain": [
       "<Figure size 1500x600 with 1 Axes>"
      ]
     },
     "metadata": {},
     "output_type": "display_data"
    }
   ],
   "source": [
    "plt.figure(figsize= (15,6))\n",
    "sns.heatmap(df.isnull(),yticklabels = False, cbar = False , cmap = 'viridis')\n",
    "plt.title(\"Missing null values\")"
   ]
  },
  {
   "cell_type": "markdown",
   "id": "f5ea3fe4",
   "metadata": {
    "id": "f5ea3fe4",
    "papermill": {
     "duration": 0.022041,
     "end_time": "2023-08-21T09:05:42.064523",
     "exception": false,
     "start_time": "2023-08-21T09:05:42.042482",
     "status": "completed"
    },
    "tags": []
   },
   "source": [
    "> Fig:1.  Showing null values after imputation"
   ]
  },
  {
   "cell_type": "markdown",
   "id": "86b18799",
   "metadata": {
    "id": "86b18799",
    "papermill": {
     "duration": 0.02168,
     "end_time": "2023-08-21T09:05:42.109878",
     "exception": false,
     "start_time": "2023-08-21T09:05:42.088198",
     "status": "completed"
    },
    "tags": []
   },
   "source": [
    "Price, Size_Bytes are important columns so it is good to fill the null values."
   ]
  },
  {
   "cell_type": "code",
   "execution_count": 19,
   "id": "034af2cb",
   "metadata": {
    "execution": {
     "iopub.execute_input": "2023-08-21T09:05:42.156655Z",
     "iopub.status.busy": "2023-08-21T09:05:42.156244Z",
     "iopub.status.idle": "2023-08-21T09:05:44.186853Z",
     "shell.execute_reply": "2023-08-21T09:05:44.185308Z"
    },
    "id": "034af2cb",
    "outputId": "fb4db25a-2665-4c08-939a-f0ed2213c11d",
    "papermill": {
     "duration": 2.056568,
     "end_time": "2023-08-21T09:05:44.188926",
     "exception": false,
     "start_time": "2023-08-21T09:05:42.132358",
     "status": "completed"
    },
    "tags": []
   },
   "outputs": [
    {
     "data": {
      "text/plain": [
       "App_Id                        0\n",
       "App_Name                      1\n",
       "AppStore_Url                  0\n",
       "Primary_Genre                 0\n",
       "Content_Rating                0\n",
       "Size_Bytes                  224\n",
       "Required_IOS_Version          0\n",
       "Released                      3\n",
       "Updated                       0\n",
       "Version                       0\n",
       "Price                       490\n",
       "Currency                      0\n",
       "Free                          0\n",
       "DeveloperId                   0\n",
       "Developer                     0\n",
       "Developer_Url              1109\n",
       "Average_User_Rating           0\n",
       "Reviews                       0\n",
       "Current_Version_Score         0\n",
       "Current_Version_Reviews       0\n",
       "dtype: int64"
      ]
     },
     "execution_count": 19,
     "metadata": {},
     "output_type": "execute_result"
    }
   ],
   "source": [
    "#Missing values dealing\n",
    "#filling mean value of Price column in the null places of that column\n",
    "df.Price.fillna(value=df['Price'].mean())\n",
    "df.Size_Bytes.fillna(value=df['Size_Bytes'].mean())\n",
    "\n",
    "##have a view of refreshed dataset again\n",
    "df.isnull().sum()\n",
    "\n",
    "\n"
   ]
  },
  {
   "cell_type": "markdown",
   "id": "229f84d8",
   "metadata": {
    "id": "229f84d8",
    "papermill": {
     "duration": 0.022838,
     "end_time": "2023-08-21T09:05:44.235559",
     "exception": false,
     "start_time": "2023-08-21T09:05:44.212721",
     "status": "completed"
    },
    "tags": []
   },
   "source": [
    " To view only those rows where a column has null values"
   ]
  },
  {
   "cell_type": "code",
   "execution_count": 20,
   "id": "80af4c9a",
   "metadata": {
    "execution": {
     "iopub.execute_input": "2023-08-21T09:05:44.282727Z",
     "iopub.status.busy": "2023-08-21T09:05:44.282338Z",
     "iopub.status.idle": "2023-08-21T09:05:44.346229Z",
     "shell.execute_reply": "2023-08-21T09:05:44.344941Z"
    },
    "id": "80af4c9a",
    "outputId": "c8b22a85-3772-4b38-b130-db2a3c69da55",
    "papermill": {
     "duration": 0.089989,
     "end_time": "2023-08-21T09:05:44.348704",
     "exception": false,
     "start_time": "2023-08-21T09:05:44.258715",
     "status": "completed"
    },
    "tags": []
   },
   "outputs": [
    {
     "data": {
      "text/html": [
       "<div>\n",
       "<style scoped>\n",
       "    .dataframe tbody tr th:only-of-type {\n",
       "        vertical-align: middle;\n",
       "    }\n",
       "\n",
       "    .dataframe tbody tr th {\n",
       "        vertical-align: top;\n",
       "    }\n",
       "\n",
       "    .dataframe thead th {\n",
       "        text-align: right;\n",
       "    }\n",
       "</style>\n",
       "<table border=\"1\" class=\"dataframe\">\n",
       "  <thead>\n",
       "    <tr style=\"text-align: right;\">\n",
       "      <th></th>\n",
       "      <th>App_Id</th>\n",
       "      <th>App_Name</th>\n",
       "      <th>AppStore_Url</th>\n",
       "      <th>Primary_Genre</th>\n",
       "      <th>Content_Rating</th>\n",
       "      <th>Size_Bytes</th>\n",
       "      <th>Required_IOS_Version</th>\n",
       "      <th>Released</th>\n",
       "      <th>Updated</th>\n",
       "      <th>Version</th>\n",
       "      <th>Price</th>\n",
       "      <th>Currency</th>\n",
       "      <th>Free</th>\n",
       "      <th>DeveloperId</th>\n",
       "      <th>Developer</th>\n",
       "      <th>Developer_Url</th>\n",
       "      <th>Average_User_Rating</th>\n",
       "      <th>Reviews</th>\n",
       "      <th>Current_Version_Score</th>\n",
       "      <th>Current_Version_Reviews</th>\n",
       "    </tr>\n",
       "  </thead>\n",
       "  <tbody>\n",
       "    <tr>\n",
       "      <th>264853</th>\n",
       "      <td>com.ironhidegames.frontiers.universal.premium</td>\n",
       "      <td>Kingdom Rush Frontiers TD+</td>\n",
       "      <td>https://apps.apple.com/us/app/kingdom-rush-fro...</td>\n",
       "      <td>Games</td>\n",
       "      <td>12+</td>\n",
       "      <td>NaN</td>\n",
       "      <td>13.0</td>\n",
       "      <td>NaN</td>\n",
       "      <td>2021-11-12T08:00:00Z</td>\n",
       "      <td>5.4.15</td>\n",
       "      <td>NaN</td>\n",
       "      <td>USD</td>\n",
       "      <td>False</td>\n",
       "      <td>1542047256</td>\n",
       "      <td>Ironhide Irl</td>\n",
       "      <td>https://apps.apple.com/us/developer/ironhide-i...</td>\n",
       "      <td>0.0</td>\n",
       "      <td>0</td>\n",
       "      <td>0.0</td>\n",
       "      <td>0</td>\n",
       "    </tr>\n",
       "    <tr>\n",
       "      <th>836858</th>\n",
       "      <td>com.redgamesco.transformers</td>\n",
       "      <td>Transformers: Tactical Arena</td>\n",
       "      <td>https://apps.apple.com/us/app/transformers-tac...</td>\n",
       "      <td>Games</td>\n",
       "      <td>9+</td>\n",
       "      <td>NaN</td>\n",
       "      <td>13.5.0</td>\n",
       "      <td>NaN</td>\n",
       "      <td>2021-11-05T07:00:00Z</td>\n",
       "      <td>0.1</td>\n",
       "      <td>NaN</td>\n",
       "      <td>USD</td>\n",
       "      <td>False</td>\n",
       "      <td>1456007507</td>\n",
       "      <td>RED GAMES CO, LLC</td>\n",
       "      <td>https://apps.apple.com/us/developer/red-games-...</td>\n",
       "      <td>0.0</td>\n",
       "      <td>0</td>\n",
       "      <td>0.0</td>\n",
       "      <td>0</td>\n",
       "    </tr>\n",
       "  </tbody>\n",
       "</table>\n",
       "</div>"
      ],
      "text/plain": [
       "                                               App_Id  \\\n",
       "264853  com.ironhidegames.frontiers.universal.premium   \n",
       "836858                    com.redgamesco.transformers   \n",
       "\n",
       "                            App_Name  \\\n",
       "264853    Kingdom Rush Frontiers TD+   \n",
       "836858  Transformers: Tactical Arena   \n",
       "\n",
       "                                             AppStore_Url Primary_Genre  \\\n",
       "264853  https://apps.apple.com/us/app/kingdom-rush-fro...         Games   \n",
       "836858  https://apps.apple.com/us/app/transformers-tac...         Games   \n",
       "\n",
       "       Content_Rating  Size_Bytes Required_IOS_Version Released  \\\n",
       "264853            12+         NaN                 13.0      NaN   \n",
       "836858             9+         NaN               13.5.0      NaN   \n",
       "\n",
       "                     Updated Version  Price Currency   Free  DeveloperId  \\\n",
       "264853  2021-11-12T08:00:00Z  5.4.15    NaN      USD  False   1542047256   \n",
       "836858  2021-11-05T07:00:00Z     0.1    NaN      USD  False   1456007507   \n",
       "\n",
       "                Developer                                      Developer_Url  \\\n",
       "264853       Ironhide Irl  https://apps.apple.com/us/developer/ironhide-i...   \n",
       "836858  RED GAMES CO, LLC  https://apps.apple.com/us/developer/red-games-...   \n",
       "\n",
       "        Average_User_Rating  Reviews  Current_Version_Score  \\\n",
       "264853                  0.0        0                    0.0   \n",
       "836858                  0.0        0                    0.0   \n",
       "\n",
       "        Current_Version_Reviews  \n",
       "264853                        0  \n",
       "836858                        0  "
      ]
     },
     "execution_count": 20,
     "metadata": {},
     "output_type": "execute_result"
    }
   ],
   "source": [
    "df[df['Released'].isnull()].head(2)\n"
   ]
  },
  {
   "cell_type": "code",
   "execution_count": 21,
   "id": "37f991ad",
   "metadata": {
    "execution": {
     "iopub.execute_input": "2023-08-21T09:05:44.396324Z",
     "iopub.status.busy": "2023-08-21T09:05:44.395845Z",
     "iopub.status.idle": "2023-08-21T09:05:44.485180Z",
     "shell.execute_reply": "2023-08-21T09:05:44.484006Z"
    },
    "id": "37f991ad",
    "outputId": "8ef0159a-0b9b-49d7-d783-d3341a04a8fd",
    "papermill": {
     "duration": 0.115513,
     "end_time": "2023-08-21T09:05:44.487776",
     "exception": false,
     "start_time": "2023-08-21T09:05:44.372263",
     "status": "completed"
    },
    "tags": []
   },
   "outputs": [
    {
     "data": {
      "text/html": [
       "<div>\n",
       "<style scoped>\n",
       "    .dataframe tbody tr th:only-of-type {\n",
       "        vertical-align: middle;\n",
       "    }\n",
       "\n",
       "    .dataframe tbody tr th {\n",
       "        vertical-align: top;\n",
       "    }\n",
       "\n",
       "    .dataframe thead th {\n",
       "        text-align: right;\n",
       "    }\n",
       "</style>\n",
       "<table border=\"1\" class=\"dataframe\">\n",
       "  <thead>\n",
       "    <tr style=\"text-align: right;\">\n",
       "      <th></th>\n",
       "      <th>App_Id</th>\n",
       "      <th>App_Name</th>\n",
       "      <th>AppStore_Url</th>\n",
       "      <th>Primary_Genre</th>\n",
       "      <th>Content_Rating</th>\n",
       "      <th>Size_Bytes</th>\n",
       "      <th>Required_IOS_Version</th>\n",
       "      <th>Released</th>\n",
       "      <th>Updated</th>\n",
       "      <th>Version</th>\n",
       "      <th>Price</th>\n",
       "      <th>Currency</th>\n",
       "      <th>Free</th>\n",
       "      <th>DeveloperId</th>\n",
       "      <th>Developer</th>\n",
       "      <th>Developer_Url</th>\n",
       "      <th>Average_User_Rating</th>\n",
       "      <th>Reviews</th>\n",
       "      <th>Current_Version_Score</th>\n",
       "      <th>Current_Version_Reviews</th>\n",
       "    </tr>\n",
       "  </thead>\n",
       "  <tbody>\n",
       "    <tr>\n",
       "      <th>2382</th>\n",
       "      <td>com.TroopAdmin2</td>\n",
       "      <td>C&amp;S Troop Admin</td>\n",
       "      <td>https://apps.apple.com/us/app/c-s-troop-admin/...</td>\n",
       "      <td>Business</td>\n",
       "      <td>4+</td>\n",
       "      <td>87355392.0</td>\n",
       "      <td>10.0</td>\n",
       "      <td>2021-06-04T07:00:00Z</td>\n",
       "      <td>2021-06-05T03:40:31Z</td>\n",
       "      <td>1.0</td>\n",
       "      <td>0.0</td>\n",
       "      <td>USD</td>\n",
       "      <td>True</td>\n",
       "      <td>1569780624</td>\n",
       "      <td>Hunter Biscuit &amp; Wolf Limited</td>\n",
       "      <td>NaN</td>\n",
       "      <td>0.0</td>\n",
       "      <td>0</td>\n",
       "      <td>0.0</td>\n",
       "      <td>0</td>\n",
       "    </tr>\n",
       "    <tr>\n",
       "      <th>2827</th>\n",
       "      <td>com.dhrubajyoti.bangla</td>\n",
       "      <td>Bangla Rhymes</td>\n",
       "      <td>https://apps.apple.com/us/app/bangla-rhymes/id...</td>\n",
       "      <td>Education</td>\n",
       "      <td>4+</td>\n",
       "      <td>56445952.0</td>\n",
       "      <td>9.1</td>\n",
       "      <td>2019-03-23T18:27:49Z</td>\n",
       "      <td>2019-03-23T18:27:49Z</td>\n",
       "      <td>1.0.1</td>\n",
       "      <td>0.0</td>\n",
       "      <td>USD</td>\n",
       "      <td>True</td>\n",
       "      <td>1452131894</td>\n",
       "      <td>Dhrubajyoti Dey</td>\n",
       "      <td>NaN</td>\n",
       "      <td>5.0</td>\n",
       "      <td>5</td>\n",
       "      <td>5.0</td>\n",
       "      <td>5</td>\n",
       "    </tr>\n",
       "  </tbody>\n",
       "</table>\n",
       "</div>"
      ],
      "text/plain": [
       "                      App_Id         App_Name  \\\n",
       "2382         com.TroopAdmin2  C&S Troop Admin   \n",
       "2827  com.dhrubajyoti.bangla    Bangla Rhymes   \n",
       "\n",
       "                                           AppStore_Url Primary_Genre  \\\n",
       "2382  https://apps.apple.com/us/app/c-s-troop-admin/...      Business   \n",
       "2827  https://apps.apple.com/us/app/bangla-rhymes/id...     Education   \n",
       "\n",
       "     Content_Rating  Size_Bytes Required_IOS_Version              Released  \\\n",
       "2382             4+  87355392.0                 10.0  2021-06-04T07:00:00Z   \n",
       "2827             4+  56445952.0                  9.1  2019-03-23T18:27:49Z   \n",
       "\n",
       "                   Updated Version  Price Currency  Free  DeveloperId  \\\n",
       "2382  2021-06-05T03:40:31Z     1.0    0.0      USD  True   1569780624   \n",
       "2827  2019-03-23T18:27:49Z   1.0.1    0.0      USD  True   1452131894   \n",
       "\n",
       "                          Developer Developer_Url  Average_User_Rating  \\\n",
       "2382  Hunter Biscuit & Wolf Limited           NaN                  0.0   \n",
       "2827                Dhrubajyoti Dey           NaN                  5.0   \n",
       "\n",
       "      Reviews  Current_Version_Score  Current_Version_Reviews  \n",
       "2382        0                    0.0                        0  \n",
       "2827        5                    5.0                        5  "
      ]
     },
     "execution_count": 21,
     "metadata": {},
     "output_type": "execute_result"
    }
   ],
   "source": [
    "df[df['Developer_Url'].isnull()].head(2)\n"
   ]
  },
  {
   "cell_type": "code",
   "execution_count": 22,
   "id": "368f8389",
   "metadata": {
    "execution": {
     "iopub.execute_input": "2023-08-21T09:05:44.535646Z",
     "iopub.status.busy": "2023-08-21T09:05:44.535333Z",
     "iopub.status.idle": "2023-08-21T09:05:44.600244Z",
     "shell.execute_reply": "2023-08-21T09:05:44.598725Z"
    },
    "id": "368f8389",
    "outputId": "c1d4178a-f0f3-4248-bf4a-de45ae96a65d",
    "papermill": {
     "duration": 0.092374,
     "end_time": "2023-08-21T09:05:44.602732",
     "exception": false,
     "start_time": "2023-08-21T09:05:44.510358",
     "status": "completed"
    },
    "tags": []
   },
   "outputs": [
    {
     "data": {
      "text/html": [
       "<div>\n",
       "<style scoped>\n",
       "    .dataframe tbody tr th:only-of-type {\n",
       "        vertical-align: middle;\n",
       "    }\n",
       "\n",
       "    .dataframe tbody tr th {\n",
       "        vertical-align: top;\n",
       "    }\n",
       "\n",
       "    .dataframe thead th {\n",
       "        text-align: right;\n",
       "    }\n",
       "</style>\n",
       "<table border=\"1\" class=\"dataframe\">\n",
       "  <thead>\n",
       "    <tr style=\"text-align: right;\">\n",
       "      <th></th>\n",
       "      <th>App_Id</th>\n",
       "      <th>App_Name</th>\n",
       "      <th>AppStore_Url</th>\n",
       "      <th>Primary_Genre</th>\n",
       "      <th>Content_Rating</th>\n",
       "      <th>Size_Bytes</th>\n",
       "      <th>Required_IOS_Version</th>\n",
       "      <th>Released</th>\n",
       "      <th>Updated</th>\n",
       "      <th>Version</th>\n",
       "      <th>Price</th>\n",
       "      <th>Currency</th>\n",
       "      <th>Free</th>\n",
       "      <th>DeveloperId</th>\n",
       "      <th>Developer</th>\n",
       "      <th>Developer_Url</th>\n",
       "      <th>Average_User_Rating</th>\n",
       "      <th>Reviews</th>\n",
       "      <th>Current_Version_Score</th>\n",
       "      <th>Current_Version_Reviews</th>\n",
       "    </tr>\n",
       "  </thead>\n",
       "  <tbody>\n",
       "    <tr>\n",
       "      <th>964888</th>\n",
       "      <td>se.promedia.NA</td>\n",
       "      <td>NaN</td>\n",
       "      <td>https://apps.apple.com/us/app/na/id449134868?uo=4</td>\n",
       "      <td>News</td>\n",
       "      <td>4+</td>\n",
       "      <td>19528704.0</td>\n",
       "      <td>9.0</td>\n",
       "      <td>2011-08-08T11:45:30Z</td>\n",
       "      <td>2020-12-21T14:08:02Z</td>\n",
       "      <td>8.1.2</td>\n",
       "      <td>0.0</td>\n",
       "      <td>USD</td>\n",
       "      <td>True</td>\n",
       "      <td>449134871</td>\n",
       "      <td>Promedia</td>\n",
       "      <td>https://apps.apple.com/us/developer/promedia/i...</td>\n",
       "      <td>5.0</td>\n",
       "      <td>1</td>\n",
       "      <td>5.0</td>\n",
       "      <td>1</td>\n",
       "    </tr>\n",
       "  </tbody>\n",
       "</table>\n",
       "</div>"
      ],
      "text/plain": [
       "                App_Id App_Name  \\\n",
       "964888  se.promedia.NA      NaN   \n",
       "\n",
       "                                             AppStore_Url Primary_Genre  \\\n",
       "964888  https://apps.apple.com/us/app/na/id449134868?uo=4          News   \n",
       "\n",
       "       Content_Rating  Size_Bytes Required_IOS_Version              Released  \\\n",
       "964888             4+  19528704.0                  9.0  2011-08-08T11:45:30Z   \n",
       "\n",
       "                     Updated Version  Price Currency  Free  DeveloperId  \\\n",
       "964888  2020-12-21T14:08:02Z   8.1.2    0.0      USD  True    449134871   \n",
       "\n",
       "       Developer                                      Developer_Url  \\\n",
       "964888  Promedia  https://apps.apple.com/us/developer/promedia/i...   \n",
       "\n",
       "        Average_User_Rating  Reviews  Current_Version_Score  \\\n",
       "964888                  5.0        1                    5.0   \n",
       "\n",
       "        Current_Version_Reviews  \n",
       "964888                        1  "
      ]
     },
     "execution_count": 22,
     "metadata": {},
     "output_type": "execute_result"
    }
   ],
   "source": [
    "df[df['App_Name'].isnull()].head(2)"
   ]
  },
  {
   "cell_type": "markdown",
   "id": "25d0e01e",
   "metadata": {
    "id": "25d0e01e",
    "papermill": {
     "duration": 0.029173,
     "end_time": "2023-08-21T09:05:44.660499",
     "exception": false,
     "start_time": "2023-08-21T09:05:44.631326",
     "status": "completed"
    },
    "tags": []
   },
   "source": [
    " ##### 4.4.1.  Null Handling: Filling Null Values Approach\n",
    "Fill null values with caution! Unique values associated with specific features, such as AppID and AppName, in rows where Released is null, can make filling null values tricky. Instead, consider dropping only those rows where Developer_URL, Released, and appName are null to ensure data integrity."
   ]
  },
  {
   "cell_type": "code",
   "execution_count": 23,
   "id": "b0d9ae59",
   "metadata": {
    "execution": {
     "iopub.execute_input": "2023-08-21T09:05:44.710282Z",
     "iopub.status.busy": "2023-08-21T09:05:44.709472Z",
     "iopub.status.idle": "2023-08-21T09:05:45.231286Z",
     "shell.execute_reply": "2023-08-21T09:05:45.229689Z"
    },
    "id": "b0d9ae59",
    "papermill": {
     "duration": 0.549161,
     "end_time": "2023-08-21T09:05:45.234080",
     "exception": false,
     "start_time": "2023-08-21T09:05:44.684919",
     "status": "completed"
    },
    "tags": []
   },
   "outputs": [],
   "source": [
    "df.dropna(subset=['Developer_Url'], inplace=True)\n",
    "\n"
   ]
  },
  {
   "cell_type": "code",
   "execution_count": 24,
   "id": "10039d11",
   "metadata": {
    "execution": {
     "iopub.execute_input": "2023-08-21T09:05:45.280248Z",
     "iopub.status.busy": "2023-08-21T09:05:45.279818Z",
     "iopub.status.idle": "2023-08-21T09:05:45.788262Z",
     "shell.execute_reply": "2023-08-21T09:05:45.786454Z"
    },
    "id": "10039d11",
    "papermill": {
     "duration": 0.53445,
     "end_time": "2023-08-21T09:05:45.790795",
     "exception": false,
     "start_time": "2023-08-21T09:05:45.256345",
     "status": "completed"
    },
    "tags": []
   },
   "outputs": [],
   "source": [
    "df.dropna(subset=['Released'], inplace=True)"
   ]
  },
  {
   "cell_type": "code",
   "execution_count": 25,
   "id": "e2a0e8e6",
   "metadata": {
    "execution": {
     "iopub.execute_input": "2023-08-21T09:05:45.837457Z",
     "iopub.status.busy": "2023-08-21T09:05:45.836415Z",
     "iopub.status.idle": "2023-08-21T09:05:48.208820Z",
     "shell.execute_reply": "2023-08-21T09:05:48.207005Z"
    },
    "id": "e2a0e8e6",
    "outputId": "5bfe9e2a-f746-489d-b7c0-86cf95fb2cf6",
    "papermill": {
     "duration": 2.398399,
     "end_time": "2023-08-21T09:05:48.211533",
     "exception": false,
     "start_time": "2023-08-21T09:05:45.813134",
     "status": "completed"
    },
    "tags": []
   },
   "outputs": [
    {
     "data": {
      "text/plain": [
       "App_Id                       0\n",
       "App_Name                     0\n",
       "AppStore_Url                 0\n",
       "Primary_Genre                0\n",
       "Content_Rating               0\n",
       "Size_Bytes                 221\n",
       "Required_IOS_Version         0\n",
       "Released                     0\n",
       "Updated                      0\n",
       "Version                      0\n",
       "Price                      487\n",
       "Currency                     0\n",
       "Free                         0\n",
       "DeveloperId                  0\n",
       "Developer                    0\n",
       "Developer_Url                0\n",
       "Average_User_Rating          0\n",
       "Reviews                      0\n",
       "Current_Version_Score        0\n",
       "Current_Version_Reviews      0\n",
       "dtype: int64"
      ]
     },
     "execution_count": 25,
     "metadata": {},
     "output_type": "execute_result"
    }
   ],
   "source": [
    "df.dropna(subset=['App_Name'], inplace=True)\n",
    "##have a view of refreshed dataset again\n",
    "df.isnull().sum()"
   ]
  },
  {
   "cell_type": "markdown",
   "id": "df9b39c1",
   "metadata": {
    "id": "df9b39c1",
    "papermill": {
     "duration": 0.022167,
     "end_time": "2023-08-21T09:05:48.257898",
     "exception": false,
     "start_time": "2023-08-21T09:05:48.235731",
     "status": "completed"
    },
    "tags": []
   },
   "source": [
    "We have cleaned the dataset from null values 🙂\n",
    "\n",
    "Next, Find duplications and Analyse them if its a valid DUPLICATION"
   ]
  },
  {
   "cell_type": "code",
   "execution_count": 26,
   "id": "9cb9283a",
   "metadata": {
    "execution": {
     "iopub.execute_input": "2023-08-21T09:05:48.304652Z",
     "iopub.status.busy": "2023-08-21T09:05:48.304322Z",
     "iopub.status.idle": "2023-08-21T09:05:52.034116Z",
     "shell.execute_reply": "2023-08-21T09:05:52.033052Z"
    },
    "id": "9cb9283a",
    "papermill": {
     "duration": 3.756254,
     "end_time": "2023-08-21T09:05:52.036664",
     "exception": false,
     "start_time": "2023-08-21T09:05:48.280410",
     "status": "completed"
    },
    "tags": []
   },
   "outputs": [],
   "source": [
    "any_duplicates = df.duplicated(['App_Id', 'App_Name', 'AppStore_Url', 'Primary_Genre', 'Content_Rating',\n",
    "       'Size_Bytes', 'Required_IOS_Version', 'Released', 'Updated', 'Version',\n",
    "       'Price', 'Currency', 'Free', 'DeveloperId', 'Developer',\n",
    "       'Developer_Url', 'Average_User_Rating', 'Reviews',\n",
    "       'Current_Version_Score', 'Current_Version_Reviews']).any()"
   ]
  },
  {
   "cell_type": "code",
   "execution_count": 27,
   "id": "99701c92",
   "metadata": {
    "execution": {
     "iopub.execute_input": "2023-08-21T09:05:52.083759Z",
     "iopub.status.busy": "2023-08-21T09:05:52.083365Z",
     "iopub.status.idle": "2023-08-21T09:05:52.333578Z",
     "shell.execute_reply": "2023-08-21T09:05:52.332576Z"
    },
    "id": "99701c92",
    "outputId": "8deffbdc-a623-4e37-f2a9-c1b570e41909",
    "papermill": {
     "duration": 0.276464,
     "end_time": "2023-08-21T09:05:52.335805",
     "exception": false,
     "start_time": "2023-08-21T09:05:52.059341",
     "status": "completed"
    },
    "tags": []
   },
   "outputs": [
    {
     "data": {
      "text/plain": [
       "False"
      ]
     },
     "execution_count": 27,
     "metadata": {},
     "output_type": "execute_result"
    }
   ],
   "source": [
    "boolean = df['App_Id'].duplicated().any()\n",
    "boolean"
   ]
  },
  {
   "cell_type": "code",
   "execution_count": 28,
   "id": "b063412d",
   "metadata": {
    "execution": {
     "iopub.execute_input": "2023-08-21T09:05:52.383801Z",
     "iopub.status.busy": "2023-08-21T09:05:52.383474Z",
     "iopub.status.idle": "2023-08-21T09:05:52.650334Z",
     "shell.execute_reply": "2023-08-21T09:05:52.649067Z"
    },
    "id": "b063412d",
    "outputId": "41a6f6dc-3f6e-41b1-b98c-7be0168218d0",
    "papermill": {
     "duration": 0.29393,
     "end_time": "2023-08-21T09:05:52.652799",
     "exception": false,
     "start_time": "2023-08-21T09:05:52.358869",
     "status": "completed"
    },
    "tags": []
   },
   "outputs": [
    {
     "data": {
      "text/plain": [
       "False"
      ]
     },
     "execution_count": 28,
     "metadata": {},
     "output_type": "execute_result"
    }
   ],
   "source": [
    "boolean = df['AppStore_Url'].duplicated().any()\n",
    "boolean"
   ]
  },
  {
   "cell_type": "code",
   "execution_count": 29,
   "id": "3843f4d1",
   "metadata": {
    "execution": {
     "iopub.execute_input": "2023-08-21T09:05:52.700557Z",
     "iopub.status.busy": "2023-08-21T09:05:52.700208Z",
     "iopub.status.idle": "2023-08-21T09:05:52.939808Z",
     "shell.execute_reply": "2023-08-21T09:05:52.938447Z"
    },
    "id": "3843f4d1",
    "outputId": "d7912a65-01fc-4483-c8a7-a90c7482ca38",
    "papermill": {
     "duration": 0.265801,
     "end_time": "2023-08-21T09:05:52.941928",
     "exception": false,
     "start_time": "2023-08-21T09:05:52.676127",
     "status": "completed"
    },
    "tags": []
   },
   "outputs": [
    {
     "data": {
      "text/plain": [
       "True"
      ]
     },
     "execution_count": 29,
     "metadata": {},
     "output_type": "execute_result"
    }
   ],
   "source": [
    "boolean = df['App_Name'].duplicated().any()\n",
    "boolean"
   ]
  },
  {
   "cell_type": "code",
   "execution_count": 30,
   "id": "efb52e1d",
   "metadata": {
    "execution": {
     "iopub.execute_input": "2023-08-21T09:05:52.990551Z",
     "iopub.status.busy": "2023-08-21T09:05:52.990214Z",
     "iopub.status.idle": "2023-08-21T09:05:54.283581Z",
     "shell.execute_reply": "2023-08-21T09:05:54.282049Z"
    },
    "id": "efb52e1d",
    "outputId": "dcfef865-5c9a-4963-a0cb-6e84be6d076e",
    "papermill": {
     "duration": 1.319914,
     "end_time": "2023-08-21T09:05:54.285364",
     "exception": false,
     "start_time": "2023-08-21T09:05:52.965450",
     "status": "completed"
    },
    "tags": []
   },
   "outputs": [
    {
     "data": {
      "text/plain": [
       "Vanguard                          6\n",
       "Bloom                             5\n",
       "Linker                            5\n",
       "Sketch                            4\n",
       "Atelier                           4\n",
       "                                 ..\n",
       "Vikings HEXA Block !              1\n",
       "Vikings Empire Battle Strategy    1\n",
       "Vikings and Bankers               1\n",
       "Vikings Adventure - Dash          1\n",
       "Sổ Điểm Thông Minh                1\n",
       "Name: App_Name, Length: 1222413, dtype: int64"
      ]
     },
     "execution_count": 30,
     "metadata": {},
     "output_type": "execute_result"
    }
   ],
   "source": [
    "df['App_Name'].value_counts()"
   ]
  },
  {
   "cell_type": "code",
   "execution_count": 31,
   "id": "fa560107",
   "metadata": {
    "execution": {
     "iopub.execute_input": "2023-08-21T09:05:54.333170Z",
     "iopub.status.busy": "2023-08-21T09:05:54.332794Z",
     "iopub.status.idle": "2023-08-21T09:05:54.420735Z",
     "shell.execute_reply": "2023-08-21T09:05:54.419533Z"
    },
    "id": "fa560107",
    "outputId": "e44c6232-9ec5-4a45-ef9c-13a700e6e6cb",
    "papermill": {
     "duration": 0.114508,
     "end_time": "2023-08-21T09:05:54.422825",
     "exception": false,
     "start_time": "2023-08-21T09:05:54.308317",
     "status": "completed"
    },
    "tags": []
   },
   "outputs": [
    {
     "data": {
      "text/html": [
       "<div>\n",
       "<style scoped>\n",
       "    .dataframe tbody tr th:only-of-type {\n",
       "        vertical-align: middle;\n",
       "    }\n",
       "\n",
       "    .dataframe tbody tr th {\n",
       "        vertical-align: top;\n",
       "    }\n",
       "\n",
       "    .dataframe thead th {\n",
       "        text-align: right;\n",
       "    }\n",
       "</style>\n",
       "<table border=\"1\" class=\"dataframe\">\n",
       "  <thead>\n",
       "    <tr style=\"text-align: right;\">\n",
       "      <th></th>\n",
       "      <th>App_Id</th>\n",
       "      <th>App_Name</th>\n",
       "      <th>AppStore_Url</th>\n",
       "      <th>Primary_Genre</th>\n",
       "      <th>Content_Rating</th>\n",
       "      <th>Size_Bytes</th>\n",
       "      <th>Required_IOS_Version</th>\n",
       "      <th>Released</th>\n",
       "      <th>Updated</th>\n",
       "      <th>Version</th>\n",
       "      <th>Price</th>\n",
       "      <th>Currency</th>\n",
       "      <th>Free</th>\n",
       "      <th>DeveloperId</th>\n",
       "      <th>Developer</th>\n",
       "      <th>Developer_Url</th>\n",
       "      <th>Average_User_Rating</th>\n",
       "      <th>Reviews</th>\n",
       "      <th>Current_Version_Score</th>\n",
       "      <th>Current_Version_Reviews</th>\n",
       "    </tr>\n",
       "  </thead>\n",
       "  <tbody>\n",
       "    <tr>\n",
       "      <th>478488</th>\n",
       "      <td>com.vanguard.app</td>\n",
       "      <td>Vanguard</td>\n",
       "      <td>https://apps.apple.com/us/app/vanguard/id33518...</td>\n",
       "      <td>Finance</td>\n",
       "      <td>4+</td>\n",
       "      <td>160800768.0</td>\n",
       "      <td>10.0</td>\n",
       "      <td>2009-10-24T19:14:54Z</td>\n",
       "      <td>2021-08-26T19:55:20Z</td>\n",
       "      <td>11.14</td>\n",
       "      <td>0.0</td>\n",
       "      <td>USD</td>\n",
       "      <td>True</td>\n",
       "      <td>335186212</td>\n",
       "      <td>The Vanguard Group, Inc.</td>\n",
       "      <td>https://apps.apple.com/us/developer/the-vangua...</td>\n",
       "      <td>4.73977</td>\n",
       "      <td>167472</td>\n",
       "      <td>4.73977</td>\n",
       "      <td>167472</td>\n",
       "    </tr>\n",
       "    <tr>\n",
       "      <th>624553</th>\n",
       "      <td>com.omr.vngu</td>\n",
       "      <td>Vanguard</td>\n",
       "      <td>https://apps.apple.com/us/app/vanguard/id15822...</td>\n",
       "      <td>Games</td>\n",
       "      <td>4+</td>\n",
       "      <td>191240192.0</td>\n",
       "      <td>10.0</td>\n",
       "      <td>2021-08-27T07:00:00Z</td>\n",
       "      <td>2021-08-27T12:16:53Z</td>\n",
       "      <td>1.0</td>\n",
       "      <td>0.0</td>\n",
       "      <td>USD</td>\n",
       "      <td>True</td>\n",
       "      <td>1582197355</td>\n",
       "      <td>omar naser</td>\n",
       "      <td>https://apps.apple.com/us/developer/omar-naser...</td>\n",
       "      <td>3.00000</td>\n",
       "      <td>2</td>\n",
       "      <td>3.00000</td>\n",
       "      <td>2</td>\n",
       "    </tr>\n",
       "    <tr>\n",
       "      <th>871735</th>\n",
       "      <td>br.com.vanguardhome</td>\n",
       "      <td>Vanguard</td>\n",
       "      <td>https://apps.apple.com/us/app/vanguard/id14660...</td>\n",
       "      <td>Lifestyle</td>\n",
       "      <td>4+</td>\n",
       "      <td>87821312.0</td>\n",
       "      <td>9.0</td>\n",
       "      <td>2020-03-25T07:00:00Z</td>\n",
       "      <td>2021-10-05T23:12:01Z</td>\n",
       "      <td>1.1.10</td>\n",
       "      <td>0.0</td>\n",
       "      <td>USD</td>\n",
       "      <td>True</td>\n",
       "      <td>1459748843</td>\n",
       "      <td>Vanguard Home Empreendimentos Imobiliarios LTDA</td>\n",
       "      <td>https://apps.apple.com/us/developer/vanguard-h...</td>\n",
       "      <td>0.00000</td>\n",
       "      <td>0</td>\n",
       "      <td>0.00000</td>\n",
       "      <td>0</td>\n",
       "    </tr>\n",
       "    <tr>\n",
       "      <th>1024185</th>\n",
       "      <td>com.proptex.vanguard.barcelona</td>\n",
       "      <td>Vanguard</td>\n",
       "      <td>https://apps.apple.com/us/app/vanguard/id15690...</td>\n",
       "      <td>Productivity</td>\n",
       "      <td>17+</td>\n",
       "      <td>35228672.0</td>\n",
       "      <td>13.0</td>\n",
       "      <td>2021-06-11T07:00:00Z</td>\n",
       "      <td>2021-09-05T08:02:33Z</td>\n",
       "      <td>1.0.11</td>\n",
       "      <td>0.0</td>\n",
       "      <td>USD</td>\n",
       "      <td>True</td>\n",
       "      <td>1569057203</td>\n",
       "      <td>3k CO-LIVING $ ACCOMODATION</td>\n",
       "      <td>https://apps.apple.com/us/developer/3k-co-livi...</td>\n",
       "      <td>0.00000</td>\n",
       "      <td>0</td>\n",
       "      <td>0.00000</td>\n",
       "      <td>0</td>\n",
       "    </tr>\n",
       "    <tr>\n",
       "      <th>1066082</th>\n",
       "      <td>com.partnernogueiraalliance1.Vanguard1</td>\n",
       "      <td>Vanguard</td>\n",
       "      <td>https://apps.apple.com/us/app/vanguard/id14412...</td>\n",
       "      <td>Reference</td>\n",
       "      <td>4+</td>\n",
       "      <td>24201216.0</td>\n",
       "      <td>12.0</td>\n",
       "      <td>2018-11-13T01:31:37Z</td>\n",
       "      <td>2021-03-24T12:38:41Z</td>\n",
       "      <td>1.1.2</td>\n",
       "      <td>0.0</td>\n",
       "      <td>USD</td>\n",
       "      <td>True</td>\n",
       "      <td>1441217235</td>\n",
       "      <td>TONANDEL PTY LTD</td>\n",
       "      <td>https://apps.apple.com/us/developer/tonandel-p...</td>\n",
       "      <td>0.00000</td>\n",
       "      <td>0</td>\n",
       "      <td>0.00000</td>\n",
       "      <td>0</td>\n",
       "    </tr>\n",
       "    <tr>\n",
       "      <th>1094792</th>\n",
       "      <td>com.justbrands.highstreet.vanguard.ipad</td>\n",
       "      <td>Vanguard</td>\n",
       "      <td>https://apps.apple.com/us/app/vanguard/id91943...</td>\n",
       "      <td>Shopping</td>\n",
       "      <td>4+</td>\n",
       "      <td>68751360.0</td>\n",
       "      <td>13.0</td>\n",
       "      <td>2014-09-28T16:38:41Z</td>\n",
       "      <td>2021-07-26T09:36:18Z</td>\n",
       "      <td>2.114.14</td>\n",
       "      <td>0.0</td>\n",
       "      <td>USD</td>\n",
       "      <td>True</td>\n",
       "      <td>849091402</td>\n",
       "      <td>Just Brands B.V.</td>\n",
       "      <td>https://apps.apple.com/us/developer/just-brand...</td>\n",
       "      <td>5.00000</td>\n",
       "      <td>1</td>\n",
       "      <td>5.00000</td>\n",
       "      <td>1</td>\n",
       "    </tr>\n",
       "  </tbody>\n",
       "</table>\n",
       "</div>"
      ],
      "text/plain": [
       "                                          App_Id  App_Name  \\\n",
       "478488                          com.vanguard.app  Vanguard   \n",
       "624553                              com.omr.vngu  Vanguard   \n",
       "871735                       br.com.vanguardhome  Vanguard   \n",
       "1024185           com.proptex.vanguard.barcelona  Vanguard   \n",
       "1066082   com.partnernogueiraalliance1.Vanguard1  Vanguard   \n",
       "1094792  com.justbrands.highstreet.vanguard.ipad  Vanguard   \n",
       "\n",
       "                                              AppStore_Url Primary_Genre  \\\n",
       "478488   https://apps.apple.com/us/app/vanguard/id33518...       Finance   \n",
       "624553   https://apps.apple.com/us/app/vanguard/id15822...         Games   \n",
       "871735   https://apps.apple.com/us/app/vanguard/id14660...     Lifestyle   \n",
       "1024185  https://apps.apple.com/us/app/vanguard/id15690...  Productivity   \n",
       "1066082  https://apps.apple.com/us/app/vanguard/id14412...     Reference   \n",
       "1094792  https://apps.apple.com/us/app/vanguard/id91943...      Shopping   \n",
       "\n",
       "        Content_Rating   Size_Bytes Required_IOS_Version  \\\n",
       "478488              4+  160800768.0                 10.0   \n",
       "624553              4+  191240192.0                 10.0   \n",
       "871735              4+   87821312.0                  9.0   \n",
       "1024185            17+   35228672.0                 13.0   \n",
       "1066082             4+   24201216.0                 12.0   \n",
       "1094792             4+   68751360.0                 13.0   \n",
       "\n",
       "                     Released               Updated   Version  Price Currency  \\\n",
       "478488   2009-10-24T19:14:54Z  2021-08-26T19:55:20Z     11.14    0.0      USD   \n",
       "624553   2021-08-27T07:00:00Z  2021-08-27T12:16:53Z       1.0    0.0      USD   \n",
       "871735   2020-03-25T07:00:00Z  2021-10-05T23:12:01Z    1.1.10    0.0      USD   \n",
       "1024185  2021-06-11T07:00:00Z  2021-09-05T08:02:33Z    1.0.11    0.0      USD   \n",
       "1066082  2018-11-13T01:31:37Z  2021-03-24T12:38:41Z     1.1.2    0.0      USD   \n",
       "1094792  2014-09-28T16:38:41Z  2021-07-26T09:36:18Z  2.114.14    0.0      USD   \n",
       "\n",
       "         Free  DeveloperId                                        Developer  \\\n",
       "478488   True    335186212                         The Vanguard Group, Inc.   \n",
       "624553   True   1582197355                                       omar naser   \n",
       "871735   True   1459748843  Vanguard Home Empreendimentos Imobiliarios LTDA   \n",
       "1024185  True   1569057203                      3k CO-LIVING $ ACCOMODATION   \n",
       "1066082  True   1441217235                                 TONANDEL PTY LTD   \n",
       "1094792  True    849091402                                 Just Brands B.V.   \n",
       "\n",
       "                                             Developer_Url  \\\n",
       "478488   https://apps.apple.com/us/developer/the-vangua...   \n",
       "624553   https://apps.apple.com/us/developer/omar-naser...   \n",
       "871735   https://apps.apple.com/us/developer/vanguard-h...   \n",
       "1024185  https://apps.apple.com/us/developer/3k-co-livi...   \n",
       "1066082  https://apps.apple.com/us/developer/tonandel-p...   \n",
       "1094792  https://apps.apple.com/us/developer/just-brand...   \n",
       "\n",
       "         Average_User_Rating  Reviews  Current_Version_Score  \\\n",
       "478488               4.73977   167472                4.73977   \n",
       "624553               3.00000        2                3.00000   \n",
       "871735               0.00000        0                0.00000   \n",
       "1024185              0.00000        0                0.00000   \n",
       "1066082              0.00000        0                0.00000   \n",
       "1094792              5.00000        1                5.00000   \n",
       "\n",
       "         Current_Version_Reviews  \n",
       "478488                    167472  \n",
       "624553                         2  \n",
       "871735                         0  \n",
       "1024185                        0  \n",
       "1066082                        0  \n",
       "1094792                        1  "
      ]
     },
     "execution_count": 31,
     "metadata": {},
     "output_type": "execute_result"
    }
   ],
   "source": [
    "df[df['App_Name'] == 'Vanguard']"
   ]
  },
  {
   "cell_type": "markdown",
   "id": "7d5027f2",
   "metadata": {
    "id": "7d5027f2",
    "papermill": {
     "duration": 0.023382,
     "end_time": "2023-08-21T09:05:54.469773",
     "exception": false,
     "start_time": "2023-08-21T09:05:54.446391",
     "status": "completed"
    },
    "tags": []
   },
   "source": [
    "> Although App_name may have duplications, we checked all other duplicates but they all are unique as a whole, with varying versions, AppIds, and release dates."
   ]
  },
  {
   "cell_type": "markdown",
   "id": "abefd5d0",
   "metadata": {
    "id": "abefd5d0",
    "papermill": {
     "duration": 0.022793,
     "end_time": "2023-08-21T09:05:55.512806",
     "exception": false,
     "start_time": "2023-08-21T09:05:55.490013",
     "status": "completed"
    },
    "tags": []
   },
   "source": [
    " #### 4.6 Conversion of Size_Bytes into MBs\n",
    "We will convert Size_Bytes data to MB"
   ]
  },
  {
   "cell_type": "code",
   "execution_count": 32,
   "id": "dd3c0fee",
   "metadata": {
    "execution": {
     "iopub.execute_input": "2023-08-21T09:05:55.559212Z",
     "iopub.status.busy": "2023-08-21T09:05:55.558877Z",
     "iopub.status.idle": "2023-08-21T09:05:55.565279Z",
     "shell.execute_reply": "2023-08-21T09:05:55.564046Z"
    },
    "id": "dd3c0fee",
    "papermill": {
     "duration": 0.03188,
     "end_time": "2023-08-21T09:05:55.567157",
     "exception": false,
     "start_time": "2023-08-21T09:05:55.535277",
     "status": "completed"
    },
    "tags": []
   },
   "outputs": [],
   "source": [
    "df['Size_MB']=df.Size_Bytes/(1024*1024)"
   ]
  },
  {
   "cell_type": "markdown",
   "id": "59071dda",
   "metadata": {
    "id": "59071dda",
    "papermill": {
     "duration": 0.022722,
     "end_time": "2023-08-21T09:05:55.612465",
     "exception": false,
     "start_time": "2023-08-21T09:05:55.589743",
     "status": "completed"
    },
    "tags": []
   },
   "source": [
    "and droping the Size_Bytes attribute/column"
   ]
  },
  {
   "cell_type": "code",
   "execution_count": 33,
   "id": "b7161751",
   "metadata": {
    "execution": {
     "iopub.execute_input": "2023-08-21T09:05:55.659441Z",
     "iopub.status.busy": "2023-08-21T09:05:55.659126Z",
     "iopub.status.idle": "2023-08-21T09:05:55.788830Z",
     "shell.execute_reply": "2023-08-21T09:05:55.788055Z"
    },
    "id": "b7161751",
    "papermill": {
     "duration": 0.155204,
     "end_time": "2023-08-21T09:05:55.790876",
     "exception": false,
     "start_time": "2023-08-21T09:05:55.635672",
     "status": "completed"
    },
    "tags": []
   },
   "outputs": [],
   "source": [
    "df.drop(['Size_Bytes'],axis=1,inplace=True)"
   ]
  },
  {
   "cell_type": "code",
   "execution_count": 34,
   "id": "157621bb",
   "metadata": {
    "execution": {
     "iopub.execute_input": "2023-08-21T09:05:55.842599Z",
     "iopub.status.busy": "2023-08-21T09:05:55.842225Z",
     "iopub.status.idle": "2023-08-21T09:05:55.863072Z",
     "shell.execute_reply": "2023-08-21T09:05:55.862126Z"
    },
    "id": "157621bb",
    "outputId": "4881fb15-7dab-4777-db46-69c4d16ded17",
    "papermill": {
     "duration": 0.050169,
     "end_time": "2023-08-21T09:05:55.865203",
     "exception": false,
     "start_time": "2023-08-21T09:05:55.815034",
     "status": "completed"
    },
    "tags": []
   },
   "outputs": [
    {
     "data": {
      "text/html": [
       "<div>\n",
       "<style scoped>\n",
       "    .dataframe tbody tr th:only-of-type {\n",
       "        vertical-align: middle;\n",
       "    }\n",
       "\n",
       "    .dataframe tbody tr th {\n",
       "        vertical-align: top;\n",
       "    }\n",
       "\n",
       "    .dataframe thead th {\n",
       "        text-align: right;\n",
       "    }\n",
       "</style>\n",
       "<table border=\"1\" class=\"dataframe\">\n",
       "  <thead>\n",
       "    <tr style=\"text-align: right;\">\n",
       "      <th></th>\n",
       "      <th>App_Id</th>\n",
       "      <th>App_Name</th>\n",
       "      <th>AppStore_Url</th>\n",
       "      <th>Primary_Genre</th>\n",
       "      <th>Content_Rating</th>\n",
       "      <th>Required_IOS_Version</th>\n",
       "      <th>Released</th>\n",
       "      <th>Updated</th>\n",
       "      <th>Version</th>\n",
       "      <th>Price</th>\n",
       "      <th>Currency</th>\n",
       "      <th>Free</th>\n",
       "      <th>DeveloperId</th>\n",
       "      <th>Developer</th>\n",
       "      <th>Developer_Url</th>\n",
       "      <th>Average_User_Rating</th>\n",
       "      <th>Reviews</th>\n",
       "      <th>Current_Version_Score</th>\n",
       "      <th>Current_Version_Reviews</th>\n",
       "      <th>Size_MB</th>\n",
       "    </tr>\n",
       "  </thead>\n",
       "  <tbody>\n",
       "    <tr>\n",
       "      <th>0</th>\n",
       "      <td>com.hkbu.arc.apaper</td>\n",
       "      <td>A+ Paper Guide</td>\n",
       "      <td>https://apps.apple.com/us/app/a-paper-guide/id...</td>\n",
       "      <td>Education</td>\n",
       "      <td>4+</td>\n",
       "      <td>8.0</td>\n",
       "      <td>2017-09-28T03:02:41Z</td>\n",
       "      <td>2018-12-21T21:30:36Z</td>\n",
       "      <td>1.1.2</td>\n",
       "      <td>0.0</td>\n",
       "      <td>USD</td>\n",
       "      <td>True</td>\n",
       "      <td>1375410542</td>\n",
       "      <td>HKBU ARC</td>\n",
       "      <td>https://apps.apple.com/us/developer/hkbu-arc/i...</td>\n",
       "      <td>0.0</td>\n",
       "      <td>0</td>\n",
       "      <td>0.0</td>\n",
       "      <td>0</td>\n",
       "      <td>20.974609</td>\n",
       "    </tr>\n",
       "    <tr>\n",
       "      <th>1</th>\n",
       "      <td>com.dmitriev.abooks</td>\n",
       "      <td>A-Books</td>\n",
       "      <td>https://apps.apple.com/us/app/a-books/id103157...</td>\n",
       "      <td>Book</td>\n",
       "      <td>4+</td>\n",
       "      <td>10.0</td>\n",
       "      <td>2015-08-31T19:31:32Z</td>\n",
       "      <td>2019-07-23T20:31:09Z</td>\n",
       "      <td>1.3</td>\n",
       "      <td>0.0</td>\n",
       "      <td>USD</td>\n",
       "      <td>True</td>\n",
       "      <td>1031572001</td>\n",
       "      <td>Roman Dmitriev</td>\n",
       "      <td>https://apps.apple.com/us/developer/roman-dmit...</td>\n",
       "      <td>5.0</td>\n",
       "      <td>1</td>\n",
       "      <td>5.0</td>\n",
       "      <td>1</td>\n",
       "      <td>12.527344</td>\n",
       "    </tr>\n",
       "    <tr>\n",
       "      <th>2</th>\n",
       "      <td>no.terp.abooks</td>\n",
       "      <td>A-books</td>\n",
       "      <td>https://apps.apple.com/us/app/a-books/id145702...</td>\n",
       "      <td>Book</td>\n",
       "      <td>4+</td>\n",
       "      <td>9.0</td>\n",
       "      <td>2021-04-14T07:00:00Z</td>\n",
       "      <td>2021-05-30T21:08:54Z</td>\n",
       "      <td>1.3.1</td>\n",
       "      <td>0.0</td>\n",
       "      <td>USD</td>\n",
       "      <td>True</td>\n",
       "      <td>1457024163</td>\n",
       "      <td>Terp AS</td>\n",
       "      <td>https://apps.apple.com/us/developer/terp-as/id...</td>\n",
       "      <td>0.0</td>\n",
       "      <td>0</td>\n",
       "      <td>0.0</td>\n",
       "      <td>0</td>\n",
       "      <td>20.926758</td>\n",
       "    </tr>\n",
       "  </tbody>\n",
       "</table>\n",
       "</div>"
      ],
      "text/plain": [
       "                App_Id        App_Name  \\\n",
       "0  com.hkbu.arc.apaper  A+ Paper Guide   \n",
       "1  com.dmitriev.abooks         A-Books   \n",
       "2       no.terp.abooks         A-books   \n",
       "\n",
       "                                        AppStore_Url Primary_Genre  \\\n",
       "0  https://apps.apple.com/us/app/a-paper-guide/id...     Education   \n",
       "1  https://apps.apple.com/us/app/a-books/id103157...          Book   \n",
       "2  https://apps.apple.com/us/app/a-books/id145702...          Book   \n",
       "\n",
       "  Content_Rating Required_IOS_Version              Released  \\\n",
       "0             4+                  8.0  2017-09-28T03:02:41Z   \n",
       "1             4+                 10.0  2015-08-31T19:31:32Z   \n",
       "2             4+                  9.0  2021-04-14T07:00:00Z   \n",
       "\n",
       "                Updated Version  Price Currency  Free  DeveloperId  \\\n",
       "0  2018-12-21T21:30:36Z   1.1.2    0.0      USD  True   1375410542   \n",
       "1  2019-07-23T20:31:09Z     1.3    0.0      USD  True   1031572001   \n",
       "2  2021-05-30T21:08:54Z   1.3.1    0.0      USD  True   1457024163   \n",
       "\n",
       "        Developer                                      Developer_Url  \\\n",
       "0        HKBU ARC  https://apps.apple.com/us/developer/hkbu-arc/i...   \n",
       "1  Roman Dmitriev  https://apps.apple.com/us/developer/roman-dmit...   \n",
       "2         Terp AS  https://apps.apple.com/us/developer/terp-as/id...   \n",
       "\n",
       "   Average_User_Rating  Reviews  Current_Version_Score  \\\n",
       "0                  0.0        0                    0.0   \n",
       "1                  5.0        1                    5.0   \n",
       "2                  0.0        0                    0.0   \n",
       "\n",
       "   Current_Version_Reviews    Size_MB  \n",
       "0                        0  20.974609  \n",
       "1                        1  12.527344  \n",
       "2                        0  20.926758  "
      ]
     },
     "execution_count": 34,
     "metadata": {},
     "output_type": "execute_result"
    }
   ],
   "source": [
    "df.head(3)"
   ]
  },
  {
   "cell_type": "markdown",
   "id": "5a5666c3",
   "metadata": {
    "id": "5a5666c3",
    "papermill": {
     "duration": 0.023998,
     "end_time": "2023-08-21T09:05:55.913100",
     "exception": false,
     "start_time": "2023-08-21T09:05:55.889102",
     "status": "completed"
    },
    "tags": []
   },
   "source": [
    "##### 4.7. Creataing the column type for free and paid Apps and adding year in which published\n",
    "Using the Free column, it's helpfull while dealing with the paid and Free Apps from data readability perspective"
   ]
  },
  {
   "cell_type": "code",
   "execution_count": 35,
   "id": "cce42dbc",
   "metadata": {
    "execution": {
     "iopub.execute_input": "2023-08-21T09:05:55.963934Z",
     "iopub.status.busy": "2023-08-21T09:05:55.963529Z",
     "iopub.status.idle": "2023-08-21T09:05:56.173292Z",
     "shell.execute_reply": "2023-08-21T09:05:56.172073Z"
    },
    "id": "cce42dbc",
    "papermill": {
     "duration": 0.237831,
     "end_time": "2023-08-21T09:05:56.175509",
     "exception": false,
     "start_time": "2023-08-21T09:05:55.937678",
     "status": "completed"
    },
    "tags": []
   },
   "outputs": [],
   "source": [
    "df['Year']= pd.to_datetime(df['Released']).dt.year"
   ]
  },
  {
   "cell_type": "code",
   "execution_count": 36,
   "id": "89e3125d",
   "metadata": {
    "execution": {
     "iopub.execute_input": "2023-08-21T09:05:56.226524Z",
     "iopub.status.busy": "2023-08-21T09:05:56.226151Z",
     "iopub.status.idle": "2023-08-21T09:05:56.337206Z",
     "shell.execute_reply": "2023-08-21T09:05:56.335963Z"
    },
    "id": "89e3125d",
    "papermill": {
     "duration": 0.14041,
     "end_time": "2023-08-21T09:05:56.339791",
     "exception": false,
     "start_time": "2023-08-21T09:05:56.199381",
     "status": "completed"
    },
    "tags": []
   },
   "outputs": [],
   "source": [
    "df['Type'] = np.where(df['Free'] == True,'Free','Paid')\n",
    "df.drop(['Free'],axis=1, inplace= True )"
   ]
  },
  {
   "cell_type": "code",
   "execution_count": 37,
   "id": "fed2cf7e",
   "metadata": {
    "execution": {
     "iopub.execute_input": "2023-08-21T09:05:56.391508Z",
     "iopub.status.busy": "2023-08-21T09:05:56.391158Z",
     "iopub.status.idle": "2023-08-21T09:05:56.414079Z",
     "shell.execute_reply": "2023-08-21T09:05:56.413113Z"
    },
    "id": "fed2cf7e",
    "outputId": "13811b94-e148-4973-e6b2-70437001e3c0",
    "papermill": {
     "duration": 0.051039,
     "end_time": "2023-08-21T09:05:56.415834",
     "exception": false,
     "start_time": "2023-08-21T09:05:56.364795",
     "status": "completed"
    },
    "tags": []
   },
   "outputs": [
    {
     "data": {
      "text/html": [
       "<div>\n",
       "<style scoped>\n",
       "    .dataframe tbody tr th:only-of-type {\n",
       "        vertical-align: middle;\n",
       "    }\n",
       "\n",
       "    .dataframe tbody tr th {\n",
       "        vertical-align: top;\n",
       "    }\n",
       "\n",
       "    .dataframe thead th {\n",
       "        text-align: right;\n",
       "    }\n",
       "</style>\n",
       "<table border=\"1\" class=\"dataframe\">\n",
       "  <thead>\n",
       "    <tr style=\"text-align: right;\">\n",
       "      <th></th>\n",
       "      <th>App_Id</th>\n",
       "      <th>App_Name</th>\n",
       "      <th>AppStore_Url</th>\n",
       "      <th>Primary_Genre</th>\n",
       "      <th>Content_Rating</th>\n",
       "      <th>Required_IOS_Version</th>\n",
       "      <th>Released</th>\n",
       "      <th>Updated</th>\n",
       "      <th>Version</th>\n",
       "      <th>Price</th>\n",
       "      <th>...</th>\n",
       "      <th>DeveloperId</th>\n",
       "      <th>Developer</th>\n",
       "      <th>Developer_Url</th>\n",
       "      <th>Average_User_Rating</th>\n",
       "      <th>Reviews</th>\n",
       "      <th>Current_Version_Score</th>\n",
       "      <th>Current_Version_Reviews</th>\n",
       "      <th>Size_MB</th>\n",
       "      <th>Year</th>\n",
       "      <th>Type</th>\n",
       "    </tr>\n",
       "  </thead>\n",
       "  <tbody>\n",
       "    <tr>\n",
       "      <th>0</th>\n",
       "      <td>com.hkbu.arc.apaper</td>\n",
       "      <td>A+ Paper Guide</td>\n",
       "      <td>https://apps.apple.com/us/app/a-paper-guide/id...</td>\n",
       "      <td>Education</td>\n",
       "      <td>4+</td>\n",
       "      <td>8.0</td>\n",
       "      <td>2017-09-28T03:02:41Z</td>\n",
       "      <td>2018-12-21T21:30:36Z</td>\n",
       "      <td>1.1.2</td>\n",
       "      <td>0.0</td>\n",
       "      <td>...</td>\n",
       "      <td>1375410542</td>\n",
       "      <td>HKBU ARC</td>\n",
       "      <td>https://apps.apple.com/us/developer/hkbu-arc/i...</td>\n",
       "      <td>0.0</td>\n",
       "      <td>0</td>\n",
       "      <td>0.0</td>\n",
       "      <td>0</td>\n",
       "      <td>20.974609</td>\n",
       "      <td>2017</td>\n",
       "      <td>Free</td>\n",
       "    </tr>\n",
       "    <tr>\n",
       "      <th>1</th>\n",
       "      <td>com.dmitriev.abooks</td>\n",
       "      <td>A-Books</td>\n",
       "      <td>https://apps.apple.com/us/app/a-books/id103157...</td>\n",
       "      <td>Book</td>\n",
       "      <td>4+</td>\n",
       "      <td>10.0</td>\n",
       "      <td>2015-08-31T19:31:32Z</td>\n",
       "      <td>2019-07-23T20:31:09Z</td>\n",
       "      <td>1.3</td>\n",
       "      <td>0.0</td>\n",
       "      <td>...</td>\n",
       "      <td>1031572001</td>\n",
       "      <td>Roman Dmitriev</td>\n",
       "      <td>https://apps.apple.com/us/developer/roman-dmit...</td>\n",
       "      <td>5.0</td>\n",
       "      <td>1</td>\n",
       "      <td>5.0</td>\n",
       "      <td>1</td>\n",
       "      <td>12.527344</td>\n",
       "      <td>2015</td>\n",
       "      <td>Free</td>\n",
       "    </tr>\n",
       "    <tr>\n",
       "      <th>2</th>\n",
       "      <td>no.terp.abooks</td>\n",
       "      <td>A-books</td>\n",
       "      <td>https://apps.apple.com/us/app/a-books/id145702...</td>\n",
       "      <td>Book</td>\n",
       "      <td>4+</td>\n",
       "      <td>9.0</td>\n",
       "      <td>2021-04-14T07:00:00Z</td>\n",
       "      <td>2021-05-30T21:08:54Z</td>\n",
       "      <td>1.3.1</td>\n",
       "      <td>0.0</td>\n",
       "      <td>...</td>\n",
       "      <td>1457024163</td>\n",
       "      <td>Terp AS</td>\n",
       "      <td>https://apps.apple.com/us/developer/terp-as/id...</td>\n",
       "      <td>0.0</td>\n",
       "      <td>0</td>\n",
       "      <td>0.0</td>\n",
       "      <td>0</td>\n",
       "      <td>20.926758</td>\n",
       "      <td>2021</td>\n",
       "      <td>Free</td>\n",
       "    </tr>\n",
       "  </tbody>\n",
       "</table>\n",
       "<p>3 rows × 21 columns</p>\n",
       "</div>"
      ],
      "text/plain": [
       "                App_Id        App_Name  \\\n",
       "0  com.hkbu.arc.apaper  A+ Paper Guide   \n",
       "1  com.dmitriev.abooks         A-Books   \n",
       "2       no.terp.abooks         A-books   \n",
       "\n",
       "                                        AppStore_Url Primary_Genre  \\\n",
       "0  https://apps.apple.com/us/app/a-paper-guide/id...     Education   \n",
       "1  https://apps.apple.com/us/app/a-books/id103157...          Book   \n",
       "2  https://apps.apple.com/us/app/a-books/id145702...          Book   \n",
       "\n",
       "  Content_Rating Required_IOS_Version              Released  \\\n",
       "0             4+                  8.0  2017-09-28T03:02:41Z   \n",
       "1             4+                 10.0  2015-08-31T19:31:32Z   \n",
       "2             4+                  9.0  2021-04-14T07:00:00Z   \n",
       "\n",
       "                Updated Version  Price  ... DeveloperId       Developer  \\\n",
       "0  2018-12-21T21:30:36Z   1.1.2    0.0  ...  1375410542        HKBU ARC   \n",
       "1  2019-07-23T20:31:09Z     1.3    0.0  ...  1031572001  Roman Dmitriev   \n",
       "2  2021-05-30T21:08:54Z   1.3.1    0.0  ...  1457024163         Terp AS   \n",
       "\n",
       "                                       Developer_Url Average_User_Rating  \\\n",
       "0  https://apps.apple.com/us/developer/hkbu-arc/i...                 0.0   \n",
       "1  https://apps.apple.com/us/developer/roman-dmit...                 5.0   \n",
       "2  https://apps.apple.com/us/developer/terp-as/id...                 0.0   \n",
       "\n",
       "   Reviews  Current_Version_Score  Current_Version_Reviews    Size_MB  Year  \\\n",
       "0        0                    0.0                        0  20.974609  2017   \n",
       "1        1                    5.0                        1  12.527344  2015   \n",
       "2        0                    0.0                        0  20.926758  2021   \n",
       "\n",
       "   Type  \n",
       "0  Free  \n",
       "1  Free  \n",
       "2  Free  \n",
       "\n",
       "[3 rows x 21 columns]"
      ]
     },
     "execution_count": 37,
     "metadata": {},
     "output_type": "execute_result"
    }
   ],
   "source": [
    "df.head(3)"
   ]
  },
  {
   "cell_type": "markdown",
   "id": "4b3033d2",
   "metadata": {
    "id": "4b3033d2",
    "papermill": {
     "duration": 0.022931,
     "end_time": "2023-08-21T09:05:56.462131",
     "exception": false,
     "start_time": "2023-08-21T09:05:56.439200",
     "status": "completed"
    },
    "tags": []
   },
   "source": [
    "#### 4.8. Viewing the content of the column 'Content_Rating'\n",
    "First we will view the unique values present in this column"
   ]
  },
  {
   "cell_type": "code",
   "execution_count": 38,
   "id": "f837cf1a",
   "metadata": {
    "execution": {
     "iopub.execute_input": "2023-08-21T09:05:56.513835Z",
     "iopub.status.busy": "2023-08-21T09:05:56.513459Z",
     "iopub.status.idle": "2023-08-21T09:05:56.542670Z",
     "shell.execute_reply": "2023-08-21T09:05:56.541521Z"
    },
    "id": "f837cf1a",
    "outputId": "50b9b3ec-d630-4e26-c195-d9df6d2d9032",
    "papermill": {
     "duration": 0.057693,
     "end_time": "2023-08-21T09:05:56.544453",
     "exception": false,
     "start_time": "2023-08-21T09:05:56.486760",
     "status": "completed"
    },
    "tags": []
   },
   "outputs": [
    {
     "data": {
      "text/plain": [
       "array(['4+', '17+', '9+', '12+', 'Not yet rated'], dtype=object)"
      ]
     },
     "execution_count": 38,
     "metadata": {},
     "output_type": "execute_result"
    }
   ],
   "source": [
    "df.Content_Rating.unique()"
   ]
  },
  {
   "cell_type": "markdown",
   "id": "3df667c5",
   "metadata": {
    "id": "3df667c5",
    "papermill": {
     "duration": 0.023386,
     "end_time": "2023-08-21T09:05:56.592102",
     "exception": false,
     "start_time": "2023-08-21T09:05:56.568716",
     "status": "completed"
    },
    "tags": []
   },
   "source": [
    "we will make these categories to a simple 4 readable Categories for better understanding :\n",
    "\n",
    "- Children,\n",
    "- Teens,\n",
    "- Adults &\n",
    "- Everyone"
   ]
  },
  {
   "cell_type": "code",
   "execution_count": 39,
   "id": "4e294dbb",
   "metadata": {
    "execution": {
     "iopub.execute_input": "2023-08-21T09:05:56.641034Z",
     "iopub.status.busy": "2023-08-21T09:05:56.640661Z",
     "iopub.status.idle": "2023-08-21T09:05:56.766082Z",
     "shell.execute_reply": "2023-08-21T09:05:56.765134Z"
    },
    "id": "4e294dbb",
    "papermill": {
     "duration": 0.152636,
     "end_time": "2023-08-21T09:05:56.768356",
     "exception": false,
     "start_time": "2023-08-21T09:05:56.615720",
     "status": "completed"
    },
    "tags": []
   },
   "outputs": [],
   "source": [
    "df[\"Content_Rating\"]=df[\"Content_Rating\"].replace(\"4+\",\"Children\")\n",
    "df[\"Content_Rating\"]=df[\"Content_Rating\"].replace(\"9+\",\"Children\")\n",
    "df[\"Content_Rating\"]=df[\"Content_Rating\"].replace(\"12+\",\"Teens\")\n",
    "df[\"Content_Rating\"]=df[\"Content_Rating\"].replace(\"17+\",\"Adults\")\n",
    "df[\"Content_Rating\"]=df[\"Content_Rating\"].replace(\"Not yet rated\",\"Everyone\")"
   ]
  },
  {
   "cell_type": "markdown",
   "id": "c14260c2",
   "metadata": {
    "id": "c14260c2",
    "papermill": {
     "duration": 0.022921,
     "end_time": "2023-08-21T09:05:56.814580",
     "exception": false,
     "start_time": "2023-08-21T09:05:56.791659",
     "status": "completed"
    },
    "tags": []
   },
   "source": [
    "Presenting the content of the coulumn in Ascending order 'Children', 'Teens', 'Everyone', 'Adults'"
   ]
  },
  {
   "cell_type": "code",
   "execution_count": 40,
   "id": "f4dcbb1c",
   "metadata": {
    "execution": {
     "iopub.execute_input": "2023-08-21T09:05:56.864408Z",
     "iopub.status.busy": "2023-08-21T09:05:56.864061Z",
     "iopub.status.idle": "2023-08-21T09:05:56.893557Z",
     "shell.execute_reply": "2023-08-21T09:05:56.892519Z"
    },
    "id": "f4dcbb1c",
    "papermill": {
     "duration": 0.057351,
     "end_time": "2023-08-21T09:05:56.896010",
     "exception": false,
     "start_time": "2023-08-21T09:05:56.838659",
     "status": "completed"
    },
    "tags": []
   },
   "outputs": [],
   "source": [
    "agegroup = df['Content_Rating'].unique()\n",
    "\n",
    "# define the order in which you want to print the values\n",
    "custom_order = ['Children', 'Teens', 'Adults', 'Everyone']\n",
    "\n",
    "# sort the array in the custom order\n",
    "sorted_array = sorted(['Children', 'Teens', 'Adults', 'Everyone'], key=lambda x: custom_order.index(x))\n"
   ]
  },
  {
   "cell_type": "code",
   "execution_count": 41,
   "id": "387c74a8",
   "metadata": {
    "execution": {
     "iopub.execute_input": "2023-08-21T09:05:56.946415Z",
     "iopub.status.busy": "2023-08-21T09:05:56.946036Z",
     "iopub.status.idle": "2023-08-21T09:05:56.967912Z",
     "shell.execute_reply": "2023-08-21T09:05:56.966418Z"
    },
    "id": "387c74a8",
    "outputId": "a1000135-d8cb-407d-d832-2eb64c4b1432",
    "papermill": {
     "duration": 0.050227,
     "end_time": "2023-08-21T09:05:56.970597",
     "exception": false,
     "start_time": "2023-08-21T09:05:56.920370",
     "status": "completed"
    },
    "tags": []
   },
   "outputs": [
    {
     "data": {
      "text/html": [
       "<div>\n",
       "<style scoped>\n",
       "    .dataframe tbody tr th:only-of-type {\n",
       "        vertical-align: middle;\n",
       "    }\n",
       "\n",
       "    .dataframe tbody tr th {\n",
       "        vertical-align: top;\n",
       "    }\n",
       "\n",
       "    .dataframe thead th {\n",
       "        text-align: right;\n",
       "    }\n",
       "</style>\n",
       "<table border=\"1\" class=\"dataframe\">\n",
       "  <thead>\n",
       "    <tr style=\"text-align: right;\">\n",
       "      <th></th>\n",
       "      <th>App_Id</th>\n",
       "      <th>App_Name</th>\n",
       "      <th>AppStore_Url</th>\n",
       "      <th>Primary_Genre</th>\n",
       "      <th>Content_Rating</th>\n",
       "      <th>Required_IOS_Version</th>\n",
       "      <th>Released</th>\n",
       "      <th>Updated</th>\n",
       "      <th>Version</th>\n",
       "      <th>Price</th>\n",
       "      <th>...</th>\n",
       "      <th>DeveloperId</th>\n",
       "      <th>Developer</th>\n",
       "      <th>Developer_Url</th>\n",
       "      <th>Average_User_Rating</th>\n",
       "      <th>Reviews</th>\n",
       "      <th>Current_Version_Score</th>\n",
       "      <th>Current_Version_Reviews</th>\n",
       "      <th>Size_MB</th>\n",
       "      <th>Year</th>\n",
       "      <th>Type</th>\n",
       "    </tr>\n",
       "  </thead>\n",
       "  <tbody>\n",
       "    <tr>\n",
       "      <th>0</th>\n",
       "      <td>com.hkbu.arc.apaper</td>\n",
       "      <td>A+ Paper Guide</td>\n",
       "      <td>https://apps.apple.com/us/app/a-paper-guide/id...</td>\n",
       "      <td>Education</td>\n",
       "      <td>Children</td>\n",
       "      <td>8.0</td>\n",
       "      <td>2017-09-28T03:02:41Z</td>\n",
       "      <td>2018-12-21T21:30:36Z</td>\n",
       "      <td>1.1.2</td>\n",
       "      <td>0.00</td>\n",
       "      <td>...</td>\n",
       "      <td>1375410542</td>\n",
       "      <td>HKBU ARC</td>\n",
       "      <td>https://apps.apple.com/us/developer/hkbu-arc/i...</td>\n",
       "      <td>0.0</td>\n",
       "      <td>0</td>\n",
       "      <td>0.0</td>\n",
       "      <td>0</td>\n",
       "      <td>20.974609</td>\n",
       "      <td>2017</td>\n",
       "      <td>Free</td>\n",
       "    </tr>\n",
       "    <tr>\n",
       "      <th>1</th>\n",
       "      <td>com.dmitriev.abooks</td>\n",
       "      <td>A-Books</td>\n",
       "      <td>https://apps.apple.com/us/app/a-books/id103157...</td>\n",
       "      <td>Book</td>\n",
       "      <td>Children</td>\n",
       "      <td>10.0</td>\n",
       "      <td>2015-08-31T19:31:32Z</td>\n",
       "      <td>2019-07-23T20:31:09Z</td>\n",
       "      <td>1.3</td>\n",
       "      <td>0.00</td>\n",
       "      <td>...</td>\n",
       "      <td>1031572001</td>\n",
       "      <td>Roman Dmitriev</td>\n",
       "      <td>https://apps.apple.com/us/developer/roman-dmit...</td>\n",
       "      <td>5.0</td>\n",
       "      <td>1</td>\n",
       "      <td>5.0</td>\n",
       "      <td>1</td>\n",
       "      <td>12.527344</td>\n",
       "      <td>2015</td>\n",
       "      <td>Free</td>\n",
       "    </tr>\n",
       "    <tr>\n",
       "      <th>2</th>\n",
       "      <td>no.terp.abooks</td>\n",
       "      <td>A-books</td>\n",
       "      <td>https://apps.apple.com/us/app/a-books/id145702...</td>\n",
       "      <td>Book</td>\n",
       "      <td>Children</td>\n",
       "      <td>9.0</td>\n",
       "      <td>2021-04-14T07:00:00Z</td>\n",
       "      <td>2021-05-30T21:08:54Z</td>\n",
       "      <td>1.3.1</td>\n",
       "      <td>0.00</td>\n",
       "      <td>...</td>\n",
       "      <td>1457024163</td>\n",
       "      <td>Terp AS</td>\n",
       "      <td>https://apps.apple.com/us/developer/terp-as/id...</td>\n",
       "      <td>0.0</td>\n",
       "      <td>0</td>\n",
       "      <td>0.0</td>\n",
       "      <td>0</td>\n",
       "      <td>20.926758</td>\n",
       "      <td>2021</td>\n",
       "      <td>Free</td>\n",
       "    </tr>\n",
       "    <tr>\n",
       "      <th>3</th>\n",
       "      <td>fr.antoinettefleur.Book1</td>\n",
       "      <td>A-F Book #1</td>\n",
       "      <td>https://apps.apple.com/us/app/a-f-book-1/id500...</td>\n",
       "      <td>Book</td>\n",
       "      <td>Children</td>\n",
       "      <td>8.0</td>\n",
       "      <td>2012-02-10T03:40:07Z</td>\n",
       "      <td>2019-10-29T12:40:37Z</td>\n",
       "      <td>1.2</td>\n",
       "      <td>2.99</td>\n",
       "      <td>...</td>\n",
       "      <td>439568839</td>\n",
       "      <td>i-editeur.com</td>\n",
       "      <td>https://apps.apple.com/us/developer/i-editeur-...</td>\n",
       "      <td>0.0</td>\n",
       "      <td>0</td>\n",
       "      <td>0.0</td>\n",
       "      <td>0</td>\n",
       "      <td>78.059570</td>\n",
       "      <td>2012</td>\n",
       "      <td>Paid</td>\n",
       "    </tr>\n",
       "  </tbody>\n",
       "</table>\n",
       "<p>4 rows × 21 columns</p>\n",
       "</div>"
      ],
      "text/plain": [
       "                     App_Id        App_Name  \\\n",
       "0       com.hkbu.arc.apaper  A+ Paper Guide   \n",
       "1       com.dmitriev.abooks         A-Books   \n",
       "2            no.terp.abooks         A-books   \n",
       "3  fr.antoinettefleur.Book1     A-F Book #1   \n",
       "\n",
       "                                        AppStore_Url Primary_Genre  \\\n",
       "0  https://apps.apple.com/us/app/a-paper-guide/id...     Education   \n",
       "1  https://apps.apple.com/us/app/a-books/id103157...          Book   \n",
       "2  https://apps.apple.com/us/app/a-books/id145702...          Book   \n",
       "3  https://apps.apple.com/us/app/a-f-book-1/id500...          Book   \n",
       "\n",
       "  Content_Rating Required_IOS_Version              Released  \\\n",
       "0       Children                  8.0  2017-09-28T03:02:41Z   \n",
       "1       Children                 10.0  2015-08-31T19:31:32Z   \n",
       "2       Children                  9.0  2021-04-14T07:00:00Z   \n",
       "3       Children                  8.0  2012-02-10T03:40:07Z   \n",
       "\n",
       "                Updated Version  Price  ... DeveloperId       Developer  \\\n",
       "0  2018-12-21T21:30:36Z   1.1.2   0.00  ...  1375410542        HKBU ARC   \n",
       "1  2019-07-23T20:31:09Z     1.3   0.00  ...  1031572001  Roman Dmitriev   \n",
       "2  2021-05-30T21:08:54Z   1.3.1   0.00  ...  1457024163         Terp AS   \n",
       "3  2019-10-29T12:40:37Z     1.2   2.99  ...   439568839   i-editeur.com   \n",
       "\n",
       "                                       Developer_Url Average_User_Rating  \\\n",
       "0  https://apps.apple.com/us/developer/hkbu-arc/i...                 0.0   \n",
       "1  https://apps.apple.com/us/developer/roman-dmit...                 5.0   \n",
       "2  https://apps.apple.com/us/developer/terp-as/id...                 0.0   \n",
       "3  https://apps.apple.com/us/developer/i-editeur-...                 0.0   \n",
       "\n",
       "   Reviews  Current_Version_Score  Current_Version_Reviews    Size_MB  Year  \\\n",
       "0        0                    0.0                        0  20.974609  2017   \n",
       "1        1                    5.0                        1  12.527344  2015   \n",
       "2        0                    0.0                        0  20.926758  2021   \n",
       "3        0                    0.0                        0  78.059570  2012   \n",
       "\n",
       "   Type  \n",
       "0  Free  \n",
       "1  Free  \n",
       "2  Free  \n",
       "3  Paid  \n",
       "\n",
       "[4 rows x 21 columns]"
      ]
     },
     "execution_count": 41,
     "metadata": {},
     "output_type": "execute_result"
    }
   ],
   "source": [
    "df.head(4)"
   ]
  },
  {
   "cell_type": "code",
   "execution_count": 42,
   "id": "41ab668c",
   "metadata": {
    "execution": {
     "iopub.execute_input": "2023-08-21T09:05:57.021903Z",
     "iopub.status.busy": "2023-08-21T09:05:57.021515Z",
     "iopub.status.idle": "2023-08-21T09:05:57.027872Z",
     "shell.execute_reply": "2023-08-21T09:05:57.027030Z"
    },
    "id": "41ab668c",
    "outputId": "c5e81024-cda7-411d-81f0-46c9567d19fe",
    "papermill": {
     "duration": 0.034661,
     "end_time": "2023-08-21T09:05:57.030237",
     "exception": false,
     "start_time": "2023-08-21T09:05:56.995576",
     "status": "completed"
    },
    "tags": []
   },
   "outputs": [
    {
     "data": {
      "text/plain": [
       "0"
      ]
     },
     "execution_count": 42,
     "metadata": {},
     "output_type": "execute_result"
    }
   ],
   "source": [
    "df.Reviews.min()"
   ]
  },
  {
   "cell_type": "code",
   "execution_count": 43,
   "id": "ea28c673",
   "metadata": {
    "execution": {
     "iopub.execute_input": "2023-08-21T09:05:57.082039Z",
     "iopub.status.busy": "2023-08-21T09:05:57.081676Z",
     "iopub.status.idle": "2023-08-21T09:05:57.087832Z",
     "shell.execute_reply": "2023-08-21T09:05:57.086927Z"
    },
    "id": "ea28c673",
    "outputId": "8c1fb1d1-e3e8-4b71-d9c1-a2f578ade3ad",
    "papermill": {
     "duration": 0.03439,
     "end_time": "2023-08-21T09:05:57.089582",
     "exception": false,
     "start_time": "2023-08-21T09:05:57.055192",
     "status": "completed"
    },
    "tags": []
   },
   "outputs": [
    {
     "data": {
      "text/plain": [
       "22685334"
      ]
     },
     "execution_count": 43,
     "metadata": {},
     "output_type": "execute_result"
    }
   ],
   "source": [
    "df.Reviews.max()"
   ]
  },
  {
   "cell_type": "code",
   "execution_count": 44,
   "id": "34148cc5",
   "metadata": {
    "execution": {
     "iopub.execute_input": "2023-08-21T09:05:57.141187Z",
     "iopub.status.busy": "2023-08-21T09:05:57.140755Z",
     "iopub.status.idle": "2023-08-21T09:05:57.160756Z",
     "shell.execute_reply": "2023-08-21T09:05:57.159714Z"
    },
    "id": "34148cc5",
    "outputId": "e2805174-a97b-4a93-b461-23a8c0197c9b",
    "papermill": {
     "duration": 0.048264,
     "end_time": "2023-08-21T09:05:57.162677",
     "exception": false,
     "start_time": "2023-08-21T09:05:57.114413",
     "status": "completed"
    },
    "tags": []
   },
   "outputs": [
    {
     "data": {
      "text/plain": [
       "count    1.229263e+06\n",
       "mean     8.266250e+02\n",
       "std      5.018320e+04\n",
       "min      0.000000e+00\n",
       "25%      0.000000e+00\n",
       "50%      0.000000e+00\n",
       "75%      3.000000e+00\n",
       "max      2.268533e+07\n",
       "Name: Reviews, dtype: float64"
      ]
     },
     "execution_count": 44,
     "metadata": {},
     "output_type": "execute_result"
    }
   ],
   "source": [
    "df.Reviews.describe()"
   ]
  },
  {
   "cell_type": "markdown",
   "id": "d315d566",
   "metadata": {
    "id": "d315d566",
    "papermill": {
     "duration": 0.023853,
     "end_time": "2023-08-21T09:05:57.211258",
     "exception": false,
     "start_time": "2023-08-21T09:05:57.187405",
     "status": "completed"
    },
    "tags": []
   },
   "source": [
    "Review column is numeric column that holds information about the number fo reviews users left while dowloading /using the app\n",
    "\n",
    "- We have a long sequence of data when it comes to Reviews column :\n",
    "\n",
    "- min 0 max 22685334\n",
    "\n",
    "We can club this long sequence into a compressed form and presentation. In another column called ReviewCategory\n",
    "\n",
    "- if an app has reviews between 0 and 10000 --> Less than 10K\n",
    "- if an app has reviews between 10000 and 500000 --> Between 10K and 500K\n",
    "- if an app has reviews between 500000 and 1000000 --> Between 500K and 1Mil\n",
    "- if an app has reviews between 1000000 and 22685334 --> Million Plus"
   ]
  },
  {
   "cell_type": "code",
   "execution_count": 45,
   "id": "6cf41c7d",
   "metadata": {
    "execution": {
     "iopub.execute_input": "2023-08-21T09:05:57.261900Z",
     "iopub.status.busy": "2023-08-21T09:05:57.261522Z",
     "iopub.status.idle": "2023-08-21T09:05:57.301048Z",
     "shell.execute_reply": "2023-08-21T09:05:57.299450Z"
    },
    "id": "6cf41c7d",
    "outputId": "7a352ebe-c2d2-4381-d917-e4dd18de0bbf",
    "papermill": {
     "duration": 0.068182,
     "end_time": "2023-08-21T09:05:57.303822",
     "exception": false,
     "start_time": "2023-08-21T09:05:57.235640",
     "status": "completed"
    },
    "tags": []
   },
   "outputs": [
    {
     "data": {
      "text/plain": [
       "NoReviewsProvided        683549\n",
       "Less than 10K            538691\n",
       "Between 10K and 500K       6725\n",
       "Million Plus                152\n",
       "Between 500K and 1Mil       146\n",
       "Name: ReviewCategory, dtype: int64"
      ]
     },
     "execution_count": 45,
     "metadata": {},
     "output_type": "execute_result"
    }
   ],
   "source": [
    "df['ReviewCategory'] = 'NoReviewsProvided'\n",
    "df.loc[(df['Reviews'] > 0) & (df['Reviews'] <= 10000.0),'ReviewCategory'] = 'Less than 10K'\n",
    "df.loc[(df['Reviews'] > 10000) & (df['Reviews'] <= 500000.0),'ReviewCategory'] = 'Between 10K and 500K'\n",
    "df.loc[(df['Reviews'] > 500000) & (df['Reviews'] <= 1000000),'ReviewCategory'] = 'Between 500K and 1Mil'\n",
    "df.loc[(df['Reviews'] > 1000000) & (df['Reviews'] <= 22685334),'ReviewCategory'] = 'Million Plus'\n",
    "df['ReviewCategory'].value_counts()"
   ]
  },
  {
   "cell_type": "markdown",
   "id": "c036c61d",
   "metadata": {
    "id": "c036c61d",
    "papermill": {
     "duration": 0.025298,
     "end_time": "2023-08-21T09:05:57.354684",
     "exception": false,
     "start_time": "2023-08-21T09:05:57.329386",
     "status": "completed"
    },
    "tags": []
   },
   "source": [
    "#### 4.9. Cleaning Average_User_Rating column\n",
    "\n",
    "Let's round off and store the float decimal values in the df.Average_User_Rating column, which are currently in the range of 0 to 5."
   ]
  },
  {
   "cell_type": "code",
   "execution_count": 46,
   "id": "d92a2829",
   "metadata": {
    "execution": {
     "iopub.execute_input": "2023-08-21T09:05:57.406289Z",
     "iopub.status.busy": "2023-08-21T09:05:57.405895Z",
     "iopub.status.idle": "2023-08-21T09:05:57.413399Z",
     "shell.execute_reply": "2023-08-21T09:05:57.412454Z"
    },
    "id": "d92a2829",
    "papermill": {
     "duration": 0.035661,
     "end_time": "2023-08-21T09:05:57.415285",
     "exception": false,
     "start_time": "2023-08-21T09:05:57.379624",
     "status": "completed"
    },
    "tags": []
   },
   "outputs": [],
   "source": [
    "df[\"Average_User_Rating\"] = df[\"Average_User_Rating\"].round().astype(int)"
   ]
  },
  {
   "cell_type": "code",
   "execution_count": 47,
   "id": "b429a31a",
   "metadata": {
    "execution": {
     "iopub.execute_input": "2023-08-21T09:05:57.467049Z",
     "iopub.status.busy": "2023-08-21T09:05:57.466396Z",
     "iopub.status.idle": "2023-08-21T09:05:57.485798Z",
     "shell.execute_reply": "2023-08-21T09:05:57.485124Z"
    },
    "id": "b429a31a",
    "outputId": "af93875c-ad03-4621-ff19-f64eb6dc2a03",
    "papermill": {
     "duration": 0.047232,
     "end_time": "2023-08-21T09:05:57.487632",
     "exception": false,
     "start_time": "2023-08-21T09:05:57.440400",
     "status": "completed"
    },
    "tags": []
   },
   "outputs": [
    {
     "data": {
      "text/html": [
       "<div>\n",
       "<style scoped>\n",
       "    .dataframe tbody tr th:only-of-type {\n",
       "        vertical-align: middle;\n",
       "    }\n",
       "\n",
       "    .dataframe tbody tr th {\n",
       "        vertical-align: top;\n",
       "    }\n",
       "\n",
       "    .dataframe thead th {\n",
       "        text-align: right;\n",
       "    }\n",
       "</style>\n",
       "<table border=\"1\" class=\"dataframe\">\n",
       "  <thead>\n",
       "    <tr style=\"text-align: right;\">\n",
       "      <th></th>\n",
       "      <th>App_Id</th>\n",
       "      <th>App_Name</th>\n",
       "      <th>AppStore_Url</th>\n",
       "      <th>Primary_Genre</th>\n",
       "      <th>Content_Rating</th>\n",
       "      <th>Required_IOS_Version</th>\n",
       "      <th>Released</th>\n",
       "      <th>Updated</th>\n",
       "      <th>Version</th>\n",
       "      <th>Price</th>\n",
       "      <th>...</th>\n",
       "      <th>Developer</th>\n",
       "      <th>Developer_Url</th>\n",
       "      <th>Average_User_Rating</th>\n",
       "      <th>Reviews</th>\n",
       "      <th>Current_Version_Score</th>\n",
       "      <th>Current_Version_Reviews</th>\n",
       "      <th>Size_MB</th>\n",
       "      <th>Year</th>\n",
       "      <th>Type</th>\n",
       "      <th>ReviewCategory</th>\n",
       "    </tr>\n",
       "  </thead>\n",
       "  <tbody>\n",
       "    <tr>\n",
       "      <th>0</th>\n",
       "      <td>com.hkbu.arc.apaper</td>\n",
       "      <td>A+ Paper Guide</td>\n",
       "      <td>https://apps.apple.com/us/app/a-paper-guide/id...</td>\n",
       "      <td>Education</td>\n",
       "      <td>Children</td>\n",
       "      <td>8.0</td>\n",
       "      <td>2017-09-28T03:02:41Z</td>\n",
       "      <td>2018-12-21T21:30:36Z</td>\n",
       "      <td>1.1.2</td>\n",
       "      <td>0.00</td>\n",
       "      <td>...</td>\n",
       "      <td>HKBU ARC</td>\n",
       "      <td>https://apps.apple.com/us/developer/hkbu-arc/i...</td>\n",
       "      <td>0</td>\n",
       "      <td>0</td>\n",
       "      <td>0.0</td>\n",
       "      <td>0</td>\n",
       "      <td>20.974609</td>\n",
       "      <td>2017</td>\n",
       "      <td>Free</td>\n",
       "      <td>NoReviewsProvided</td>\n",
       "    </tr>\n",
       "    <tr>\n",
       "      <th>1</th>\n",
       "      <td>com.dmitriev.abooks</td>\n",
       "      <td>A-Books</td>\n",
       "      <td>https://apps.apple.com/us/app/a-books/id103157...</td>\n",
       "      <td>Book</td>\n",
       "      <td>Children</td>\n",
       "      <td>10.0</td>\n",
       "      <td>2015-08-31T19:31:32Z</td>\n",
       "      <td>2019-07-23T20:31:09Z</td>\n",
       "      <td>1.3</td>\n",
       "      <td>0.00</td>\n",
       "      <td>...</td>\n",
       "      <td>Roman Dmitriev</td>\n",
       "      <td>https://apps.apple.com/us/developer/roman-dmit...</td>\n",
       "      <td>5</td>\n",
       "      <td>1</td>\n",
       "      <td>5.0</td>\n",
       "      <td>1</td>\n",
       "      <td>12.527344</td>\n",
       "      <td>2015</td>\n",
       "      <td>Free</td>\n",
       "      <td>Less than 10K</td>\n",
       "    </tr>\n",
       "    <tr>\n",
       "      <th>2</th>\n",
       "      <td>no.terp.abooks</td>\n",
       "      <td>A-books</td>\n",
       "      <td>https://apps.apple.com/us/app/a-books/id145702...</td>\n",
       "      <td>Book</td>\n",
       "      <td>Children</td>\n",
       "      <td>9.0</td>\n",
       "      <td>2021-04-14T07:00:00Z</td>\n",
       "      <td>2021-05-30T21:08:54Z</td>\n",
       "      <td>1.3.1</td>\n",
       "      <td>0.00</td>\n",
       "      <td>...</td>\n",
       "      <td>Terp AS</td>\n",
       "      <td>https://apps.apple.com/us/developer/terp-as/id...</td>\n",
       "      <td>0</td>\n",
       "      <td>0</td>\n",
       "      <td>0.0</td>\n",
       "      <td>0</td>\n",
       "      <td>20.926758</td>\n",
       "      <td>2021</td>\n",
       "      <td>Free</td>\n",
       "      <td>NoReviewsProvided</td>\n",
       "    </tr>\n",
       "    <tr>\n",
       "      <th>3</th>\n",
       "      <td>fr.antoinettefleur.Book1</td>\n",
       "      <td>A-F Book #1</td>\n",
       "      <td>https://apps.apple.com/us/app/a-f-book-1/id500...</td>\n",
       "      <td>Book</td>\n",
       "      <td>Children</td>\n",
       "      <td>8.0</td>\n",
       "      <td>2012-02-10T03:40:07Z</td>\n",
       "      <td>2019-10-29T12:40:37Z</td>\n",
       "      <td>1.2</td>\n",
       "      <td>2.99</td>\n",
       "      <td>...</td>\n",
       "      <td>i-editeur.com</td>\n",
       "      <td>https://apps.apple.com/us/developer/i-editeur-...</td>\n",
       "      <td>0</td>\n",
       "      <td>0</td>\n",
       "      <td>0.0</td>\n",
       "      <td>0</td>\n",
       "      <td>78.059570</td>\n",
       "      <td>2012</td>\n",
       "      <td>Paid</td>\n",
       "      <td>NoReviewsProvided</td>\n",
       "    </tr>\n",
       "    <tr>\n",
       "      <th>4</th>\n",
       "      <td>com.imonstersoft.azdictionaryios</td>\n",
       "      <td>A-Z Synonyms Dictionary</td>\n",
       "      <td>https://apps.apple.com/us/app/a-z-synonyms-dic...</td>\n",
       "      <td>Reference</td>\n",
       "      <td>Children</td>\n",
       "      <td>9.0</td>\n",
       "      <td>2020-12-16T08:00:00Z</td>\n",
       "      <td>2020-12-18T21:36:11Z</td>\n",
       "      <td>1.0.1</td>\n",
       "      <td>0.00</td>\n",
       "      <td>...</td>\n",
       "      <td>Ngov chiheang</td>\n",
       "      <td>https://apps.apple.com/us/developer/ngov-chihe...</td>\n",
       "      <td>0</td>\n",
       "      <td>0</td>\n",
       "      <td>0.0</td>\n",
       "      <td>0</td>\n",
       "      <td>61.695312</td>\n",
       "      <td>2020</td>\n",
       "      <td>Free</td>\n",
       "      <td>NoReviewsProvided</td>\n",
       "    </tr>\n",
       "  </tbody>\n",
       "</table>\n",
       "<p>5 rows × 22 columns</p>\n",
       "</div>"
      ],
      "text/plain": [
       "                             App_Id                 App_Name  \\\n",
       "0               com.hkbu.arc.apaper           A+ Paper Guide   \n",
       "1               com.dmitriev.abooks                  A-Books   \n",
       "2                    no.terp.abooks                  A-books   \n",
       "3          fr.antoinettefleur.Book1              A-F Book #1   \n",
       "4  com.imonstersoft.azdictionaryios  A-Z Synonyms Dictionary   \n",
       "\n",
       "                                        AppStore_Url Primary_Genre  \\\n",
       "0  https://apps.apple.com/us/app/a-paper-guide/id...     Education   \n",
       "1  https://apps.apple.com/us/app/a-books/id103157...          Book   \n",
       "2  https://apps.apple.com/us/app/a-books/id145702...          Book   \n",
       "3  https://apps.apple.com/us/app/a-f-book-1/id500...          Book   \n",
       "4  https://apps.apple.com/us/app/a-z-synonyms-dic...     Reference   \n",
       "\n",
       "  Content_Rating Required_IOS_Version              Released  \\\n",
       "0       Children                  8.0  2017-09-28T03:02:41Z   \n",
       "1       Children                 10.0  2015-08-31T19:31:32Z   \n",
       "2       Children                  9.0  2021-04-14T07:00:00Z   \n",
       "3       Children                  8.0  2012-02-10T03:40:07Z   \n",
       "4       Children                  9.0  2020-12-16T08:00:00Z   \n",
       "\n",
       "                Updated Version  Price  ...       Developer  \\\n",
       "0  2018-12-21T21:30:36Z   1.1.2   0.00  ...        HKBU ARC   \n",
       "1  2019-07-23T20:31:09Z     1.3   0.00  ...  Roman Dmitriev   \n",
       "2  2021-05-30T21:08:54Z   1.3.1   0.00  ...         Terp AS   \n",
       "3  2019-10-29T12:40:37Z     1.2   2.99  ...   i-editeur.com   \n",
       "4  2020-12-18T21:36:11Z   1.0.1   0.00  ...   Ngov chiheang   \n",
       "\n",
       "                                       Developer_Url Average_User_Rating  \\\n",
       "0  https://apps.apple.com/us/developer/hkbu-arc/i...                   0   \n",
       "1  https://apps.apple.com/us/developer/roman-dmit...                   5   \n",
       "2  https://apps.apple.com/us/developer/terp-as/id...                   0   \n",
       "3  https://apps.apple.com/us/developer/i-editeur-...                   0   \n",
       "4  https://apps.apple.com/us/developer/ngov-chihe...                   0   \n",
       "\n",
       "  Reviews  Current_Version_Score  Current_Version_Reviews    Size_MB  Year  \\\n",
       "0       0                    0.0                        0  20.974609  2017   \n",
       "1       1                    5.0                        1  12.527344  2015   \n",
       "2       0                    0.0                        0  20.926758  2021   \n",
       "3       0                    0.0                        0  78.059570  2012   \n",
       "4       0                    0.0                        0  61.695312  2020   \n",
       "\n",
       "   Type     ReviewCategory  \n",
       "0  Free  NoReviewsProvided  \n",
       "1  Free      Less than 10K  \n",
       "2  Free  NoReviewsProvided  \n",
       "3  Paid  NoReviewsProvided  \n",
       "4  Free  NoReviewsProvided  \n",
       "\n",
       "[5 rows x 22 columns]"
      ]
     },
     "execution_count": 47,
     "metadata": {},
     "output_type": "execute_result"
    }
   ],
   "source": [
    "df.head(5)"
   ]
  },
  {
   "cell_type": "markdown",
   "id": "040e3a1f",
   "metadata": {
    "id": "040e3a1f",
    "papermill": {
     "duration": 0.026017,
     "end_time": "2023-08-21T09:05:57.539214",
     "exception": false,
     "start_time": "2023-08-21T09:05:57.513197",
     "status": "completed"
    },
    "tags": []
   },
   "source": [
    "\n",
    "What is the average user rating for Primary genre?"
   ]
  },
  {
   "cell_type": "code",
   "execution_count": 61,
   "id": "486b85d4",
   "metadata": {},
   "outputs": [
    {
     "data": {
      "text/plain": [
       "(array([ 0,  1,  2,  3,  4,  5,  6,  7,  8,  9, 10, 11, 12, 13, 14, 15, 16,\n",
       "        17, 18, 19, 20, 21, 22, 23, 24, 25]),\n",
       " [Text(0, 0, 'Education'),\n",
       "  Text(1, 0, 'Book'),\n",
       "  Text(2, 0, 'Reference'),\n",
       "  Text(3, 0, 'News'),\n",
       "  Text(4, 0, 'Lifestyle'),\n",
       "  Text(5, 0, 'Health & Fitness'),\n",
       "  Text(6, 0, 'Games'),\n",
       "  Text(7, 0, 'Medical'),\n",
       "  Text(8, 0, 'Food & Drink'),\n",
       "  Text(9, 0, 'Sports'),\n",
       "  Text(10, 0, 'Shopping'),\n",
       "  Text(11, 0, 'Entertainment'),\n",
       "  Text(12, 0, 'Utilities'),\n",
       "  Text(13, 0, 'Stickers'),\n",
       "  Text(14, 0, 'Productivity'),\n",
       "  Text(15, 0, 'Music'),\n",
       "  Text(16, 0, 'Photo & Video'),\n",
       "  Text(17, 0, 'Travel'),\n",
       "  Text(18, 0, 'Business'),\n",
       "  Text(19, 0, 'Social Networking'),\n",
       "  Text(20, 0, 'Magazines & Newspapers'),\n",
       "  Text(21, 0, 'Navigation'),\n",
       "  Text(22, 0, 'Finance'),\n",
       "  Text(23, 0, 'Weather'),\n",
       "  Text(24, 0, 'Graphics & Design'),\n",
       "  Text(25, 0, 'Developer Tools')])"
      ]
     },
     "execution_count": 61,
     "metadata": {},
     "output_type": "execute_result"
    },
    {
     "data": {
      "image/png": "[encoded data removed]",
      "text/plain": [
       "<Figure size 1500x1000 with 1 Axes>"
      ]
     },
     "metadata": {},
     "output_type": "display_data"
    }
   ],
   "source": [
    "plt.figure(figsize=(15,10))\n",
    "sns.barplot(data=df,x='Primary_Genre',y='Average_User_Rating')\n",
    "plt.xticks(rotation=90)"
   ]
  },
  {
   "cell_type": "markdown",
   "id": "d41413a7",
   "metadata": {
    "id": "d41413a7",
    "papermill": {
     "duration": 0.027492,
     "end_time": "2023-08-21T09:05:59.151726",
     "exception": false,
     "start_time": "2023-08-21T09:05:59.124234",
     "status": "completed"
    },
    "tags": []
   },
   "source": [
    "Q. Primary_Genre vs Size in MBs?"
   ]
  },
  {
   "cell_type": "code",
   "execution_count": 50,
   "id": "37e72956",
   "metadata": {
    "execution": {
     "iopub.execute_input": "2023-08-21T09:05:59.209585Z",
     "iopub.status.busy": "2023-08-21T09:05:59.209232Z",
     "iopub.status.idle": "2023-08-21T09:06:04.736002Z",
     "shell.execute_reply": "2023-08-21T09:06:04.734905Z"
    },
    "id": "37e72956",
    "outputId": "16fdfe90-687c-47fe-8f59-8297ec5e1946",
    "papermill": {
     "duration": 5.5598,
     "end_time": "2023-08-21T09:06:04.738643",
     "exception": false,
     "start_time": "2023-08-21T09:05:59.178843",
     "status": "completed"
    },
    "tags": []
   },
   "outputs": [
    {
     "data": {
      "image/png": "[encoded data removed]",
      "text/plain": [
       "<Figure size 1500x1000 with 1 Axes>"
      ]
     },
     "metadata": {},
     "output_type": "display_data"
    }
   ],
   "source": [
    "plt.figure(figsize=(15,10))\n",
    "sns.barplot(data=df,x='Primary_Genre',y='Size_MB')\n",
    "plt.xticks(rotation=90)\n",
    "\n",
    "plt.title('Primary Genre VS Size_MB')\n",
    "\n",
    "plt.grid()\n",
    "plt.show()"
   ]
  },
  {
   "cell_type": "markdown",
   "id": "b122cb98",
   "metadata": {
    "id": "b122cb98",
    "papermill": {
     "duration": 0.027552,
     "end_time": "2023-08-21T09:06:04.795633",
     "exception": false,
     "start_time": "2023-08-21T09:06:04.768081",
     "status": "completed"
    },
    "tags": []
   },
   "source": [
    "> Graph2. Primary_Genre Vs App_Size(MB)"
   ]
  },
  {
   "cell_type": "markdown",
   "id": "2f88e803",
   "metadata": {
    "id": "2f88e803",
    "papermill": {
     "duration": 0.02758,
     "end_time": "2023-08-21T09:06:04.851014",
     "exception": false,
     "start_time": "2023-08-21T09:06:04.823434",
     "status": "completed"
    },
    "tags": []
   },
   "source": [
    "##### Insights From The Grapgh  primary Genre Vs App Size\n",
    "From the above mentiond bar plot we can conclude that:\n",
    "Games and Travel app usually has large datasize respectively\n",
    "On other side Stickers and Developertools app hold the least"
   ]
  },
  {
   "cell_type": "markdown",
   "id": "f11e95a9",
   "metadata": {
    "id": "f11e95a9",
    "papermill": {
     "duration": 0.10191,
     "end_time": "2023-08-21T09:06:08.172234",
     "exception": false,
     "start_time": "2023-08-21T09:06:08.070324",
     "status": "completed"
    },
    "tags": []
   },
   "source": [
    "##### Insights\n",
    "From the grapgh we get to know that from data, the higher rating more is the price of the app"
   ]
  },
  {
   "cell_type": "markdown",
   "id": "90c45bac",
   "metadata": {
    "id": "90c45bac",
    "papermill": {
     "duration": 0.104856,
     "end_time": "2023-08-21T09:06:08.383161",
     "exception": false,
     "start_time": "2023-08-21T09:06:08.278305",
     "status": "completed"
    },
    "tags": []
   },
   "source": [
    "#### Q. Top 10 app producing developer"
   ]
  },
  {
   "cell_type": "code",
   "execution_count": 51,
   "id": "50ab2fd2",
   "metadata": {
    "execution": {
     "iopub.execute_input": "2023-08-21T09:06:08.590184Z",
     "iopub.status.busy": "2023-08-21T09:06:08.589802Z",
     "iopub.status.idle": "2023-08-21T09:06:09.126164Z",
     "shell.execute_reply": "2023-08-21T09:06:09.125498Z"
    },
    "id": "50ab2fd2",
    "outputId": "47d2d33f-ce9f-4365-b8d0-e90cc1571f59",
    "papermill": {
     "duration": 0.640567,
     "end_time": "2023-08-21T09:06:09.127779",
     "exception": false,
     "start_time": "2023-08-21T09:06:08.487212",
     "status": "completed"
    },
    "tags": []
   },
   "outputs": [
    {
     "data": {
      "text/html": [
       "<div>\n",
       "<style scoped>\n",
       "    .dataframe tbody tr th:only-of-type {\n",
       "        vertical-align: middle;\n",
       "    }\n",
       "\n",
       "    .dataframe tbody tr th {\n",
       "        vertical-align: top;\n",
       "    }\n",
       "\n",
       "    .dataframe thead th {\n",
       "        text-align: right;\n",
       "    }\n",
       "</style>\n",
       "<table border=\"1\" class=\"dataframe\">\n",
       "  <thead>\n",
       "    <tr style=\"text-align: right;\">\n",
       "      <th></th>\n",
       "      <th>Developer</th>\n",
       "      <th>Count</th>\n",
       "    </tr>\n",
       "  </thead>\n",
       "  <tbody>\n",
       "    <tr>\n",
       "      <th>84502</th>\n",
       "      <td>ChowNow</td>\n",
       "      <td>3966</td>\n",
       "    </tr>\n",
       "    <tr>\n",
       "      <th>432773</th>\n",
       "      <td>Touch2Success</td>\n",
       "      <td>1649</td>\n",
       "    </tr>\n",
       "    <tr>\n",
       "      <th>21446</th>\n",
       "      <td>Alexander Velimirovic</td>\n",
       "      <td>1506</td>\n",
       "    </tr>\n",
       "    <tr>\n",
       "      <th>259262</th>\n",
       "      <td>MINDBODY, Incorporated</td>\n",
       "      <td>1247</td>\n",
       "    </tr>\n",
       "    <tr>\n",
       "      <th>331925</th>\n",
       "      <td>Phorest</td>\n",
       "      <td>1131</td>\n",
       "    </tr>\n",
       "    <tr>\n",
       "      <th>309328</th>\n",
       "      <td>OFFLINE MAP TRIP GUIDE LTD</td>\n",
       "      <td>1022</td>\n",
       "    </tr>\n",
       "    <tr>\n",
       "      <th>262967</th>\n",
       "      <td>Magzter Inc.</td>\n",
       "      <td>928</td>\n",
       "    </tr>\n",
       "    <tr>\n",
       "      <th>8456</th>\n",
       "      <td>ASK Video</td>\n",
       "      <td>781</td>\n",
       "    </tr>\n",
       "    <tr>\n",
       "      <th>345604</th>\n",
       "      <td>RAPID ACCELERATION INDIA PRIVATE LIMITED</td>\n",
       "      <td>733</td>\n",
       "    </tr>\n",
       "    <tr>\n",
       "      <th>306122</th>\n",
       "      <td>Nonlinear Educating Inc.</td>\n",
       "      <td>555</td>\n",
       "    </tr>\n",
       "  </tbody>\n",
       "</table>\n",
       "</div>"
      ],
      "text/plain": [
       "                                       Developer  Count\n",
       "84502                                    ChowNow   3966\n",
       "432773                             Touch2Success   1649\n",
       "21446                      Alexander Velimirovic   1506\n",
       "259262                    MINDBODY, Incorporated   1247\n",
       "331925                                   Phorest   1131\n",
       "309328                OFFLINE MAP TRIP GUIDE LTD   1022\n",
       "262967                              Magzter Inc.    928\n",
       "8456                                   ASK Video    781\n",
       "345604  RAPID ACCELERATION INDIA PRIVATE LIMITED    733\n",
       "306122                  Nonlinear Educating Inc.    555"
      ]
     },
     "execution_count": 51,
     "metadata": {},
     "output_type": "execute_result"
    }
   ],
   "source": [
    "# group the dataset by Primary_Genre and Type, and count the number of apps in each group\n",
    "Top10_Cnt_Dev = df.groupby(['Developer']).size().reset_index(name='Count')\n",
    "\n",
    "# ##load top 10 free apps\n",
    "Top10_Cnt_App_Dev = Top10_Cnt_Dev.sort_values(by='Count', ascending=False).head(10)\n",
    "Top10_Cnt_App_Dev.head(10)"
   ]
  },
  {
   "cell_type": "code",
   "execution_count": 52,
   "id": "4cf40d42",
   "metadata": {
    "execution": {
     "iopub.execute_input": "2023-08-21T09:06:09.336262Z",
     "iopub.status.busy": "2023-08-21T09:06:09.335589Z",
     "iopub.status.idle": "2023-08-21T09:06:09.542812Z",
     "shell.execute_reply": "2023-08-21T09:06:09.542043Z"
    },
    "id": "4cf40d42",
    "outputId": "e4dc4477-0366-4551-bd09-35909288c587",
    "papermill": {
     "duration": 0.316318,
     "end_time": "2023-08-21T09:06:09.545447",
     "exception": false,
     "start_time": "2023-08-21T09:06:09.229129",
     "status": "completed"
    },
    "tags": []
   },
   "outputs": [
    {
     "data": {
      "text/plain": [
       "Text(0.5, 1.0, ' Top 10 App Producing developer')"
      ]
     },
     "execution_count": 52,
     "metadata": {},
     "output_type": "execute_result"
    },
    {
     "data": {
      "image/png": "[encoded data removed]",
      "text/plain": [
       "<Figure size 800x600 with 1 Axes>"
      ]
     },
     "metadata": {},
     "output_type": "display_data"
    }
   ],
   "source": [
    "plt.figure(figsize=(8,6))\n",
    "data = Top10_Cnt_App_Dev.groupby('Developer')['Count'].max().sort_values(ascending = True)\n",
    "data = data.head(10)\n",
    "labels = data.keys()\n",
    "plt.pie(data, labels= labels,autopct='%.0f%%')\n",
    "plt.title(\" Top 10 App Producing developer\", fontsize=15)"
   ]
  },
  {
   "cell_type": "markdown",
   "id": "514bf003",
   "metadata": {
    "id": "514bf003",
    "papermill": {
     "duration": 0.104057,
     "end_time": "2023-08-21T09:06:09.764416",
     "exception": false,
     "start_time": "2023-08-21T09:06:09.660359",
     "status": "completed"
    },
    "tags": []
   },
   "source": [
    "> Graph 6. Pie Chart for top 10 app develpers"
   ]
  },
  {
   "cell_type": "markdown",
   "id": "69c6a3c9",
   "metadata": {
    "id": "69c6a3c9",
    "papermill": {
     "duration": 0.107341,
     "end_time": "2023-08-21T09:06:09.989622",
     "exception": false,
     "start_time": "2023-08-21T09:06:09.882281",
     "status": "completed"
    },
    "tags": []
   },
   "source": [
    "##### Insigthts\n",
    "\n",
    "- ChowNow\n",
    "- Touch2Success\n",
    "- Alexander Velimirovic\n",
    "- MINDBODY, Incorporated\n",
    "- Phorest\n",
    "- OFFLINE MAP TRIP GUIDE LTD\n",
    "- Magzter Inc.\n",
    "- ASK Video\n",
    "- RAPID ACCELERATION INDIA PRIVATE LIMITED\n",
    "- Nonlinear Educating Inc."
   ]
  },
  {
   "cell_type": "code",
   "execution_count": 53,
   "id": "efff5623",
   "metadata": {},
   "outputs": [
    {
     "data": {
      "text/html": [
       "<div>\n",
       "<style scoped>\n",
       "    .dataframe tbody tr th:only-of-type {\n",
       "        vertical-align: middle;\n",
       "    }\n",
       "\n",
       "    .dataframe tbody tr th {\n",
       "        vertical-align: top;\n",
       "    }\n",
       "\n",
       "    .dataframe thead th {\n",
       "        text-align: right;\n",
       "    }\n",
       "</style>\n",
       "<table border=\"1\" class=\"dataframe\">\n",
       "  <thead>\n",
       "    <tr style=\"text-align: right;\">\n",
       "      <th></th>\n",
       "      <th>App_Id</th>\n",
       "      <th>App_Name</th>\n",
       "      <th>AppStore_Url</th>\n",
       "      <th>Primary_Genre</th>\n",
       "      <th>Content_Rating</th>\n",
       "      <th>Required_IOS_Version</th>\n",
       "      <th>Released</th>\n",
       "      <th>Updated</th>\n",
       "      <th>Version</th>\n",
       "      <th>Price</th>\n",
       "      <th>...</th>\n",
       "      <th>Developer</th>\n",
       "      <th>Developer_Url</th>\n",
       "      <th>Average_User_Rating</th>\n",
       "      <th>Reviews</th>\n",
       "      <th>Current_Version_Score</th>\n",
       "      <th>Current_Version_Reviews</th>\n",
       "      <th>Size_MB</th>\n",
       "      <th>Year</th>\n",
       "      <th>Type</th>\n",
       "      <th>ReviewCategory</th>\n",
       "    </tr>\n",
       "  </thead>\n",
       "  <tbody>\n",
       "    <tr>\n",
       "      <th>0</th>\n",
       "      <td>com.hkbu.arc.apaper</td>\n",
       "      <td>A+ Paper Guide</td>\n",
       "      <td>https://apps.apple.com/us/app/a-paper-guide/id...</td>\n",
       "      <td>Education</td>\n",
       "      <td>Children</td>\n",
       "      <td>8.0</td>\n",
       "      <td>2017-09-28T03:02:41Z</td>\n",
       "      <td>2018-12-21T21:30:36Z</td>\n",
       "      <td>1.1.2</td>\n",
       "      <td>0.00</td>\n",
       "      <td>...</td>\n",
       "      <td>HKBU ARC</td>\n",
       "      <td>https://apps.apple.com/us/developer/hkbu-arc/i...</td>\n",
       "      <td>0</td>\n",
       "      <td>0</td>\n",
       "      <td>0.0</td>\n",
       "      <td>0</td>\n",
       "      <td>20.974609</td>\n",
       "      <td>2017</td>\n",
       "      <td>Free</td>\n",
       "      <td>NoReviewsProvided</td>\n",
       "    </tr>\n",
       "    <tr>\n",
       "      <th>1</th>\n",
       "      <td>com.dmitriev.abooks</td>\n",
       "      <td>A-Books</td>\n",
       "      <td>https://apps.apple.com/us/app/a-books/id103157...</td>\n",
       "      <td>Book</td>\n",
       "      <td>Children</td>\n",
       "      <td>10.0</td>\n",
       "      <td>2015-08-31T19:31:32Z</td>\n",
       "      <td>2019-07-23T20:31:09Z</td>\n",
       "      <td>1.3</td>\n",
       "      <td>0.00</td>\n",
       "      <td>...</td>\n",
       "      <td>Roman Dmitriev</td>\n",
       "      <td>https://apps.apple.com/us/developer/roman-dmit...</td>\n",
       "      <td>5</td>\n",
       "      <td>1</td>\n",
       "      <td>5.0</td>\n",
       "      <td>1</td>\n",
       "      <td>12.527344</td>\n",
       "      <td>2015</td>\n",
       "      <td>Free</td>\n",
       "      <td>Less than 10K</td>\n",
       "    </tr>\n",
       "    <tr>\n",
       "      <th>2</th>\n",
       "      <td>no.terp.abooks</td>\n",
       "      <td>A-books</td>\n",
       "      <td>https://apps.apple.com/us/app/a-books/id145702...</td>\n",
       "      <td>Book</td>\n",
       "      <td>Children</td>\n",
       "      <td>9.0</td>\n",
       "      <td>2021-04-14T07:00:00Z</td>\n",
       "      <td>2021-05-30T21:08:54Z</td>\n",
       "      <td>1.3.1</td>\n",
       "      <td>0.00</td>\n",
       "      <td>...</td>\n",
       "      <td>Terp AS</td>\n",
       "      <td>https://apps.apple.com/us/developer/terp-as/id...</td>\n",
       "      <td>0</td>\n",
       "      <td>0</td>\n",
       "      <td>0.0</td>\n",
       "      <td>0</td>\n",
       "      <td>20.926758</td>\n",
       "      <td>2021</td>\n",
       "      <td>Free</td>\n",
       "      <td>NoReviewsProvided</td>\n",
       "    </tr>\n",
       "    <tr>\n",
       "      <th>3</th>\n",
       "      <td>fr.antoinettefleur.Book1</td>\n",
       "      <td>A-F Book #1</td>\n",
       "      <td>https://apps.apple.com/us/app/a-f-book-1/id500...</td>\n",
       "      <td>Book</td>\n",
       "      <td>Children</td>\n",
       "      <td>8.0</td>\n",
       "      <td>2012-02-10T03:40:07Z</td>\n",
       "      <td>2019-10-29T12:40:37Z</td>\n",
       "      <td>1.2</td>\n",
       "      <td>2.99</td>\n",
       "      <td>...</td>\n",
       "      <td>i-editeur.com</td>\n",
       "      <td>https://apps.apple.com/us/developer/i-editeur-...</td>\n",
       "      <td>0</td>\n",
       "      <td>0</td>\n",
       "      <td>0.0</td>\n",
       "      <td>0</td>\n",
       "      <td>78.059570</td>\n",
       "      <td>2012</td>\n",
       "      <td>Paid</td>\n",
       "      <td>NoReviewsProvided</td>\n",
       "    </tr>\n",
       "    <tr>\n",
       "      <th>4</th>\n",
       "      <td>com.imonstersoft.azdictionaryios</td>\n",
       "      <td>A-Z Synonyms Dictionary</td>\n",
       "      <td>https://apps.apple.com/us/app/a-z-synonyms-dic...</td>\n",
       "      <td>Reference</td>\n",
       "      <td>Children</td>\n",
       "      <td>9.0</td>\n",
       "      <td>2020-12-16T08:00:00Z</td>\n",
       "      <td>2020-12-18T21:36:11Z</td>\n",
       "      <td>1.0.1</td>\n",
       "      <td>0.00</td>\n",
       "      <td>...</td>\n",
       "      <td>Ngov chiheang</td>\n",
       "      <td>https://apps.apple.com/us/developer/ngov-chihe...</td>\n",
       "      <td>0</td>\n",
       "      <td>0</td>\n",
       "      <td>0.0</td>\n",
       "      <td>0</td>\n",
       "      <td>61.695312</td>\n",
       "      <td>2020</td>\n",
       "      <td>Free</td>\n",
       "      <td>NoReviewsProvided</td>\n",
       "    </tr>\n",
       "  </tbody>\n",
       "</table>\n",
       "<p>5 rows × 22 columns</p>\n",
       "</div>"
      ],
      "text/plain": [
       "                             App_Id                 App_Name  \\\n",
       "0               com.hkbu.arc.apaper           A+ Paper Guide   \n",
       "1               com.dmitriev.abooks                  A-Books   \n",
       "2                    no.terp.abooks                  A-books   \n",
       "3          fr.antoinettefleur.Book1              A-F Book #1   \n",
       "4  com.imonstersoft.azdictionaryios  A-Z Synonyms Dictionary   \n",
       "\n",
       "                                        AppStore_Url Primary_Genre  \\\n",
       "0  https://apps.apple.com/us/app/a-paper-guide/id...     Education   \n",
       "1  https://apps.apple.com/us/app/a-books/id103157...          Book   \n",
       "2  https://apps.apple.com/us/app/a-books/id145702...          Book   \n",
       "3  https://apps.apple.com/us/app/a-f-book-1/id500...          Book   \n",
       "4  https://apps.apple.com/us/app/a-z-synonyms-dic...     Reference   \n",
       "\n",
       "  Content_Rating Required_IOS_Version              Released  \\\n",
       "0       Children                  8.0  2017-09-28T03:02:41Z   \n",
       "1       Children                 10.0  2015-08-31T19:31:32Z   \n",
       "2       Children                  9.0  2021-04-14T07:00:00Z   \n",
       "3       Children                  8.0  2012-02-10T03:40:07Z   \n",
       "4       Children                  9.0  2020-12-16T08:00:00Z   \n",
       "\n",
       "                Updated Version  Price  ...       Developer  \\\n",
       "0  2018-12-21T21:30:36Z   1.1.2   0.00  ...        HKBU ARC   \n",
       "1  2019-07-23T20:31:09Z     1.3   0.00  ...  Roman Dmitriev   \n",
       "2  2021-05-30T21:08:54Z   1.3.1   0.00  ...         Terp AS   \n",
       "3  2019-10-29T12:40:37Z     1.2   2.99  ...   i-editeur.com   \n",
       "4  2020-12-18T21:36:11Z   1.0.1   0.00  ...   Ngov chiheang   \n",
       "\n",
       "                                       Developer_Url Average_User_Rating  \\\n",
       "0  https://apps.apple.com/us/developer/hkbu-arc/i...                   0   \n",
       "1  https://apps.apple.com/us/developer/roman-dmit...                   5   \n",
       "2  https://apps.apple.com/us/developer/terp-as/id...                   0   \n",
       "3  https://apps.apple.com/us/developer/i-editeur-...                   0   \n",
       "4  https://apps.apple.com/us/developer/ngov-chihe...                   0   \n",
       "\n",
       "  Reviews  Current_Version_Score  Current_Version_Reviews    Size_MB  Year  \\\n",
       "0       0                    0.0                        0  20.974609  2017   \n",
       "1       1                    5.0                        1  12.527344  2015   \n",
       "2       0                    0.0                        0  20.926758  2021   \n",
       "3       0                    0.0                        0  78.059570  2012   \n",
       "4       0                    0.0                        0  61.695312  2020   \n",
       "\n",
       "   Type     ReviewCategory  \n",
       "0  Free  NoReviewsProvided  \n",
       "1  Free      Less than 10K  \n",
       "2  Free  NoReviewsProvided  \n",
       "3  Paid  NoReviewsProvided  \n",
       "4  Free  NoReviewsProvided  \n",
       "\n",
       "[5 rows x 22 columns]"
      ]
     },
     "execution_count": 53,
     "metadata": {},
     "output_type": "execute_result"
    }
   ],
   "source": [
    "df.head()"
   ]
  },
  {
   "cell_type": "code",
   "execution_count": 54,
   "id": "2401624e",
   "metadata": {},
   "outputs": [
    {
     "data": {
      "text/plain": [
       "(array([ 0,  1,  2,  3,  4,  5,  6,  7,  8,  9, 10, 11, 12, 13, 14, 15, 16,\n",
       "        17, 18, 19, 20, 21, 22, 23, 24, 25]),\n",
       " [Text(0, 0, 'Education'),\n",
       "  Text(1, 0, 'Book'),\n",
       "  Text(2, 0, 'Reference'),\n",
       "  Text(3, 0, 'News'),\n",
       "  Text(4, 0, 'Lifestyle'),\n",
       "  Text(5, 0, 'Health & Fitness'),\n",
       "  Text(6, 0, 'Games'),\n",
       "  Text(7, 0, 'Medical'),\n",
       "  Text(8, 0, 'Food & Drink'),\n",
       "  Text(9, 0, 'Sports'),\n",
       "  Text(10, 0, 'Shopping'),\n",
       "  Text(11, 0, 'Entertainment'),\n",
       "  Text(12, 0, 'Utilities'),\n",
       "  Text(13, 0, 'Stickers'),\n",
       "  Text(14, 0, 'Productivity'),\n",
       "  Text(15, 0, 'Music'),\n",
       "  Text(16, 0, 'Photo & Video'),\n",
       "  Text(17, 0, 'Travel'),\n",
       "  Text(18, 0, 'Business'),\n",
       "  Text(19, 0, 'Social Networking'),\n",
       "  Text(20, 0, 'Magazines & Newspapers'),\n",
       "  Text(21, 0, 'Navigation'),\n",
       "  Text(22, 0, 'Finance'),\n",
       "  Text(23, 0, 'Weather'),\n",
       "  Text(24, 0, 'Graphics & Design'),\n",
       "  Text(25, 0, 'Developer Tools')])"
      ]
     },
     "execution_count": 54,
     "metadata": {},
     "output_type": "execute_result"
    },
    {
     "data": {
      "image/png": "[encoded data removed]",
      "text/plain": [
       "<Figure size 800x500 with 1 Axes>"
      ]
     },
     "metadata": {},
     "output_type": "display_data"
    }
   ],
   "source": [
    "plt.figure(figsize=(8,5))\n",
    "sns.barplot(data=df,x='Primary_Genre',y='Reviews')\n",
    "plt.xticks(rotation=90)"
   ]
  },
  {
   "cell_type": "code",
   "execution_count": null,
   "id": "46ccbeef",
   "metadata": {},
   "outputs": [],
   "source": []
  },
  {
   "cell_type": "markdown",
   "id": "1e089b87",
   "metadata": {
    "id": "1e089b87",
    "papermill": {
     "duration": 0.10747,
     "end_time": "2023-08-21T09:06:10.201727",
     "exception": false,
     "start_time": "2023-08-21T09:06:10.094257",
     "status": "completed"
    },
    "tags": []
   },
   "source": [
    "##### Q. Which Primary_Genre attracts clients for getting better revenues"
   ]
  },
  {
   "cell_type": "code",
   "execution_count": 55,
   "id": "416ff8af",
   "metadata": {
    "execution": {
     "iopub.execute_input": "2023-08-21T09:06:10.421348Z",
     "iopub.status.busy": "2023-08-21T09:06:10.420294Z",
     "iopub.status.idle": "2023-08-21T09:06:11.154348Z",
     "shell.execute_reply": "2023-08-21T09:06:11.153516Z"
    },
    "id": "416ff8af",
    "outputId": "5f9bd45d-7d66-4922-bf40-cea15af717db",
    "papermill": {
     "duration": 0.844814,
     "end_time": "2023-08-21T09:06:11.156233",
     "exception": false,
     "start_time": "2023-08-21T09:06:10.311419",
     "status": "completed"
    },
    "tags": []
   },
   "outputs": [
    {
     "data": {
      "text/plain": [
       "<Axes: xlabel='Primary_Genre'>"
      ]
     },
     "execution_count": 55,
     "metadata": {},
     "output_type": "execute_result"
    },
    {
     "data": {
      "text/plain": [
       "<Figure size 1500x1000 with 0 Axes>"
      ]
     },
     "metadata": {},
     "output_type": "display_data"
    },
    {
     "data": {
      "image/png": "[encoded data removed]",
      "text/plain": [
       "<Figure size 1500x600 with 1 Axes>"
      ]
     },
     "metadata": {},
     "output_type": "display_data"
    }
   ],
   "source": [
    "plt.figure(figsize=(15,10))\n",
    "df.groupby(['Primary_Genre', 'Content_Rating'])['Price'].sum().unstack().plot(kind='bar', stacked=True)\n"
   ]
  },
  {
   "cell_type": "markdown",
   "id": "da7fd05b",
   "metadata": {
    "id": "da7fd05b",
    "papermill": {
     "duration": 0.105608,
     "end_time": "2023-08-21T09:06:11.365088",
     "exception": false,
     "start_time": "2023-08-21T09:06:11.259480",
     "status": "completed"
    },
    "tags": []
   },
   "source": [
    "Graph 7: Shows which genre attracted what kind of clintele in terms of revenues"
   ]
  },
  {
   "cell_type": "markdown",
   "id": "25c63841",
   "metadata": {
    "id": "25c63841",
    "papermill": {
     "duration": 0.103098,
     "end_time": "2023-08-21T09:06:11.572441",
     "exception": false,
     "start_time": "2023-08-21T09:06:11.469343",
     "status": "completed"
    },
    "tags": []
   },
   "source": [
    " #### Q. top 10 Primary_Genre/Categories that are installed from the Apple Store?"
   ]
  },
  {
   "cell_type": "code",
   "execution_count": 56,
   "id": "382ccfbe",
   "metadata": {
    "execution": {
     "iopub.execute_input": "2023-08-21T09:06:11.783807Z",
     "iopub.status.busy": "2023-08-21T09:06:11.783414Z",
     "iopub.status.idle": "2023-08-21T09:06:11.824460Z",
     "shell.execute_reply": "2023-08-21T09:06:11.822723Z"
    },
    "id": "382ccfbe",
    "outputId": "444c2b25-4f04-4769-af60-ecd2a5952113",
    "papermill": {
     "duration": 0.151028,
     "end_time": "2023-08-21T09:06:11.827078",
     "exception": false,
     "start_time": "2023-08-21T09:06:11.676050",
     "status": "completed"
    },
    "tags": []
   },
   "outputs": [
    {
     "data": {
      "text/html": [
       "<div>\n",
       "<style scoped>\n",
       "    .dataframe tbody tr th:only-of-type {\n",
       "        vertical-align: middle;\n",
       "    }\n",
       "\n",
       "    .dataframe tbody tr th {\n",
       "        vertical-align: top;\n",
       "    }\n",
       "\n",
       "    .dataframe thead th {\n",
       "        text-align: right;\n",
       "    }\n",
       "</style>\n",
       "<table border=\"1\" class=\"dataframe\">\n",
       "  <thead>\n",
       "    <tr style=\"text-align: right;\">\n",
       "      <th></th>\n",
       "      <th>Primary_Genre</th>\n",
       "      <th>Count</th>\n",
       "    </tr>\n",
       "  </thead>\n",
       "  <tbody>\n",
       "    <tr>\n",
       "      <th>7</th>\n",
       "      <td>Games</td>\n",
       "      <td>193641</td>\n",
       "    </tr>\n",
       "    <tr>\n",
       "      <th>1</th>\n",
       "      <td>Business</td>\n",
       "      <td>128203</td>\n",
       "    </tr>\n",
       "    <tr>\n",
       "      <th>3</th>\n",
       "      <td>Education</td>\n",
       "      <td>119114</td>\n",
       "    </tr>\n",
       "    <tr>\n",
       "      <th>24</th>\n",
       "      <td>Utilities</td>\n",
       "      <td>93937</td>\n",
       "    </tr>\n",
       "    <tr>\n",
       "      <th>10</th>\n",
       "      <td>Lifestyle</td>\n",
       "      <td>84493</td>\n",
       "    </tr>\n",
       "    <tr>\n",
       "      <th>6</th>\n",
       "      <td>Food &amp; Drink</td>\n",
       "      <td>72815</td>\n",
       "    </tr>\n",
       "    <tr>\n",
       "      <th>9</th>\n",
       "      <td>Health &amp; Fitness</td>\n",
       "      <td>60682</td>\n",
       "    </tr>\n",
       "    <tr>\n",
       "      <th>17</th>\n",
       "      <td>Productivity</td>\n",
       "      <td>59389</td>\n",
       "    </tr>\n",
       "    <tr>\n",
       "      <th>4</th>\n",
       "      <td>Entertainment</td>\n",
       "      <td>53076</td>\n",
       "    </tr>\n",
       "    <tr>\n",
       "      <th>19</th>\n",
       "      <td>Shopping</td>\n",
       "      <td>49493</td>\n",
       "    </tr>\n",
       "  </tbody>\n",
       "</table>\n",
       "</div>"
      ],
      "text/plain": [
       "       Primary_Genre   Count\n",
       "7              Games  193641\n",
       "1           Business  128203\n",
       "3          Education  119114\n",
       "24         Utilities   93937\n",
       "10         Lifestyle   84493\n",
       "6       Food & Drink   72815\n",
       "9   Health & Fitness   60682\n",
       "17      Productivity   59389\n",
       "4      Entertainment   53076\n",
       "19          Shopping   49493"
      ]
     },
     "execution_count": 56,
     "metadata": {},
     "output_type": "execute_result"
    }
   ],
   "source": [
    "# group the dataset by Primary_Genre and Type, and count the number of apps in each group\n",
    "top_Genre = df.groupby(['Primary_Genre']).size().reset_index(name='Count')\n",
    "\n",
    "##load top 10 free apps\n",
    "top_Genre = top_Genre.sort_values(by='Count', ascending=False).head(10)\n",
    "top_Genre.head(10)"
   ]
  },
  {
   "cell_type": "code",
   "execution_count": 57,
   "id": "5a0e9de4",
   "metadata": {
    "execution": {
     "iopub.execute_input": "2023-08-21T09:06:12.043328Z",
     "iopub.status.busy": "2023-08-21T09:06:12.042491Z",
     "iopub.status.idle": "2023-08-21T09:06:12.274157Z",
     "shell.execute_reply": "2023-08-21T09:06:12.273331Z"
    },
    "id": "5a0e9de4",
    "outputId": "cdea7b8d-36bf-46c6-f928-e62b933602b2",
    "papermill": {
     "duration": 0.344917,
     "end_time": "2023-08-21T09:06:12.277000",
     "exception": false,
     "start_time": "2023-08-21T09:06:11.932083",
     "status": "completed"
    },
    "tags": []
   },
   "outputs": [
    {
     "data": {
      "text/plain": [
       "Text(0.5, 1.0, ' Top Installed primary_Genre/Category Apps')"
      ]
     },
     "execution_count": 57,
     "metadata": {},
     "output_type": "execute_result"
    },
    {
     "data": {
      "image/png": "[encoded data removed]",
      "text/plain": [
       "<Figure size 2000x1000 with 1 Axes>"
      ]
     },
     "metadata": {},
     "output_type": "display_data"
    }
   ],
   "source": [
    "plt.figure(figsize=(20,10))\n",
    "data = top_Genre.groupby('Primary_Genre')['Count'].max().sort_values(ascending = True)\n",
    "data = data.head(10)\n",
    "labels = data.keys()\n",
    "plt.pie(data, labels= labels,autopct='%.0f%%')\n",
    "plt.title(\" Top Installed primary_Genre/Category Apps\", fontsize=15)"
   ]
  },
  {
   "cell_type": "markdown",
   "id": "5bd28d87",
   "metadata": {
    "id": "5bd28d87",
    "papermill": {
     "duration": 0.110052,
     "end_time": "2023-08-21T09:06:12.500887",
     "exception": false,
     "start_time": "2023-08-21T09:06:12.390835",
     "status": "completed"
    },
    "tags": []
   },
   "source": [
    "> Graph 8: Top Primary_Genre/Category Apps Installed"
   ]
  },
  {
   "cell_type": "markdown",
   "id": "0b6bbab2",
   "metadata": {
    "id": "0b6bbab2",
    "papermill": {
     "duration": 0.110701,
     "end_time": "2023-08-21T09:06:12.719846",
     "exception": false,
     "start_time": "2023-08-21T09:06:12.609145",
     "status": "completed"
    },
    "tags": []
   },
   "source": [
    "##### Insights:\n",
    "From the Grapgh 8 , games are the mostly installed apps"
   ]
  },
  {
   "cell_type": "markdown",
   "id": "7ad8d25f",
   "metadata": {
    "id": "7ad8d25f",
    "papermill": {
     "duration": 0.108504,
     "end_time": "2023-08-21T09:06:12.938700",
     "exception": false,
     "start_time": "2023-08-21T09:06:12.830196",
     "status": "completed"
    },
    "tags": []
   },
   "source": [
    "#### Q. What is the Distribution of App Size in M.B?"
   ]
  },
  {
   "cell_type": "code",
   "execution_count": 62,
   "id": "5be968c4",
   "metadata": {
    "execution": {
     "iopub.execute_input": "2023-08-21T09:06:13.157382Z",
     "iopub.status.busy": "2023-08-21T09:06:13.156562Z",
     "iopub.status.idle": "2023-08-21T09:06:13.486763Z",
     "shell.execute_reply": "2023-08-21T09:06:13.485485Z"
    },
    "id": "5be968c4",
    "outputId": "aa26d2f1-f91f-4c8c-df63-413738a0d4d6",
    "papermill": {
     "duration": 0.440955,
     "end_time": "2023-08-21T09:06:13.488921",
     "exception": false,
     "start_time": "2023-08-21T09:06:13.047966",
     "status": "completed"
    },
    "tags": []
   },
   "outputs": [
    {
     "data": {
      "image/png": "[encoded data removed]",
      "text/plain": [
       "<Figure size 1500x600 with 1 Axes>"
      ]
     },
     "metadata": {},
     "output_type": "display_data"
    }
   ],
   "source": [
    "plt.hist(df['Year'], bins=70)\n",
    "\n",
    "plt.title('Distribution of App Sizes in M.B')\n",
    "plt.grid()\n",
    "plt.show()"
   ]
  },
  {
   "cell_type": "markdown",
   "id": "e9796783",
   "metadata": {
    "id": "e9796783",
    "papermill": {
     "duration": 0.10545,
     "end_time": "2023-08-21T09:06:13.701198",
     "exception": false,
     "start_time": "2023-08-21T09:06:13.595748",
     "status": "completed"
    },
    "tags": []
   },
   "source": [
    "> Graph 9. Distribution of App Size(MB)"
   ]
  },
  {
   "cell_type": "code",
   "execution_count": 64,
   "id": "f426e44e",
   "metadata": {},
   "outputs": [
    {
     "data": {
      "text/html": [
       "<div>\n",
       "<style scoped>\n",
       "    .dataframe tbody tr th:only-of-type {\n",
       "        vertical-align: middle;\n",
       "    }\n",
       "\n",
       "    .dataframe tbody tr th {\n",
       "        vertical-align: top;\n",
       "    }\n",
       "\n",
       "    .dataframe thead th {\n",
       "        text-align: right;\n",
       "    }\n",
       "</style>\n",
       "<table border=\"1\" class=\"dataframe\">\n",
       "  <thead>\n",
       "    <tr style=\"text-align: right;\">\n",
       "      <th></th>\n",
       "      <th>App_Id</th>\n",
       "      <th>App_Name</th>\n",
       "      <th>AppStore_Url</th>\n",
       "      <th>Primary_Genre</th>\n",
       "      <th>Content_Rating</th>\n",
       "      <th>Required_IOS_Version</th>\n",
       "      <th>Released</th>\n",
       "      <th>Updated</th>\n",
       "      <th>Version</th>\n",
       "      <th>Price</th>\n",
       "      <th>...</th>\n",
       "      <th>Developer</th>\n",
       "      <th>Developer_Url</th>\n",
       "      <th>Average_User_Rating</th>\n",
       "      <th>Reviews</th>\n",
       "      <th>Current_Version_Score</th>\n",
       "      <th>Current_Version_Reviews</th>\n",
       "      <th>Size_MB</th>\n",
       "      <th>Year</th>\n",
       "      <th>Type</th>\n",
       "      <th>ReviewCategory</th>\n",
       "    </tr>\n",
       "  </thead>\n",
       "  <tbody>\n",
       "    <tr>\n",
       "      <th>0</th>\n",
       "      <td>com.hkbu.arc.apaper</td>\n",
       "      <td>A+ Paper Guide</td>\n",
       "      <td>https://apps.apple.com/us/app/a-paper-guide/id...</td>\n",
       "      <td>Education</td>\n",
       "      <td>Children</td>\n",
       "      <td>8.0</td>\n",
       "      <td>2017-09-28T03:02:41Z</td>\n",
       "      <td>2018-12-21T21:30:36Z</td>\n",
       "      <td>1.1.2</td>\n",
       "      <td>0.00</td>\n",
       "      <td>...</td>\n",
       "      <td>HKBU ARC</td>\n",
       "      <td>https://apps.apple.com/us/developer/hkbu-arc/i...</td>\n",
       "      <td>0</td>\n",
       "      <td>0</td>\n",
       "      <td>0.0</td>\n",
       "      <td>0</td>\n",
       "      <td>20.974609</td>\n",
       "      <td>2017</td>\n",
       "      <td>Free</td>\n",
       "      <td>NoReviewsProvided</td>\n",
       "    </tr>\n",
       "    <tr>\n",
       "      <th>1</th>\n",
       "      <td>com.dmitriev.abooks</td>\n",
       "      <td>A-Books</td>\n",
       "      <td>https://apps.apple.com/us/app/a-books/id103157...</td>\n",
       "      <td>Book</td>\n",
       "      <td>Children</td>\n",
       "      <td>10.0</td>\n",
       "      <td>2015-08-31T19:31:32Z</td>\n",
       "      <td>2019-07-23T20:31:09Z</td>\n",
       "      <td>1.3</td>\n",
       "      <td>0.00</td>\n",
       "      <td>...</td>\n",
       "      <td>Roman Dmitriev</td>\n",
       "      <td>https://apps.apple.com/us/developer/roman-dmit...</td>\n",
       "      <td>5</td>\n",
       "      <td>1</td>\n",
       "      <td>5.0</td>\n",
       "      <td>1</td>\n",
       "      <td>12.527344</td>\n",
       "      <td>2015</td>\n",
       "      <td>Free</td>\n",
       "      <td>Less than 10K</td>\n",
       "    </tr>\n",
       "    <tr>\n",
       "      <th>2</th>\n",
       "      <td>no.terp.abooks</td>\n",
       "      <td>A-books</td>\n",
       "      <td>https://apps.apple.com/us/app/a-books/id145702...</td>\n",
       "      <td>Book</td>\n",
       "      <td>Children</td>\n",
       "      <td>9.0</td>\n",
       "      <td>2021-04-14T07:00:00Z</td>\n",
       "      <td>2021-05-30T21:08:54Z</td>\n",
       "      <td>1.3.1</td>\n",
       "      <td>0.00</td>\n",
       "      <td>...</td>\n",
       "      <td>Terp AS</td>\n",
       "      <td>https://apps.apple.com/us/developer/terp-as/id...</td>\n",
       "      <td>0</td>\n",
       "      <td>0</td>\n",
       "      <td>0.0</td>\n",
       "      <td>0</td>\n",
       "      <td>20.926758</td>\n",
       "      <td>2021</td>\n",
       "      <td>Free</td>\n",
       "      <td>NoReviewsProvided</td>\n",
       "    </tr>\n",
       "    <tr>\n",
       "      <th>3</th>\n",
       "      <td>fr.antoinettefleur.Book1</td>\n",
       "      <td>A-F Book #1</td>\n",
       "      <td>https://apps.apple.com/us/app/a-f-book-1/id500...</td>\n",
       "      <td>Book</td>\n",
       "      <td>Children</td>\n",
       "      <td>8.0</td>\n",
       "      <td>2012-02-10T03:40:07Z</td>\n",
       "      <td>2019-10-29T12:40:37Z</td>\n",
       "      <td>1.2</td>\n",
       "      <td>2.99</td>\n",
       "      <td>...</td>\n",
       "      <td>i-editeur.com</td>\n",
       "      <td>https://apps.apple.com/us/developer/i-editeur-...</td>\n",
       "      <td>0</td>\n",
       "      <td>0</td>\n",
       "      <td>0.0</td>\n",
       "      <td>0</td>\n",
       "      <td>78.059570</td>\n",
       "      <td>2012</td>\n",
       "      <td>Paid</td>\n",
       "      <td>NoReviewsProvided</td>\n",
       "    </tr>\n",
       "    <tr>\n",
       "      <th>4</th>\n",
       "      <td>com.imonstersoft.azdictionaryios</td>\n",
       "      <td>A-Z Synonyms Dictionary</td>\n",
       "      <td>https://apps.apple.com/us/app/a-z-synonyms-dic...</td>\n",
       "      <td>Reference</td>\n",
       "      <td>Children</td>\n",
       "      <td>9.0</td>\n",
       "      <td>2020-12-16T08:00:00Z</td>\n",
       "      <td>2020-12-18T21:36:11Z</td>\n",
       "      <td>1.0.1</td>\n",
       "      <td>0.00</td>\n",
       "      <td>...</td>\n",
       "      <td>Ngov chiheang</td>\n",
       "      <td>https://apps.apple.com/us/developer/ngov-chihe...</td>\n",
       "      <td>0</td>\n",
       "      <td>0</td>\n",
       "      <td>0.0</td>\n",
       "      <td>0</td>\n",
       "      <td>61.695312</td>\n",
       "      <td>2020</td>\n",
       "      <td>Free</td>\n",
       "      <td>NoReviewsProvided</td>\n",
       "    </tr>\n",
       "  </tbody>\n",
       "</table>\n",
       "<p>5 rows × 22 columns</p>\n",
       "</div>"
      ],
      "text/plain": [
       "                             App_Id                 App_Name  \\\n",
       "0               com.hkbu.arc.apaper           A+ Paper Guide   \n",
       "1               com.dmitriev.abooks                  A-Books   \n",
       "2                    no.terp.abooks                  A-books   \n",
       "3          fr.antoinettefleur.Book1              A-F Book #1   \n",
       "4  com.imonstersoft.azdictionaryios  A-Z Synonyms Dictionary   \n",
       "\n",
       "                                        AppStore_Url Primary_Genre  \\\n",
       "0  https://apps.apple.com/us/app/a-paper-guide/id...     Education   \n",
       "1  https://apps.apple.com/us/app/a-books/id103157...          Book   \n",
       "2  https://apps.apple.com/us/app/a-books/id145702...          Book   \n",
       "3  https://apps.apple.com/us/app/a-f-book-1/id500...          Book   \n",
       "4  https://apps.apple.com/us/app/a-z-synonyms-dic...     Reference   \n",
       "\n",
       "  Content_Rating Required_IOS_Version              Released  \\\n",
       "0       Children                  8.0  2017-09-28T03:02:41Z   \n",
       "1       Children                 10.0  2015-08-31T19:31:32Z   \n",
       "2       Children                  9.0  2021-04-14T07:00:00Z   \n",
       "3       Children                  8.0  2012-02-10T03:40:07Z   \n",
       "4       Children                  9.0  2020-12-16T08:00:00Z   \n",
       "\n",
       "                Updated Version  Price  ...       Developer  \\\n",
       "0  2018-12-21T21:30:36Z   1.1.2   0.00  ...        HKBU ARC   \n",
       "1  2019-07-23T20:31:09Z     1.3   0.00  ...  Roman Dmitriev   \n",
       "2  2021-05-30T21:08:54Z   1.3.1   0.00  ...         Terp AS   \n",
       "3  2019-10-29T12:40:37Z     1.2   2.99  ...   i-editeur.com   \n",
       "4  2020-12-18T21:36:11Z   1.0.1   0.00  ...   Ngov chiheang   \n",
       "\n",
       "                                       Developer_Url Average_User_Rating  \\\n",
       "0  https://apps.apple.com/us/developer/hkbu-arc/i...                   0   \n",
       "1  https://apps.apple.com/us/developer/roman-dmit...                   5   \n",
       "2  https://apps.apple.com/us/developer/terp-as/id...                   0   \n",
       "3  https://apps.apple.com/us/developer/i-editeur-...                   0   \n",
       "4  https://apps.apple.com/us/developer/ngov-chihe...                   0   \n",
       "\n",
       "  Reviews  Current_Version_Score  Current_Version_Reviews    Size_MB  Year  \\\n",
       "0       0                    0.0                        0  20.974609  2017   \n",
       "1       1                    5.0                        1  12.527344  2015   \n",
       "2       0                    0.0                        0  20.926758  2021   \n",
       "3       0                    0.0                        0  78.059570  2012   \n",
       "4       0                    0.0                        0  61.695312  2020   \n",
       "\n",
       "   Type     ReviewCategory  \n",
       "0  Free  NoReviewsProvided  \n",
       "1  Free      Less than 10K  \n",
       "2  Free  NoReviewsProvided  \n",
       "3  Paid  NoReviewsProvided  \n",
       "4  Free  NoReviewsProvided  \n",
       "\n",
       "[5 rows x 22 columns]"
      ]
     },
     "execution_count": 64,
     "metadata": {},
     "output_type": "execute_result"
    }
   ],
   "source": [
    "df.head()"
   ]
  },
  {
   "cell_type": "markdown",
   "id": "eae507c6",
   "metadata": {
    "id": "eae507c6",
    "papermill": {
     "duration": 0.110126,
     "end_time": "2023-08-21T09:06:13.918557",
     "exception": false,
     "start_time": "2023-08-21T09:06:13.808431",
     "status": "completed"
    },
    "tags": []
   },
   "source": [
    "##### Insights:\n",
    "From the grapgh we came to know that Majority of app size(MB) is between 10 to 40 MB."
   ]
  },
  {
   "cell_type": "markdown",
   "id": "e4fe0a91",
   "metadata": {},
   "source": [
    "Q:what is the age of people and what they are watching?"
   ]
  },
  {
   "cell_type": "code",
   "execution_count": 74,
   "id": "beab60c7",
   "metadata": {},
   "outputs": [
    {
     "data": {
      "text/plain": [
       "<Axes: xlabel='Primary_Genre,Content_Rating'>"
      ]
     },
     "execution_count": 74,
     "metadata": {},
     "output_type": "execute_result"
    },
    {
     "data": {
      "image/png": "[encoded data removed]",
      "text/plain": [
       "<Figure size 1000x300 with 1 Axes>"
      ]
     },
     "metadata": {},
     "output_type": "display_data"
    }
   ],
   "source": [
    "df[['Primary_Genre','Content_Rating']].value_counts().plot(kind=\"area\",figsize=(10,3))"
   ]
  },
  {
   "cell_type": "markdown",
   "id": "b52a3080",
   "metadata": {
    "id": "b52a3080",
    "papermill": {
     "duration": 0.108683,
     "end_time": "2023-08-21T09:06:14.133874",
     "exception": false,
     "start_time": "2023-08-21T09:06:14.025191",
     "status": "completed"
    },
    "tags": []
   },
   "source": [
    "#### Q. What are the Top-5 Genre with respect to Average_User_Rating Over Years ?"
   ]
  },
  {
   "cell_type": "code",
   "execution_count": 63,
   "id": "20793cb6",
   "metadata": {
    "execution": {
     "iopub.execute_input": "2023-08-21T09:06:14.347294Z",
     "iopub.status.busy": "2023-08-21T09:06:14.346741Z",
     "iopub.status.idle": "2023-08-21T09:06:19.370537Z",
     "shell.execute_reply": "2023-08-21T09:06:19.369207Z"
    },
    "id": "20793cb6",
    "outputId": "77cce223-2879-4e33-c6a0-f08bfe4f4d91",
    "papermill": {
     "duration": 5.131225,
     "end_time": "2023-08-21T09:06:19.372878",
     "exception": false,
     "start_time": "2023-08-21T09:06:14.241653",
     "status": "completed"
    },
    "tags": []
   },
   "outputs": [
    {
     "data": {
      "image/png": "[encoded data removed]",
      "text/plain": [
       "<Figure size 1500x700 with 1 Axes>"
      ]
     },
     "metadata": {},
     "output_type": "display_data"
    }
   ],
   "source": [
    "plt.figure(figsize=(15, 7))\n",
    "sns.barplot(x='Year', y='Average_User_Rating', hue='Primary_Genre', data=df_top_genres)\n",
    "plt.title('Average User Rating Over Years by Primary Genre (Top-5-Genres)')\n",
    "plt.xlabel('Year')\n",
    "plt.ylabel('Average User Rating')\n",
    "plt.tight_layout()\n",
    "plt.legend(title='Primary Genre')\n",
    "plt.show()"
   ]
  },
  {
   "cell_type": "markdown",
   "id": "a143da62",
   "metadata": {
    "id": "a143da62",
    "papermill": {
     "duration": 0.10599,
     "end_time": "2023-08-21T09:06:19.595765",
     "exception": false,
     "start_time": "2023-08-21T09:06:19.489775",
     "status": "completed"
    },
    "tags": []
   },
   "source": [
    "> Graph 9. Top Primary_Genre w.r.t. Avg. User Rating"
   ]
  },
  {
   "cell_type": "markdown",
   "id": "d4138536",
   "metadata": {
    "id": "d4138536",
    "papermill": {
     "duration": 0.107759,
     "end_time": "2023-08-21T09:06:20.850814",
     "exception": false,
     "start_time": "2023-08-21T09:06:20.743055",
     "status": "completed"
    },
    "tags": []
   },
   "source": [
    "#### Insights\n",
    "From The graph we findout that Games, Finance, and  utilities got higher rating"
   ]
  },
  {
   "cell_type": "markdown",
   "id": "f065ea08",
   "metadata": {
    "id": "f065ea08",
    "papermill": {
     "duration": 0.107709,
     "end_time": "2023-08-21T09:06:21.067105",
     "exception": false,
     "start_time": "2023-08-21T09:06:20.959396",
     "status": "completed"
    },
    "tags": []
   },
   "source": [
    "### 6. Summary\n",
    "The EDA exercise on the Apple App Store dataset yielded numerous exciting insights. The dataset was relatively clean and consistent throughout the analysis. We posed several questions to the dataset and provided detailed answers and findings as follows:"
   ]
  },
  {
   "cell_type": "markdown",
   "id": "4ce672f3",
   "metadata": {
    "id": "4ce672f3",
    "papermill": {
     "duration": 0.108407,
     "end_time": "2023-08-21T09:06:21.280904",
     "exception": false,
     "start_time": "2023-08-21T09:06:21.172497",
     "status": "completed"
    },
    "tags": []
   },
   "source": [
    "During this EDA exercise, we achieved several milestones. We removed null values from the dataset and found no duplications, except for app names. However, these were unique records with different versions, AppIds, and release dates. Our findings show that gaming apps are the most downloaded, and the top 10 highest-rated primary genres based on average user ratings are Weather, Games, Photo &amp; Videos, Music, and Books. We also found that the highest content rating for apps isis for children, adults, teens, and everyone, with a breakdown based on the number of apps under each category. We attempted to find a correlation between app size and price but found that, except for a few exceptions, the size of the app is irrelevant to the price. We also discovered that the higher the user rating, the higher the app's price."
   ]
  }
 ],
 "metadata": {
  "colab": {
   "provenance": []
  },
  "kernelspec": {
   "display_name": "Python 3 (ipykernel)",
   "language": "python",
   "name": "python3"
  },
  "language_info": {
   "codemirror_mode": {
    "name": "ipython",
    "version": 3
   },
   "file_extension": ".py",
   "mimetype": "text/x-python",
   "name": "python",
   "nbconvert_exporter": "python",
   "pygments_lexer": "ipython3",
   "version": "3.11.4"
  },
  "papermill": {
   "default_parameters": {},
   "duration": 98.347526,
   "end_time": "2023-08-21T09:06:23.113878",
   "environment_variables": {},
   "exception": null,
   "input_path": "__notebook__.ipynb",
   "output_path": "__notebook__.ipynb",
   "parameters": {},
   "start_time": "2023-08-21T09:04:44.766352",
   "version": "2.4.0"
  }
 },
 "nbformat": 4,
 "nbformat_minor": 5
}
